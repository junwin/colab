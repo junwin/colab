{
  "nbformat": 4,
  "nbformat_minor": 0,
  "metadata": {
    "colab": {
      "name": "Untitled1.ipynb",
      "provenance": [],
      "authorship_tag": "ABX9TyMsIcqyOV8YGxW4eZD0WX4Y",
      "include_colab_link": true
    },
    "kernelspec": {
      "name": "python3",
      "display_name": "Python 3"
    }
  },
  "cells": [
    {
      "cell_type": "markdown",
      "metadata": {
        "id": "view-in-github",
        "colab_type": "text"
      },
      "source": [
        "<a href=\"https://colab.research.google.com/github/junwin/colab/blob/main/UsingSavedHousePriceModel.ipynb\" target=\"_parent\"><img src=\"https://colab.research.google.com/assets/colab-badge.svg\" alt=\"Open In Colab\"/></a>"
      ]
    },
    {
      "cell_type": "code",
      "metadata": {
        "id": "wMjfMF2ptvKw"
      },
      "source": [
        "#@title Dependancies\r\n",
        "import pandas as pd\r\n",
        "! pip install tensorflow==2.4.0\r\n",
        "# TensorFlow is an open source machine learning library\r\n",
        "import tensorflow as tf\r\n",
        "\r\n",
        "# Keras is TensorFlow's high-level API for deep learning\r\n",
        "from tensorflow import keras\r\n",
        "from tensorflow.keras import regularizers\r\n",
        "# Numpy is a math library\r\n",
        "import numpy as np\r\n",
        "# Pandas is a data manipulation library \r\n",
        "import pandas as pd\r\n",
        "# Matplotlib is a graphing library\r\n",
        "import matplotlib.pyplot as plt\r\n",
        "# Math is Python's math library\r\n",
        "import math\r\n",
        "from sklearn import preprocessing\r\n",
        "from sklearn.preprocessing import MinMaxScaler,StandardScaler"
      ],
      "execution_count": null,
      "outputs": []
    },
    {
      "cell_type": "code",
      "metadata": {
        "colab": {
          "base_uri": "https://localhost:8080/"
        },
        "id": "n9ZcNfs_wmdN",
        "outputId": "8854cbf4-c550-4d76-a75b-19e19b7c65f3"
      },
      "source": [
        "! unzip  /content/myModel.zip"
      ],
      "execution_count": 2,
      "outputs": [
        {
          "output_type": "stream",
          "text": [
            "Archive:  /content/myModel.zip\n",
            "  inflating: my_cool_encoder.pkl     \n",
            "  inflating: my_cool_model.pkl       \n",
            "  inflating: my_cool_pxscaler.pkl    \n",
            "  inflating: my_cool_scaler.pkl      \n",
            "   creating: model/\n",
            "  inflating: model/saved_model.pb    \n",
            "   creating: model/assets/\n",
            "   creating: model/variables/\n",
            "  inflating: model/variables/variables.index  \n",
            "  inflating: model/variables/variables.data-00000-of-00001  \n"
          ],
          "name": "stdout"
        }
      ]
    },
    {
      "cell_type": "code",
      "metadata": {
        "id": "8OXprmWXt09I"
      },
      "source": [
        "model_1 = keras.models.load_model(\"model\")\r\n"
      ],
      "execution_count": 6,
      "outputs": []
    },
    {
      "cell_type": "code",
      "metadata": {
        "id": "-uXPgNYEuC36"
      },
      "source": [
        "import joblib \r\n",
        "\r\n",
        "featureScaler = joblib.load('/content/my_cool_scaler.pkl')\r\n",
        "priceScaler = joblib.load('/content/my_cool_pxscaler.pkl')\r\n",
        "enc = joblib.load('/content/my_cool_encoder.pkl')  \r\n",
        "ordinalColumns = ['YearClosed', 'Type', 'Zip']"
      ],
      "execution_count": 10,
      "outputs": []
    },
    {
      "cell_type": "code",
      "metadata": {
        "colab": {
          "base_uri": "https://localhost:8080/"
        },
        "id": "01AwAM4qu_c-",
        "outputId": "d36767b5-ec91-46d0-d9ff-c00762147028"
      },
      "source": [
        "#Simple Sample\r\n",
        "houseData = {'YearClosed': [2020.00, 2020.00, 2019.00, 2019],\r\n",
        "\t'Type': ['SFH', 'SFH', 'Condo', 'Townhouse'],\r\n",
        "\t'Area': [2940, 1500, 1500, 1500],\r\n",
        "  'Zip': [60002, 60076, 60076, 60076],\r\n",
        "\t'Rooms': [9, 7, 7, 7],\r\n",
        "  'FullBaths': [2.5, 2.5, 2.5, 2.5],\r\n",
        "  'Beds': [4, 3, 3, 3],\r\n",
        "  'GarageSpaces': [2, 2, 0, 0]  }\r\n",
        "\r\n",
        "houseInfo = pd.DataFrame(houseData)\r\n",
        "ordinalData = houseInfo[ordinalColumns]\r\n",
        "houseInfo[ordinalColumns] = enc.transform(ordinalData)\r\n",
        "\r\n",
        "\r\n",
        "houseInfo =  pd.DataFrame(featureScaler.transform(houseInfo), columns=houseInfo.columns)\r\n",
        "newPrices = priceScaler.inverse_transform(model_1.predict(houseInfo))\r\n",
        "print(newPrices)\r\n"
      ],
      "execution_count": 11,
      "outputs": [
        {
          "output_type": "stream",
          "text": [
            "[[280938.8 ]\n",
            " [366879.6 ]\n",
            " [211922.66]\n",
            " [274245.03]]\n"
          ],
          "name": "stdout"
        }
      ]
    }
  ]
}