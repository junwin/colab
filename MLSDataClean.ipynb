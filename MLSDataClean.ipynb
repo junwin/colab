{
  "nbformat": 4,
  "nbformat_minor": 0,
  "metadata": {
    "colab": {
      "name": "MLSDataClean.ipynb",
      "provenance": [],
      "collapsed_sections": [],
      "history_visible": true,
      "authorship_tag": "ABX9TyNuOqR1we81XqkjjNrZIE9x",
      "include_colab_link": true
    },
    "kernelspec": {
      "name": "python3",
      "display_name": "Python 3"
    }
  },
  "cells": [
    {
      "cell_type": "markdown",
      "metadata": {
        "id": "view-in-github",
        "colab_type": "text"
      },
      "source": [
        "<a href=\"https://colab.research.google.com/github/junwin/colab/blob/main/MLSDataClean.ipynb\" target=\"_parent\"><img src=\"https://colab.research.google.com/assets/colab-badge.svg\" alt=\"Open In Colab\"/></a>"
      ]
    },
    {
      "cell_type": "markdown",
      "metadata": {
        "id": "m8wc-YVu0v7h"
      },
      "source": [
        "# Clean and convert MLS data exported to excel workbooks\r\n",
        "\r\n",
        "This utility reads one or more Excel workbooks of data exported from the MLS and outputs a CSV file that can be used to train a Tensorflow model."
      ]
    },
    {
      "cell_type": "code",
      "metadata": {
        "id": "v46_M_FYoPC_"
      },
      "source": [
        "#@title Dependancies\r\n",
        "import pandas as pd\r\n",
        "\r\n",
        "import numpy as np\r\n",
        "# Pandas is a data manipulation library \r\n",
        "import pandas as pd\r\n",
        "# Matplotlib is a graphing library\r\n",
        "import matplotlib.pyplot as plt\r\n",
        "# Math is Python's math library\r\n",
        "import math\r\n",
        "from sklearn import preprocessing\r\n",
        "from sklearn.preprocessing import MinMaxScaler,StandardScaler\r\n",
        "import datetime\r\n",
        "import os"
      ],
      "execution_count": 151,
      "outputs": []
    },
    {
      "cell_type": "code",
      "metadata": {
        "id": "6I3B9zFPoUe-"
      },
      "source": [
        "#url=\"/content/MLSReportDetachedGlenview.csv\"\r\n",
        "#rawData=pd.read_csv(url).sample(frac=1)\r\n",
        "#rawData.describe()"
      ],
      "execution_count": 152,
      "outputs": []
    },
    {
      "cell_type": "code",
      "metadata": {
        "id": "GGZVcILx-p4r"
      },
      "source": [
        "cleanData = pd.DataFrame()\r\n",
        "\r\n",
        "#MLS#\tStat\tClosedDate\tYearClosed\tSoldPr\tType\tYearBuilt\tStreet#\tStrName\tLocale\tZip\tArea\tRooms\tFullBaths\tHalfBaths\tBsmtBth\tBeds\tBsmtBeds\tGarageType\tGarageSpaces\tParkingSpaces\r\n",
        "requiredColumns = ['MLS #','Stat','ClosedDate','YearClosed','SoldPr','Type','YearBuilt','Street#','StrName','Locale','Zip','Area','Rooms','FullBaths','HalfBaths','BsmtBth','Beds','BsmtBeds','GarageType','GarageSpaces','ParkingSpaces']\r\n",
        "houseInfo =  pd.DataFrame( columns=requiredColumns)"
      ],
      "execution_count": 153,
      "outputs": []
    },
    {
      "cell_type": "markdown",
      "metadata": {
        "id": "UztNqquR1Qpp"
      },
      "source": [
        "#Functions and main data processing for each file"
      ]
    },
    {
      "cell_type": "code",
      "metadata": {
        "id": "gCYjn8xlp6A9"
      },
      "source": [
        "def cleanType(houseDataRow, filePath):\r\n",
        "  if 'detached' in filePath.lower():\r\n",
        "    houseDataRow['Type'] = 'SFH'\r\n",
        "  elif 'condo' in houseDataRow['Type'].lower():\r\n",
        "    houseDataRow['Type'] = 'Condo'\r\n",
        "  elif 'townhouse' in houseDataRow['Type'].lower():\r\n",
        "    houseDataRow['Type'] = 'Townhouse'\r\n",
        "  elif 'duplex' in houseDataRow['Type'].lower():\r\n",
        "    houseDataRow['Type'] = 'Duplex'\r\n",
        "  else:\r\n",
        "    return False\r\n",
        "\r\n",
        "  return True\r\n",
        "\r\n",
        "def cleanDates(houseDataRow):\r\n",
        "  if not pd.isnull( houseDataRow['ClosedDate']):\r\n",
        "    #date_time_obj = datetime.datetime.strptime(houseDataRow['ClosedDate'], '%m/%d/%Y')\r\n",
        "    houseDataRow['YearClosed'] = houseDataRow['ClosedDate'].year\r\n",
        "\r\n",
        "def cleanGarageData(houseDataRow):\r\n",
        "  if pd.isnull( houseDataRow['GarageSpaces']) or pd.isna( houseDataRow['GarageSpaces']):\r\n",
        "    houseDataRow['GarageSpaces'] = 0\r\n",
        "  if pd.isnull( houseDataRow['ParkingSpaces']) or pd.isna( houseDataRow['ParkingSpaces']):\r\n",
        "    houseDataRow['ParkingSpaces'] = 0\r\n",
        "  if pd.isnull( houseDataRow['GarageType']) or pd.isna( houseDataRow['GarageType']):\r\n",
        "    houseDataRow['GarageType'] = 'None'\r\n",
        "\r\n",
        "\r\n",
        "def processMlsCsvFile(filePath, houseInfo):\r\n",
        "  #url=\"/content/MLSReportDetachedGlenview.csv\"\r\n",
        "  #rawData=pd.read_csv(filePath).sample(frac=1)\r\n",
        "  rawData=pd.read_excel(filePath,header=0)\r\n",
        "  #rawData.describe()\r\n",
        "  for i, row in rawData.iterrows():\r\n",
        "    numBeds=0\r\n",
        "    if 'Beds' in rawData.columns:\r\n",
        "      numBeds=row['Beds']\r\n",
        "    elif 'All Beds' in rawData.columns:\r\n",
        "      numBeds = row['All Beds']\r\n",
        "    else:\r\n",
        "      continue\r\n",
        "\r\n",
        "    if not str.isnumeric(str(numBeds)):\r\n",
        "      continue\r\n",
        "\r\n",
        "    houseData = {'MLS #': row['MLS #'],\r\n",
        "    'Stat': row['Stat'],\r\n",
        "    'ClosedDate': row['Closed Date'],\r\n",
        "    'YearClosed': row['Closed Date'],\r\n",
        "    'SoldPr': row['Sold Pr'],\r\n",
        "    'Type': row['Type'],\r\n",
        "    'YearBuilt': row['Yr Blt'],\r\n",
        "    'Street#': row['Street #'],\r\n",
        "    'StrName': row['Str Name'],\r\n",
        "    'Locale': row['Area'],\r\n",
        "    'Zip': row['Zip'],\r\n",
        "    'Area': row['ASF'],\r\n",
        "    'Rooms': row['# Rms'],\r\n",
        "    'FullBaths': row['# Full Baths'],\r\n",
        "    'HalfBaths': row['# Half Baths'],\r\n",
        "    'BsmtBth': row['Bsmt Bth'],\r\n",
        "    'Beds': numBeds,\r\n",
        "    'BsmtBeds': row['Bsmt. Beds'],\r\n",
        "    'GarageType': row['Garage Type'],\r\n",
        "    'GarageSpaces': row['# Garage Spaces'],\r\n",
        "    'ParkingSpaces': row['# Parking Spaces'] }\r\n",
        "\r\n",
        "    if pd.isnull( houseData['Area']) or pd.isna( houseData['Area']) or houseData['Area'] == 0 :\r\n",
        "      continue\r\n",
        "    if pd.isnull( houseData['BsmtBth']) or pd.isna( houseData['BsmtBth']):\r\n",
        "      houseData['BsmtBth']='No'\r\n",
        "\r\n",
        "    \r\n",
        "    if not cleanType(houseData, filePath):\r\n",
        "      continue\r\n",
        "    \r\n",
        "    cleanGarageData(houseData)\r\n",
        "    \r\n",
        "    cleanDates(houseData)\r\n",
        "   \r\n",
        "    houseInfo = houseInfo.append(pd.Series(houseData), ignore_index=True)\r\n",
        "\r\n",
        "\r\n",
        "  return houseInfo\r\n",
        "\r\n",
        "\r\n"
      ],
      "execution_count": 154,
      "outputs": []
    },
    {
      "cell_type": "markdown",
      "metadata": {
        "id": "qvYPn2OY1jpW"
      },
      "source": [
        "#Open files and process data"
      ]
    },
    {
      "cell_type": "code",
      "metadata": {
        "colab": {
          "base_uri": "https://localhost:8080/"
        },
        "id": "wo9ZG93J7_4e",
        "outputId": "5ff47d9c-cf48-4171-959b-f7dc9f165072"
      },
      "source": [
        "houseInfo =  pd.DataFrame( columns=requiredColumns)\r\n",
        "#/content/MLSReportDetachedGlenview.csv\r\n",
        "path = '/content/'\r\n",
        "fileList = os.listdir(path)\r\n",
        "for i in fileList:\r\n",
        "    if i.endswith(\".xlsx\"):\r\n",
        "      filePath = path + i\r\n",
        "      print(filePath)\r\n",
        "      #addedRows = processMlsCsvFile(filePath, houseInfo)\r\n",
        "      #houseInfo = houseInfo.append(addedRows)\r\n",
        "      houseInfo = processMlsCsvFile(filePath, houseInfo)\r\n",
        "\r\n",
        "\r\n",
        "houseInfo.to_csv('/content/clean.csv', index=False)\r\n"
      ],
      "execution_count": 155,
      "outputs": [
        {
          "output_type": "stream",
          "text": [
            "/content/MLS Report Detached Morton Grove_2019 and 2020.xlsx\n",
            "/content/MLS Report Attached Wilmette_2019 and 2020.xlsx\n",
            "/content/MLS Report Attached Morton Grove_2019 and 2020.xlsx\n",
            "/content/MLS Report Attached Glenview_2019 and 2020.xlsx\n",
            "/content/MLS Report Detached Glenview_2019 and 2020.xlsx\n",
            "/content/MLS Report Detached Wilmette_2019 and 2020.xlsx\n"
          ],
          "name": "stdout"
        }
      ]
    }
  ]
}