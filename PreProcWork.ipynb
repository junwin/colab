{
  "nbformat": 4,
  "nbformat_minor": 0,
  "metadata": {
    "colab": {
      "name": "Untitled8.ipynb",
      "provenance": [],
      "history_visible": true,
      "authorship_tag": "ABX9TyONR08ctYR1EXWkTdZ4P/n+",
      "include_colab_link": true
    },
    "kernelspec": {
      "name": "python3",
      "display_name": "Python 3"
    }
  },
  "cells": [
    {
      "cell_type": "markdown",
      "metadata": {
        "id": "view-in-github",
        "colab_type": "text"
      },
      "source": [
        "<a href=\"https://colab.research.google.com/github/junwin/colab/blob/main/PreProcWork.ipynb\" target=\"_parent\"><img src=\"https://colab.research.google.com/assets/colab-badge.svg\" alt=\"Open In Colab\"/></a>"
      ]
    },
    {
      "cell_type": "code",
      "metadata": {
        "colab": {
          "base_uri": "https://localhost:8080/"
        },
        "id": "uGHJSe4-ip72",
        "outputId": "f7bc7b61-d49f-476e-de54-d4d1b571eed9"
      },
      "source": [
        "#@title Dependancies\r\n",
        "import pandas as pd\r\n",
        "! pip install tensorflow==2.4.0\r\n",
        "# TensorFlow is an open source machine learning library\r\n",
        "import tensorflow as tf\r\n",
        "\r\n",
        "# Keras is TensorFlow's high-level API for deep learning\r\n",
        "from tensorflow import keras\r\n",
        "from tensorflow.keras import regularizers\r\n",
        "# Numpy is a math library\r\n",
        "import numpy as np\r\n",
        "# Pandas is a data manipulation library \r\n",
        "import pandas as pd\r\n",
        "# Matplotlib is a graphing library\r\n",
        "import matplotlib.pyplot as plt\r\n",
        "# Math is Python's math library\r\n",
        "import math\r\n",
        "from sklearn import preprocessing\r\n",
        "from sklearn.preprocessing import MinMaxScaler,StandardScaler\r\n",
        "\r\n",
        "\r\n",
        "from sklearn.model_selection import train_test_split\r\n",
        "from tensorflow.keras import layers\r\n",
        "from tensorflow.keras.layers.experimental import preprocessing"
      ],
      "execution_count": 1,
      "outputs": [
        {
          "output_type": "stream",
          "text": [
            "Requirement already satisfied: tensorflow==2.4.0 in /usr/local/lib/python3.6/dist-packages (2.4.0)\n",
            "Requirement already satisfied: opt-einsum~=3.3.0 in /usr/local/lib/python3.6/dist-packages (from tensorflow==2.4.0) (3.3.0)\n",
            "Requirement already satisfied: gast==0.3.3 in /usr/local/lib/python3.6/dist-packages (from tensorflow==2.4.0) (0.3.3)\n",
            "Requirement already satisfied: protobuf>=3.9.2 in /usr/local/lib/python3.6/dist-packages (from tensorflow==2.4.0) (3.12.4)\n",
            "Requirement already satisfied: grpcio~=1.32.0 in /usr/local/lib/python3.6/dist-packages (from tensorflow==2.4.0) (1.32.0)\n",
            "Requirement already satisfied: absl-py~=0.10 in /usr/local/lib/python3.6/dist-packages (from tensorflow==2.4.0) (0.10.0)\n",
            "Requirement already satisfied: six~=1.15.0 in /usr/local/lib/python3.6/dist-packages (from tensorflow==2.4.0) (1.15.0)\n",
            "Requirement already satisfied: wrapt~=1.12.1 in /usr/local/lib/python3.6/dist-packages (from tensorflow==2.4.0) (1.12.1)\n",
            "Requirement already satisfied: tensorflow-estimator<2.5.0,>=2.4.0rc0 in /usr/local/lib/python3.6/dist-packages (from tensorflow==2.4.0) (2.4.0)\n",
            "Requirement already satisfied: numpy~=1.19.2 in /usr/local/lib/python3.6/dist-packages (from tensorflow==2.4.0) (1.19.5)\n",
            "Requirement already satisfied: termcolor~=1.1.0 in /usr/local/lib/python3.6/dist-packages (from tensorflow==2.4.0) (1.1.0)\n",
            "Requirement already satisfied: tensorboard~=2.4 in /usr/local/lib/python3.6/dist-packages (from tensorflow==2.4.0) (2.4.0)\n",
            "Requirement already satisfied: astunparse~=1.6.3 in /usr/local/lib/python3.6/dist-packages (from tensorflow==2.4.0) (1.6.3)\n",
            "Requirement already satisfied: keras-preprocessing~=1.1.2 in /usr/local/lib/python3.6/dist-packages (from tensorflow==2.4.0) (1.1.2)\n",
            "Requirement already satisfied: flatbuffers~=1.12.0 in /usr/local/lib/python3.6/dist-packages (from tensorflow==2.4.0) (1.12)\n",
            "Requirement already satisfied: typing-extensions~=3.7.4 in /usr/local/lib/python3.6/dist-packages (from tensorflow==2.4.0) (3.7.4.3)\n",
            "Requirement already satisfied: wheel~=0.35 in /usr/local/lib/python3.6/dist-packages (from tensorflow==2.4.0) (0.36.2)\n",
            "Requirement already satisfied: google-pasta~=0.2 in /usr/local/lib/python3.6/dist-packages (from tensorflow==2.4.0) (0.2.0)\n",
            "Requirement already satisfied: h5py~=2.10.0 in /usr/local/lib/python3.6/dist-packages (from tensorflow==2.4.0) (2.10.0)\n",
            "Requirement already satisfied: setuptools in /usr/local/lib/python3.6/dist-packages (from protobuf>=3.9.2->tensorflow==2.4.0) (51.3.3)\n",
            "Requirement already satisfied: markdown>=2.6.8 in /usr/local/lib/python3.6/dist-packages (from tensorboard~=2.4->tensorflow==2.4.0) (3.3.3)\n",
            "Requirement already satisfied: requests<3,>=2.21.0 in /usr/local/lib/python3.6/dist-packages (from tensorboard~=2.4->tensorflow==2.4.0) (2.23.0)\n",
            "Requirement already satisfied: werkzeug>=0.11.15 in /usr/local/lib/python3.6/dist-packages (from tensorboard~=2.4->tensorflow==2.4.0) (1.0.1)\n",
            "Requirement already satisfied: google-auth-oauthlib<0.5,>=0.4.1 in /usr/local/lib/python3.6/dist-packages (from tensorboard~=2.4->tensorflow==2.4.0) (0.4.2)\n",
            "Requirement already satisfied: google-auth<2,>=1.6.3 in /usr/local/lib/python3.6/dist-packages (from tensorboard~=2.4->tensorflow==2.4.0) (1.17.2)\n",
            "Requirement already satisfied: tensorboard-plugin-wit>=1.6.0 in /usr/local/lib/python3.6/dist-packages (from tensorboard~=2.4->tensorflow==2.4.0) (1.7.0)\n",
            "Requirement already satisfied: importlib-metadata; python_version < \"3.8\" in /usr/local/lib/python3.6/dist-packages (from markdown>=2.6.8->tensorboard~=2.4->tensorflow==2.4.0) (3.3.0)\n",
            "Requirement already satisfied: idna<3,>=2.5 in /usr/local/lib/python3.6/dist-packages (from requests<3,>=2.21.0->tensorboard~=2.4->tensorflow==2.4.0) (2.10)\n",
            "Requirement already satisfied: urllib3!=1.25.0,!=1.25.1,<1.26,>=1.21.1 in /usr/local/lib/python3.6/dist-packages (from requests<3,>=2.21.0->tensorboard~=2.4->tensorflow==2.4.0) (1.24.3)\n",
            "Requirement already satisfied: chardet<4,>=3.0.2 in /usr/local/lib/python3.6/dist-packages (from requests<3,>=2.21.0->tensorboard~=2.4->tensorflow==2.4.0) (3.0.4)\n",
            "Requirement already satisfied: certifi>=2017.4.17 in /usr/local/lib/python3.6/dist-packages (from requests<3,>=2.21.0->tensorboard~=2.4->tensorflow==2.4.0) (2020.12.5)\n",
            "Requirement already satisfied: requests-oauthlib>=0.7.0 in /usr/local/lib/python3.6/dist-packages (from google-auth-oauthlib<0.5,>=0.4.1->tensorboard~=2.4->tensorflow==2.4.0) (1.3.0)\n",
            "Requirement already satisfied: pyasn1-modules>=0.2.1 in /usr/local/lib/python3.6/dist-packages (from google-auth<2,>=1.6.3->tensorboard~=2.4->tensorflow==2.4.0) (0.2.8)\n",
            "Requirement already satisfied: rsa<5,>=3.1.4; python_version >= \"3\" in /usr/local/lib/python3.6/dist-packages (from google-auth<2,>=1.6.3->tensorboard~=2.4->tensorflow==2.4.0) (4.6)\n",
            "Requirement already satisfied: cachetools<5.0,>=2.0.0 in /usr/local/lib/python3.6/dist-packages (from google-auth<2,>=1.6.3->tensorboard~=2.4->tensorflow==2.4.0) (4.2.0)\n",
            "Requirement already satisfied: zipp>=0.5 in /usr/local/lib/python3.6/dist-packages (from importlib-metadata; python_version < \"3.8\"->markdown>=2.6.8->tensorboard~=2.4->tensorflow==2.4.0) (3.4.0)\n",
            "Requirement already satisfied: oauthlib>=3.0.0 in /usr/local/lib/python3.6/dist-packages (from requests-oauthlib>=0.7.0->google-auth-oauthlib<0.5,>=0.4.1->tensorboard~=2.4->tensorflow==2.4.0) (3.1.0)\n",
            "Requirement already satisfied: pyasn1<0.5.0,>=0.4.6 in /usr/local/lib/python3.6/dist-packages (from pyasn1-modules>=0.2.1->google-auth<2,>=1.6.3->tensorboard~=2.4->tensorflow==2.4.0) (0.4.8)\n"
          ],
          "name": "stdout"
        }
      ]
    },
    {
      "cell_type": "code",
      "metadata": {
        "colab": {
          "base_uri": "https://localhost:8080/",
          "height": 320
        },
        "id": "be_2NKCtiuyw",
        "outputId": "173317bb-cb56-4ff2-afc8-9393f881c909"
      },
      "source": [
        "url=\"https://junwin.github.io/HouseData3.csv\"\r\n",
        "rawData=pd.read_csv(url).sample(frac=1)\r\n",
        "rawData.describe()\r\n",
        "\r\n"
      ],
      "execution_count": 2,
      "outputs": [
        {
          "output_type": "execute_result",
          "data": {
            "text/html": [
              "<div>\n",
              "<style scoped>\n",
              "    .dataframe tbody tr th:only-of-type {\n",
              "        vertical-align: middle;\n",
              "    }\n",
              "\n",
              "    .dataframe tbody tr th {\n",
              "        vertical-align: top;\n",
              "    }\n",
              "\n",
              "    .dataframe thead th {\n",
              "        text-align: right;\n",
              "    }\n",
              "</style>\n",
              "<table border=\"1\" class=\"dataframe\">\n",
              "  <thead>\n",
              "    <tr style=\"text-align: right;\">\n",
              "      <th></th>\n",
              "      <th>MLS#</th>\n",
              "      <th>YearClosed</th>\n",
              "      <th>SoldPr</th>\n",
              "      <th>Locale</th>\n",
              "      <th>Zip</th>\n",
              "      <th>Area</th>\n",
              "      <th>Rooms</th>\n",
              "      <th>FullBaths</th>\n",
              "      <th>HalfBaths</th>\n",
              "      <th>Beds</th>\n",
              "      <th>BsmtBeds</th>\n",
              "      <th>GarageSpaces</th>\n",
              "      <th>ParkingSpaces</th>\n",
              "    </tr>\n",
              "  </thead>\n",
              "  <tbody>\n",
              "    <tr>\n",
              "      <th>count</th>\n",
              "      <td>9.605000e+03</td>\n",
              "      <td>9605.000000</td>\n",
              "      <td>9.605000e+03</td>\n",
              "      <td>9605.000000</td>\n",
              "      <td>9605.000000</td>\n",
              "      <td>9605.000000</td>\n",
              "      <td>9605.000000</td>\n",
              "      <td>9605.000000</td>\n",
              "      <td>9605.000000</td>\n",
              "      <td>9605.000000</td>\n",
              "      <td>9605.000000</td>\n",
              "      <td>9605.000000</td>\n",
              "      <td>9605.000000</td>\n",
              "    </tr>\n",
              "    <tr>\n",
              "      <th>mean</th>\n",
              "      <td>1.037041e+07</td>\n",
              "      <td>2019.130765</td>\n",
              "      <td>4.643093e+05</td>\n",
              "      <td>78.721603</td>\n",
              "      <td>60079.478605</td>\n",
              "      <td>2222.006767</td>\n",
              "      <td>7.968974</td>\n",
              "      <td>2.225299</td>\n",
              "      <td>0.549922</td>\n",
              "      <td>3.222957</td>\n",
              "      <td>0.144300</td>\n",
              "      <td>1.660718</td>\n",
              "      <td>0.409787</td>\n",
              "    </tr>\n",
              "    <tr>\n",
              "      <th>std</th>\n",
              "      <td>3.808318e+05</td>\n",
              "      <td>0.948912</td>\n",
              "      <td>3.246592e+05</td>\n",
              "      <td>59.308417</td>\n",
              "      <td>67.705670</td>\n",
              "      <td>1243.632265</td>\n",
              "      <td>2.500578</td>\n",
              "      <td>0.987977</td>\n",
              "      <td>0.578789</td>\n",
              "      <td>1.033955</td>\n",
              "      <td>0.388828</td>\n",
              "      <td>1.342160</td>\n",
              "      <td>3.543110</td>\n",
              "    </tr>\n",
              "    <tr>\n",
              "      <th>min</th>\n",
              "      <td>8.866215e+06</td>\n",
              "      <td>2017.000000</td>\n",
              "      <td>2.500000e+04</td>\n",
              "      <td>2.000000</td>\n",
              "      <td>60002.000000</td>\n",
              "      <td>372.000000</td>\n",
              "      <td>1.000000</td>\n",
              "      <td>0.000000</td>\n",
              "      <td>0.000000</td>\n",
              "      <td>0.000000</td>\n",
              "      <td>0.000000</td>\n",
              "      <td>0.000000</td>\n",
              "      <td>0.000000</td>\n",
              "    </tr>\n",
              "    <tr>\n",
              "      <th>25%</th>\n",
              "      <td>1.013837e+07</td>\n",
              "      <td>2019.000000</td>\n",
              "      <td>2.600000e+05</td>\n",
              "      <td>53.000000</td>\n",
              "      <td>60053.000000</td>\n",
              "      <td>1344.000000</td>\n",
              "      <td>6.000000</td>\n",
              "      <td>2.000000</td>\n",
              "      <td>0.000000</td>\n",
              "      <td>3.000000</td>\n",
              "      <td>0.000000</td>\n",
              "      <td>1.000000</td>\n",
              "      <td>0.000000</td>\n",
              "    </tr>\n",
              "    <tr>\n",
              "      <th>50%</th>\n",
              "      <td>1.043821e+07</td>\n",
              "      <td>2019.000000</td>\n",
              "      <td>3.650000e+05</td>\n",
              "      <td>62.000000</td>\n",
              "      <td>60062.000000</td>\n",
              "      <td>1868.000000</td>\n",
              "      <td>8.000000</td>\n",
              "      <td>2.000000</td>\n",
              "      <td>1.000000</td>\n",
              "      <td>3.000000</td>\n",
              "      <td>0.000000</td>\n",
              "      <td>2.000000</td>\n",
              "      <td>0.000000</td>\n",
              "    </tr>\n",
              "    <tr>\n",
              "      <th>75%</th>\n",
              "      <td>1.067198e+07</td>\n",
              "      <td>2020.000000</td>\n",
              "      <td>5.750000e+05</td>\n",
              "      <td>76.000000</td>\n",
              "      <td>60077.000000</td>\n",
              "      <td>2750.000000</td>\n",
              "      <td>9.000000</td>\n",
              "      <td>3.000000</td>\n",
              "      <td>1.000000</td>\n",
              "      <td>4.000000</td>\n",
              "      <td>0.000000</td>\n",
              "      <td>2.000000</td>\n",
              "      <td>0.000000</td>\n",
              "    </tr>\n",
              "    <tr>\n",
              "      <th>max</th>\n",
              "      <td>1.095755e+07</td>\n",
              "      <td>2021.000000</td>\n",
              "      <td>4.300000e+06</td>\n",
              "      <td>201.000000</td>\n",
              "      <td>63104.000000</td>\n",
              "      <td>17365.000000</td>\n",
              "      <td>18.000000</td>\n",
              "      <td>8.000000</td>\n",
              "      <td>5.000000</td>\n",
              "      <td>11.000000</td>\n",
              "      <td>3.000000</td>\n",
              "      <td>79.000000</td>\n",
              "      <td>308.000000</td>\n",
              "    </tr>\n",
              "  </tbody>\n",
              "</table>\n",
              "</div>"
            ],
            "text/plain": [
              "               MLS#   YearClosed  ...  GarageSpaces  ParkingSpaces\n",
              "count  9.605000e+03  9605.000000  ...   9605.000000    9605.000000\n",
              "mean   1.037041e+07  2019.130765  ...      1.660718       0.409787\n",
              "std    3.808318e+05     0.948912  ...      1.342160       3.543110\n",
              "min    8.866215e+06  2017.000000  ...      0.000000       0.000000\n",
              "25%    1.013837e+07  2019.000000  ...      1.000000       0.000000\n",
              "50%    1.043821e+07  2019.000000  ...      2.000000       0.000000\n",
              "75%    1.067198e+07  2020.000000  ...      2.000000       0.000000\n",
              "max    1.095755e+07  2021.000000  ...     79.000000     308.000000\n",
              "\n",
              "[8 rows x 13 columns]"
            ]
          },
          "metadata": {
            "tags": []
          },
          "execution_count": 2
        }
      ]
    },
    {
      "cell_type": "code",
      "metadata": {
        "id": "Vt6pM6R2iwyv"
      },
      "source": [
        ""
      ],
      "execution_count": 2,
      "outputs": []
    },
    {
      "cell_type": "code",
      "metadata": {
        "colab": {
          "base_uri": "https://localhost:8080/"
        },
        "id": "6mIA88cejC_U",
        "outputId": "6affaa62-c6ff-42eb-c554-8a4fedb2388d"
      },
      "source": [
        "dataframe = rawData[['YearClosed', 'Type', 'Area', 'Zip', 'Rooms','FullBaths','Beds','GarageSpaces']]\r\n",
        "prices = rawData['SoldPr']\r\n",
        "SAMPLES = len(dataframe.index)\r\n",
        "featureCount = len(dataframe.columns)\r\n",
        "dataframe['target'] = rawData['SoldPr']/100000.00\r\n",
        "dataframe['Area'] = rawData['Area']/1000.00"
      ],
      "execution_count": 3,
      "outputs": [
        {
          "output_type": "stream",
          "text": [
            "/usr/local/lib/python3.6/dist-packages/ipykernel_launcher.py:5: SettingWithCopyWarning: \n",
            "A value is trying to be set on a copy of a slice from a DataFrame.\n",
            "Try using .loc[row_indexer,col_indexer] = value instead\n",
            "\n",
            "See the caveats in the documentation: https://pandas.pydata.org/pandas-docs/stable/user_guide/indexing.html#returning-a-view-versus-a-copy\n",
            "  \"\"\"\n",
            "/usr/local/lib/python3.6/dist-packages/ipykernel_launcher.py:6: SettingWithCopyWarning: \n",
            "A value is trying to be set on a copy of a slice from a DataFrame.\n",
            "Try using .loc[row_indexer,col_indexer] = value instead\n",
            "\n",
            "See the caveats in the documentation: https://pandas.pydata.org/pandas-docs/stable/user_guide/indexing.html#returning-a-view-versus-a-copy\n",
            "  \n"
          ],
          "name": "stderr"
        }
      ]
    },
    {
      "cell_type": "code",
      "metadata": {
        "colab": {
          "base_uri": "https://localhost:8080/"
        },
        "id": "E8IcaB6OjULe",
        "outputId": "f1b724cc-0c54-4822-bab4-91b920363fe8"
      },
      "source": [
        "val_dataframe = dataframe.sample(frac=0.2, random_state=1337)\r\n",
        "train_dataframe = dataframe.drop(val_dataframe.index)\r\n",
        "\r\n",
        "print(\r\n",
        "    \"Using %d samples for training and %d for validation\"\r\n",
        "    % (len(train_dataframe), len(val_dataframe))\r\n",
        ")\r\n"
      ],
      "execution_count": 4,
      "outputs": [
        {
          "output_type": "stream",
          "text": [
            "Using 7684 samples for training and 1921 for validation\n"
          ],
          "name": "stdout"
        }
      ]
    },
    {
      "cell_type": "code",
      "metadata": {
        "id": "fEk2va_pjcTN"
      },
      "source": [
        "def dataframe_to_dataset(dataframe):\r\n",
        "    dataframe = dataframe.copy()\r\n",
        "    labels = dataframe.pop(\"target\")\r\n",
        "    ds = tf.data.Dataset.from_tensor_slices((dict(dataframe), labels))\r\n",
        "    ds = ds.shuffle(buffer_size=len(dataframe))\r\n",
        "    return ds\r\n",
        "\r\n",
        "\r\n",
        "train_ds = dataframe_to_dataset(train_dataframe)\r\n",
        "val_ds = dataframe_to_dataset(val_dataframe)\r\n"
      ],
      "execution_count": 5,
      "outputs": []
    },
    {
      "cell_type": "code",
      "metadata": {
        "colab": {
          "base_uri": "https://localhost:8080/"
        },
        "id": "2PcwWZxCjvvF",
        "outputId": "80058c1f-8e36-41f3-c61e-fa150cc74031"
      },
      "source": [
        "for x, y in train_ds.take(1):\r\n",
        "    print(\"Input:\", x)\r\n",
        "    print(\"Target:\", y)\r\n"
      ],
      "execution_count": 6,
      "outputs": [
        {
          "output_type": "stream",
          "text": [
            "Input: {'YearClosed': <tf.Tensor: shape=(), dtype=int64, numpy=2019>, 'Type': <tf.Tensor: shape=(), dtype=string, numpy=b'Townhouse'>, 'Area': <tf.Tensor: shape=(), dtype=float64, numpy=2.182>, 'Zip': <tf.Tensor: shape=(), dtype=int64, numpy=60026>, 'Rooms': <tf.Tensor: shape=(), dtype=int64, numpy=9>, 'FullBaths': <tf.Tensor: shape=(), dtype=int64, numpy=3>, 'Beds': <tf.Tensor: shape=(), dtype=float64, numpy=3.0>, 'GarageSpaces': <tf.Tensor: shape=(), dtype=float64, numpy=2.0>}\n",
            "Target: tf.Tensor(5.6, shape=(), dtype=float64)\n"
          ],
          "name": "stdout"
        }
      ]
    },
    {
      "cell_type": "code",
      "metadata": {
        "id": "U944NTenj-QA"
      },
      "source": [
        "train_ds = train_ds.batch(1000)\r\n",
        "val_ds = val_ds.batch(1000)\r\n"
      ],
      "execution_count": 7,
      "outputs": []
    },
    {
      "cell_type": "code",
      "metadata": {
        "id": "p-tlQtv1kACA"
      },
      "source": [
        "from tensorflow.keras.layers.experimental.preprocessing import Normalization\r\n",
        "from tensorflow.keras.layers.experimental.preprocessing import CategoryEncoding\r\n",
        "from tensorflow.keras.layers.experimental.preprocessing import StringLookup\r\n",
        "\r\n",
        "\r\n",
        "def encode_numerical_feature(feature, name, dataset):\r\n",
        "    # Create a Normalization layer for our feature\r\n",
        "    normalizer = Normalization()\r\n",
        "\r\n",
        "    # Prepare a Dataset that only yields our feature\r\n",
        "    feature_ds = dataset.map(lambda x, y: x[name])\r\n",
        "    feature_ds = feature_ds.map(lambda x: tf.expand_dims(x, -1))\r\n",
        "\r\n",
        "    # Learn the statistics of the data\r\n",
        "    normalizer.adapt(feature_ds)\r\n",
        "\r\n",
        "    # Normalize the input feature\r\n",
        "    encoded_feature = normalizer(feature)\r\n",
        "    return encoded_feature\r\n",
        "\r\n",
        "\r\n",
        "def encode_string_categorical_feature(feature, name, dataset):\r\n",
        "    # Create a StringLookup layer which will turn strings into integer indices\r\n",
        "    index = StringLookup()\r\n",
        "\r\n",
        "    # Prepare a Dataset that only yields our feature\r\n",
        "    feature_ds = dataset.map(lambda x, y: x[name])\r\n",
        "    feature_ds = feature_ds.map(lambda x: tf.expand_dims(x, -1))\r\n",
        "\r\n",
        "    # Learn the set of possible string values and assign them a fixed integer index\r\n",
        "    index.adapt(feature_ds)\r\n",
        "\r\n",
        "    # Turn the string input into integer indices\r\n",
        "    encoded_feature = index(feature)\r\n",
        "\r\n",
        "    # Create a CategoryEncoding for our integer indices\r\n",
        "    encoder = CategoryEncoding(output_mode=\"binary\")\r\n",
        "\r\n",
        "    # Prepare a dataset of indices\r\n",
        "    feature_ds = feature_ds.map(index)\r\n",
        "\r\n",
        "    # Learn the space of possible indices\r\n",
        "    encoder.adapt(feature_ds)\r\n",
        "\r\n",
        "    # Apply one-hot encoding to our indices\r\n",
        "    encoded_feature = encoder(encoded_feature)\r\n",
        "    return encoded_feature\r\n",
        "\r\n",
        "\r\n",
        "def encode_integer_categorical_feature(feature, name, dataset):\r\n",
        "    # Create a CategoryEncoding for our integer indices\r\n",
        "    encoder = CategoryEncoding(output_mode=\"binary\")\r\n",
        "\r\n",
        "    # Prepare a Dataset that only yields our feature\r\n",
        "    feature_ds = dataset.map(lambda x, y: x[name])\r\n",
        "    feature_ds = feature_ds.map(lambda x: tf.expand_dims(x, -1))\r\n",
        "\r\n",
        "    # Learn the space of possible indices\r\n",
        "    encoder.adapt(feature_ds)\r\n",
        "\r\n",
        "    # Apply one-hot encoding to our indices\r\n",
        "    encoded_feature = encoder(feature)\r\n",
        "    return encoded_feature\r\n"
      ],
      "execution_count": 8,
      "outputs": []
    },
    {
      "cell_type": "code",
      "metadata": {
        "id": "VcYTDqy-karU"
      },
      "source": [
        "#selectedFeatures = rawData[['YearClosed', 'Type', 'Area', 'Zip', 'Rooms','FullBaths','Beds','GarageSpaces']]\r\n",
        "\r\n",
        "# Categorical features encoded as integers\r\n",
        "YearClosed = keras.Input(shape=(1,), name=\"YearClosed\", dtype=\"int64\")\r\n",
        "Zip = keras.Input(shape=(1,), name=\"Zip\", dtype=\"int64\")\r\n",
        "\r\n",
        "# Categorical feature encoded as string\r\n",
        "Type = keras.Input(shape=(1,), name=\"Type\", dtype=\"string\")\r\n",
        "\r\n",
        "# Numerical features\r\n",
        "Area = keras.Input(shape=(1,), name=\"Area\")\r\n",
        "Rooms = keras.Input(shape=(1,), name=\"Rooms\")\r\n",
        "FullBaths = keras.Input(shape=(1,), name=\"FullBaths\")\r\n",
        "Beds = keras.Input(shape=(1,), name=\"Beds\")\r\n",
        "GarageSpaces = keras.Input(shape=(1,), name=\"GarageSpaces\")\r\n",
        "\r\n",
        "all_inputs = [\r\n",
        "    #YearClosed,\r\n",
        "    #Zip,\r\n",
        "    #Type,\r\n",
        "    Area,\r\n",
        "    Rooms,\r\n",
        "    FullBaths,\r\n",
        "    Beds,\r\n",
        "    GarageSpaces,\r\n",
        "]\r\n"
      ],
      "execution_count": 9,
      "outputs": []
    },
    {
      "cell_type": "code",
      "metadata": {
        "id": "u6Ov2t_dmVKu"
      },
      "source": [
        "# Integer categorical features\r\n",
        "YearClosed_encoded = encode_integer_categorical_feature(YearClosed, \"YearClosed\", train_ds)\r\n",
        "Zip_encoded = encode_integer_categorical_feature(Zip, \"Zip\", train_ds)\r\n",
        "\r\n",
        "# String categorical features\r\n",
        "Type_encoded = encode_string_categorical_feature(Type, \"Type\", train_ds)\r\n",
        "\r\n",
        "# Numerical features\r\n",
        "Area_encoded = encode_numerical_feature(Area, \"Area\", train_ds)\r\n",
        "Rooms_encoded = encode_numerical_feature(Rooms, \"Rooms\", train_ds)\r\n",
        "FullBaths_encoded = encode_numerical_feature(FullBaths, \"FullBaths\", train_ds)\r\n",
        "Beds_encoded = encode_numerical_feature(Beds, \"Beds\", train_ds)\r\n",
        "GarageSpaces_encoded = encode_numerical_feature(GarageSpaces, \"GarageSpaces\", train_ds)\r\n",
        "\r\n",
        "\r\n",
        "all_features = layers.concatenate(\r\n",
        "    [\r\n",
        "    #YearClosed_encoded,\r\n",
        "    #Zip_encoded,\r\n",
        "    #Type_encoded,\r\n",
        "    Area_encoded,\r\n",
        "    Rooms_encoded,\r\n",
        "    FullBaths_encoded,\r\n",
        "    Beds_encoded,\r\n",
        "    GarageSpaces_encoded\r\n",
        "    ])\r\n",
        "\r\n",
        "all_features = layers.concatenate(\r\n",
        "    [\r\n",
        "    #YearClosed_encoded,\r\n",
        "    #Zip_encoded,\r\n",
        "    #Type_encoded,\r\n",
        "    Area,\r\n",
        "    Rooms,\r\n",
        "    FullBaths,\r\n",
        "    Beds,\r\n",
        "    GarageSpaces\r\n",
        "    ])\r\n"
      ],
      "execution_count": 29,
      "outputs": []
    },
    {
      "cell_type": "code",
      "metadata": {
        "colab": {
          "base_uri": "https://localhost:8080/",
          "height": 435
        },
        "id": "1b7lvq4053uU",
        "outputId": "fc90fb3f-ac8a-4f48-eb42-4f71366023ab"
      },
      "source": [
        "model_1 = tf.keras.Sequential()\r\n",
        "layers.Dense(16, activation=\"relu\")(all_features)\r\n",
        "model_1.add(layers.Dense(16, activation=\"relu\")(all_features))\r\n",
        "#model_1.add(keras.layers.Dense(16, activation='relu', input_shape=(all_features.shape)))\r\n",
        "#model_1.add(keras.layers.Dense(16, activation='relu', kernel_regularizer=regularizers.l2(0.001), input_shape=(featureCount,)))\r\n",
        "model_1.add(keras.layers.Dense(16, activation='relu'))\r\n",
        "#model_1.add(keras.layers.Dense(16, activation='relu', kernel_regularizer=regularizers.l2(0.001)))\r\n",
        "model_1.add(keras.layers.Dense(1))\r\n",
        "\r\n",
        "# Compile the model using the standard 'adam' optimizer and the mean squared error or 'mse' loss function for regression.\r\n",
        "model_1.compile(optimizer='adam', loss='mse', metrics=['mae'])\r\n",
        "keras.utils.plot_model(model_1, show_shapes=True, rankdir=\"LR\")"
      ],
      "execution_count": 30,
      "outputs": [
        {
          "output_type": "error",
          "ename": "TypeError",
          "evalue": "ignored",
          "traceback": [
            "\u001b[0;31m---------------------------------------------------------------------------\u001b[0m",
            "\u001b[0;31mTypeError\u001b[0m                                 Traceback (most recent call last)",
            "\u001b[0;32m<ipython-input-30-f224885eb0b7>\u001b[0m in \u001b[0;36m<module>\u001b[0;34m()\u001b[0m\n\u001b[1;32m      1\u001b[0m \u001b[0mmodel_1\u001b[0m \u001b[0;34m=\u001b[0m \u001b[0mtf\u001b[0m\u001b[0;34m.\u001b[0m\u001b[0mkeras\u001b[0m\u001b[0;34m.\u001b[0m\u001b[0mSequential\u001b[0m\u001b[0;34m(\u001b[0m\u001b[0;34m)\u001b[0m\u001b[0;34m\u001b[0m\u001b[0;34m\u001b[0m\u001b[0m\n\u001b[1;32m      2\u001b[0m \u001b[0mlayers\u001b[0m\u001b[0;34m.\u001b[0m\u001b[0mDense\u001b[0m\u001b[0;34m(\u001b[0m\u001b[0;36m16\u001b[0m\u001b[0;34m,\u001b[0m \u001b[0mactivation\u001b[0m\u001b[0;34m=\u001b[0m\u001b[0;34m\"relu\"\u001b[0m\u001b[0;34m)\u001b[0m\u001b[0;34m(\u001b[0m\u001b[0mall_features\u001b[0m\u001b[0;34m)\u001b[0m\u001b[0;34m\u001b[0m\u001b[0;34m\u001b[0m\u001b[0m\n\u001b[0;32m----> 3\u001b[0;31m \u001b[0mmodel_1\u001b[0m\u001b[0;34m.\u001b[0m\u001b[0madd\u001b[0m\u001b[0;34m(\u001b[0m\u001b[0mlayers\u001b[0m\u001b[0;34m.\u001b[0m\u001b[0mDense\u001b[0m\u001b[0;34m(\u001b[0m\u001b[0;36m16\u001b[0m\u001b[0;34m,\u001b[0m \u001b[0mactivation\u001b[0m\u001b[0;34m=\u001b[0m\u001b[0;34m\"relu\"\u001b[0m\u001b[0;34m)\u001b[0m\u001b[0;34m(\u001b[0m\u001b[0mall_features\u001b[0m\u001b[0;34m)\u001b[0m\u001b[0;34m)\u001b[0m\u001b[0;34m\u001b[0m\u001b[0;34m\u001b[0m\u001b[0m\n\u001b[0m\u001b[1;32m      4\u001b[0m \u001b[0;31m#model_1.add(keras.layers.Dense(16, activation='relu', input_shape=(all_features.shape)))\u001b[0m\u001b[0;34m\u001b[0m\u001b[0;34m\u001b[0m\u001b[0;34m\u001b[0m\u001b[0m\n\u001b[1;32m      5\u001b[0m \u001b[0;31m#model_1.add(keras.layers.Dense(16, activation='relu', kernel_regularizer=regularizers.l2(0.001), input_shape=(featureCount,)))\u001b[0m\u001b[0;34m\u001b[0m\u001b[0;34m\u001b[0m\u001b[0;34m\u001b[0m\u001b[0m\n",
            "\u001b[0;32m/usr/local/lib/python3.6/dist-packages/tensorflow/python/training/tracking/base.py\u001b[0m in \u001b[0;36m_method_wrapper\u001b[0;34m(self, *args, **kwargs)\u001b[0m\n\u001b[1;32m    515\u001b[0m     \u001b[0mself\u001b[0m\u001b[0;34m.\u001b[0m\u001b[0m_self_setattr_tracking\u001b[0m \u001b[0;34m=\u001b[0m \u001b[0;32mFalse\u001b[0m  \u001b[0;31m# pylint: disable=protected-access\u001b[0m\u001b[0;34m\u001b[0m\u001b[0;34m\u001b[0m\u001b[0m\n\u001b[1;32m    516\u001b[0m     \u001b[0;32mtry\u001b[0m\u001b[0;34m:\u001b[0m\u001b[0;34m\u001b[0m\u001b[0;34m\u001b[0m\u001b[0m\n\u001b[0;32m--> 517\u001b[0;31m       \u001b[0mresult\u001b[0m \u001b[0;34m=\u001b[0m \u001b[0mmethod\u001b[0m\u001b[0;34m(\u001b[0m\u001b[0mself\u001b[0m\u001b[0;34m,\u001b[0m \u001b[0;34m*\u001b[0m\u001b[0margs\u001b[0m\u001b[0;34m,\u001b[0m \u001b[0;34m**\u001b[0m\u001b[0mkwargs\u001b[0m\u001b[0;34m)\u001b[0m\u001b[0;34m\u001b[0m\u001b[0;34m\u001b[0m\u001b[0m\n\u001b[0m\u001b[1;32m    518\u001b[0m     \u001b[0;32mfinally\u001b[0m\u001b[0;34m:\u001b[0m\u001b[0;34m\u001b[0m\u001b[0;34m\u001b[0m\u001b[0m\n\u001b[1;32m    519\u001b[0m       \u001b[0mself\u001b[0m\u001b[0;34m.\u001b[0m\u001b[0m_self_setattr_tracking\u001b[0m \u001b[0;34m=\u001b[0m \u001b[0mprevious_value\u001b[0m  \u001b[0;31m# pylint: disable=protected-access\u001b[0m\u001b[0;34m\u001b[0m\u001b[0;34m\u001b[0m\u001b[0m\n",
            "\u001b[0;32m/usr/local/lib/python3.6/dist-packages/tensorflow/python/keras/engine/sequential.py\u001b[0m in \u001b[0;36madd\u001b[0;34m(self, layer)\u001b[0m\n\u001b[1;32m    182\u001b[0m       raise TypeError('The added layer must be '\n\u001b[1;32m    183\u001b[0m                       \u001b[0;34m'an instance of class Layer. '\u001b[0m\u001b[0;34m\u001b[0m\u001b[0;34m\u001b[0m\u001b[0m\n\u001b[0;32m--> 184\u001b[0;31m                       'Found: ' + str(layer))\n\u001b[0m\u001b[1;32m    185\u001b[0m \u001b[0;34m\u001b[0m\u001b[0m\n\u001b[1;32m    186\u001b[0m     \u001b[0mtf_utils\u001b[0m\u001b[0;34m.\u001b[0m\u001b[0massert_no_legacy_layers\u001b[0m\u001b[0;34m(\u001b[0m\u001b[0;34m[\u001b[0m\u001b[0mlayer\u001b[0m\u001b[0;34m]\u001b[0m\u001b[0;34m)\u001b[0m\u001b[0;34m\u001b[0m\u001b[0;34m\u001b[0m\u001b[0m\n",
            "\u001b[0;31mTypeError\u001b[0m: The added layer must be an instance of class Layer. Found: KerasTensor(type_spec=TensorSpec(shape=(None, 16), dtype=tf.float32, name=None), name='dense_16/Relu:0', description=\"created by layer 'dense_16'\")"
          ]
        }
      ]
    },
    {
      "cell_type": "code",
      "metadata": {
        "colab": {
          "base_uri": "https://localhost:8080/",
          "height": 933
        },
        "id": "0wh8gPOI6Az3",
        "outputId": "f2142f65-b3bc-4bff-f577-cc1dc65116a6"
      },
      "source": [
        "zzz = dataframe[['Area', 'Rooms','FullBaths','Beds','GarageSpaces', 'target']]\r\n",
        "tt = dataframe_to_dataset(zzz)\r\n",
        "vv = dataframe_to_dataset(zzz)\r\n",
        "vv = vv.batch(500)\r\n",
        "for x, y in tt.take(1):\r\n",
        "    print(\"Input:\", x)\r\n",
        "    print(\"Target:\", y)\r\n",
        "\r\n",
        "history_1 = model_1.fit(vv, epochs=500)"
      ],
      "execution_count": 27,
      "outputs": [
        {
          "output_type": "stream",
          "text": [
            "Input: {'Area': <tf.Tensor: shape=(), dtype=float64, numpy=1.0>, 'Rooms': <tf.Tensor: shape=(), dtype=int64, numpy=5>, 'FullBaths': <tf.Tensor: shape=(), dtype=int64, numpy=1>, 'Beds': <tf.Tensor: shape=(), dtype=float64, numpy=2.0>, 'GarageSpaces': <tf.Tensor: shape=(), dtype=float64, numpy=0.0>}\n",
            "Target: tf.Tensor(1.32, shape=(), dtype=float64)\n",
            "Epoch 1/500\n"
          ],
          "name": "stdout"
        },
        {
          "output_type": "error",
          "ename": "ValueError",
          "evalue": "ignored",
          "traceback": [
            "\u001b[0;31m---------------------------------------------------------------------------\u001b[0m",
            "\u001b[0;31mValueError\u001b[0m                                Traceback (most recent call last)",
            "\u001b[0;32m<ipython-input-27-96c9d32c63f8>\u001b[0m in \u001b[0;36m<module>\u001b[0;34m()\u001b[0m\n\u001b[1;32m      7\u001b[0m     \u001b[0mprint\u001b[0m\u001b[0;34m(\u001b[0m\u001b[0;34m\"Target:\"\u001b[0m\u001b[0;34m,\u001b[0m \u001b[0my\u001b[0m\u001b[0;34m)\u001b[0m\u001b[0;34m\u001b[0m\u001b[0;34m\u001b[0m\u001b[0m\n\u001b[1;32m      8\u001b[0m \u001b[0;34m\u001b[0m\u001b[0m\n\u001b[0;32m----> 9\u001b[0;31m \u001b[0mhistory_1\u001b[0m \u001b[0;34m=\u001b[0m \u001b[0mmodel_1\u001b[0m\u001b[0;34m.\u001b[0m\u001b[0mfit\u001b[0m\u001b[0;34m(\u001b[0m\u001b[0mvv\u001b[0m\u001b[0;34m,\u001b[0m \u001b[0mepochs\u001b[0m\u001b[0;34m=\u001b[0m\u001b[0;36m500\u001b[0m\u001b[0;34m)\u001b[0m\u001b[0;34m\u001b[0m\u001b[0;34m\u001b[0m\u001b[0m\n\u001b[0m",
            "\u001b[0;32m/usr/local/lib/python3.6/dist-packages/tensorflow/python/keras/engine/training.py\u001b[0m in \u001b[0;36mfit\u001b[0;34m(self, x, y, batch_size, epochs, verbose, callbacks, validation_split, validation_data, shuffle, class_weight, sample_weight, initial_epoch, steps_per_epoch, validation_steps, validation_batch_size, validation_freq, max_queue_size, workers, use_multiprocessing)\u001b[0m\n\u001b[1;32m   1098\u001b[0m                 _r=1):\n\u001b[1;32m   1099\u001b[0m               \u001b[0mcallbacks\u001b[0m\u001b[0;34m.\u001b[0m\u001b[0mon_train_batch_begin\u001b[0m\u001b[0;34m(\u001b[0m\u001b[0mstep\u001b[0m\u001b[0;34m)\u001b[0m\u001b[0;34m\u001b[0m\u001b[0;34m\u001b[0m\u001b[0m\n\u001b[0;32m-> 1100\u001b[0;31m               \u001b[0mtmp_logs\u001b[0m \u001b[0;34m=\u001b[0m \u001b[0mself\u001b[0m\u001b[0;34m.\u001b[0m\u001b[0mtrain_function\u001b[0m\u001b[0;34m(\u001b[0m\u001b[0miterator\u001b[0m\u001b[0;34m)\u001b[0m\u001b[0;34m\u001b[0m\u001b[0;34m\u001b[0m\u001b[0m\n\u001b[0m\u001b[1;32m   1101\u001b[0m               \u001b[0;32mif\u001b[0m \u001b[0mdata_handler\u001b[0m\u001b[0;34m.\u001b[0m\u001b[0mshould_sync\u001b[0m\u001b[0;34m:\u001b[0m\u001b[0;34m\u001b[0m\u001b[0;34m\u001b[0m\u001b[0m\n\u001b[1;32m   1102\u001b[0m                 \u001b[0mcontext\u001b[0m\u001b[0;34m.\u001b[0m\u001b[0masync_wait\u001b[0m\u001b[0;34m(\u001b[0m\u001b[0;34m)\u001b[0m\u001b[0;34m\u001b[0m\u001b[0;34m\u001b[0m\u001b[0m\n",
            "\u001b[0;32m/usr/local/lib/python3.6/dist-packages/tensorflow/python/eager/def_function.py\u001b[0m in \u001b[0;36m__call__\u001b[0;34m(self, *args, **kwds)\u001b[0m\n\u001b[1;32m    826\u001b[0m     \u001b[0mtracing_count\u001b[0m \u001b[0;34m=\u001b[0m \u001b[0mself\u001b[0m\u001b[0;34m.\u001b[0m\u001b[0mexperimental_get_tracing_count\u001b[0m\u001b[0;34m(\u001b[0m\u001b[0;34m)\u001b[0m\u001b[0;34m\u001b[0m\u001b[0;34m\u001b[0m\u001b[0m\n\u001b[1;32m    827\u001b[0m     \u001b[0;32mwith\u001b[0m \u001b[0mtrace\u001b[0m\u001b[0;34m.\u001b[0m\u001b[0mTrace\u001b[0m\u001b[0;34m(\u001b[0m\u001b[0mself\u001b[0m\u001b[0;34m.\u001b[0m\u001b[0m_name\u001b[0m\u001b[0;34m)\u001b[0m \u001b[0;32mas\u001b[0m \u001b[0mtm\u001b[0m\u001b[0;34m:\u001b[0m\u001b[0;34m\u001b[0m\u001b[0;34m\u001b[0m\u001b[0m\n\u001b[0;32m--> 828\u001b[0;31m       \u001b[0mresult\u001b[0m \u001b[0;34m=\u001b[0m \u001b[0mself\u001b[0m\u001b[0;34m.\u001b[0m\u001b[0m_call\u001b[0m\u001b[0;34m(\u001b[0m\u001b[0;34m*\u001b[0m\u001b[0margs\u001b[0m\u001b[0;34m,\u001b[0m \u001b[0;34m**\u001b[0m\u001b[0mkwds\u001b[0m\u001b[0;34m)\u001b[0m\u001b[0;34m\u001b[0m\u001b[0;34m\u001b[0m\u001b[0m\n\u001b[0m\u001b[1;32m    829\u001b[0m       \u001b[0mcompiler\u001b[0m \u001b[0;34m=\u001b[0m \u001b[0;34m\"xla\"\u001b[0m \u001b[0;32mif\u001b[0m \u001b[0mself\u001b[0m\u001b[0;34m.\u001b[0m\u001b[0m_experimental_compile\u001b[0m \u001b[0;32melse\u001b[0m \u001b[0;34m\"nonXla\"\u001b[0m\u001b[0;34m\u001b[0m\u001b[0;34m\u001b[0m\u001b[0m\n\u001b[1;32m    830\u001b[0m       \u001b[0mnew_tracing_count\u001b[0m \u001b[0;34m=\u001b[0m \u001b[0mself\u001b[0m\u001b[0;34m.\u001b[0m\u001b[0mexperimental_get_tracing_count\u001b[0m\u001b[0;34m(\u001b[0m\u001b[0;34m)\u001b[0m\u001b[0;34m\u001b[0m\u001b[0;34m\u001b[0m\u001b[0m\n",
            "\u001b[0;32m/usr/local/lib/python3.6/dist-packages/tensorflow/python/eager/def_function.py\u001b[0m in \u001b[0;36m_call\u001b[0;34m(self, *args, **kwds)\u001b[0m\n\u001b[1;32m    869\u001b[0m       \u001b[0;31m# This is the first call of __call__, so we have to initialize.\u001b[0m\u001b[0;34m\u001b[0m\u001b[0;34m\u001b[0m\u001b[0;34m\u001b[0m\u001b[0m\n\u001b[1;32m    870\u001b[0m       \u001b[0minitializers\u001b[0m \u001b[0;34m=\u001b[0m \u001b[0;34m[\u001b[0m\u001b[0;34m]\u001b[0m\u001b[0;34m\u001b[0m\u001b[0;34m\u001b[0m\u001b[0m\n\u001b[0;32m--> 871\u001b[0;31m       \u001b[0mself\u001b[0m\u001b[0;34m.\u001b[0m\u001b[0m_initialize\u001b[0m\u001b[0;34m(\u001b[0m\u001b[0margs\u001b[0m\u001b[0;34m,\u001b[0m \u001b[0mkwds\u001b[0m\u001b[0;34m,\u001b[0m \u001b[0madd_initializers_to\u001b[0m\u001b[0;34m=\u001b[0m\u001b[0minitializers\u001b[0m\u001b[0;34m)\u001b[0m\u001b[0;34m\u001b[0m\u001b[0;34m\u001b[0m\u001b[0m\n\u001b[0m\u001b[1;32m    872\u001b[0m     \u001b[0;32mfinally\u001b[0m\u001b[0;34m:\u001b[0m\u001b[0;34m\u001b[0m\u001b[0;34m\u001b[0m\u001b[0m\n\u001b[1;32m    873\u001b[0m       \u001b[0;31m# At this point we know that the initialization is complete (or less\u001b[0m\u001b[0;34m\u001b[0m\u001b[0;34m\u001b[0m\u001b[0;34m\u001b[0m\u001b[0m\n",
            "\u001b[0;32m/usr/local/lib/python3.6/dist-packages/tensorflow/python/eager/def_function.py\u001b[0m in \u001b[0;36m_initialize\u001b[0;34m(self, args, kwds, add_initializers_to)\u001b[0m\n\u001b[1;32m    724\u001b[0m     self._concrete_stateful_fn = (\n\u001b[1;32m    725\u001b[0m         self._stateful_fn._get_concrete_function_internal_garbage_collected(  # pylint: disable=protected-access\n\u001b[0;32m--> 726\u001b[0;31m             *args, **kwds))\n\u001b[0m\u001b[1;32m    727\u001b[0m \u001b[0;34m\u001b[0m\u001b[0m\n\u001b[1;32m    728\u001b[0m     \u001b[0;32mdef\u001b[0m \u001b[0minvalid_creator_scope\u001b[0m\u001b[0;34m(\u001b[0m\u001b[0;34m*\u001b[0m\u001b[0munused_args\u001b[0m\u001b[0;34m,\u001b[0m \u001b[0;34m**\u001b[0m\u001b[0munused_kwds\u001b[0m\u001b[0;34m)\u001b[0m\u001b[0;34m:\u001b[0m\u001b[0;34m\u001b[0m\u001b[0;34m\u001b[0m\u001b[0m\n",
            "\u001b[0;32m/usr/local/lib/python3.6/dist-packages/tensorflow/python/eager/function.py\u001b[0m in \u001b[0;36m_get_concrete_function_internal_garbage_collected\u001b[0;34m(self, *args, **kwargs)\u001b[0m\n\u001b[1;32m   2967\u001b[0m       \u001b[0margs\u001b[0m\u001b[0;34m,\u001b[0m \u001b[0mkwargs\u001b[0m \u001b[0;34m=\u001b[0m \u001b[0;32mNone\u001b[0m\u001b[0;34m,\u001b[0m \u001b[0;32mNone\u001b[0m\u001b[0;34m\u001b[0m\u001b[0;34m\u001b[0m\u001b[0m\n\u001b[1;32m   2968\u001b[0m     \u001b[0;32mwith\u001b[0m \u001b[0mself\u001b[0m\u001b[0;34m.\u001b[0m\u001b[0m_lock\u001b[0m\u001b[0;34m:\u001b[0m\u001b[0;34m\u001b[0m\u001b[0;34m\u001b[0m\u001b[0m\n\u001b[0;32m-> 2969\u001b[0;31m       \u001b[0mgraph_function\u001b[0m\u001b[0;34m,\u001b[0m \u001b[0m_\u001b[0m \u001b[0;34m=\u001b[0m \u001b[0mself\u001b[0m\u001b[0;34m.\u001b[0m\u001b[0m_maybe_define_function\u001b[0m\u001b[0;34m(\u001b[0m\u001b[0margs\u001b[0m\u001b[0;34m,\u001b[0m \u001b[0mkwargs\u001b[0m\u001b[0;34m)\u001b[0m\u001b[0;34m\u001b[0m\u001b[0;34m\u001b[0m\u001b[0m\n\u001b[0m\u001b[1;32m   2970\u001b[0m     \u001b[0;32mreturn\u001b[0m \u001b[0mgraph_function\u001b[0m\u001b[0;34m\u001b[0m\u001b[0;34m\u001b[0m\u001b[0m\n\u001b[1;32m   2971\u001b[0m \u001b[0;34m\u001b[0m\u001b[0m\n",
            "\u001b[0;32m/usr/local/lib/python3.6/dist-packages/tensorflow/python/eager/function.py\u001b[0m in \u001b[0;36m_maybe_define_function\u001b[0;34m(self, args, kwargs)\u001b[0m\n\u001b[1;32m   3359\u001b[0m \u001b[0;34m\u001b[0m\u001b[0m\n\u001b[1;32m   3360\u001b[0m           \u001b[0mself\u001b[0m\u001b[0;34m.\u001b[0m\u001b[0m_function_cache\u001b[0m\u001b[0;34m.\u001b[0m\u001b[0mmissed\u001b[0m\u001b[0;34m.\u001b[0m\u001b[0madd\u001b[0m\u001b[0;34m(\u001b[0m\u001b[0mcall_context_key\u001b[0m\u001b[0;34m)\u001b[0m\u001b[0;34m\u001b[0m\u001b[0;34m\u001b[0m\u001b[0m\n\u001b[0;32m-> 3361\u001b[0;31m           \u001b[0mgraph_function\u001b[0m \u001b[0;34m=\u001b[0m \u001b[0mself\u001b[0m\u001b[0;34m.\u001b[0m\u001b[0m_create_graph_function\u001b[0m\u001b[0;34m(\u001b[0m\u001b[0margs\u001b[0m\u001b[0;34m,\u001b[0m \u001b[0mkwargs\u001b[0m\u001b[0;34m)\u001b[0m\u001b[0;34m\u001b[0m\u001b[0;34m\u001b[0m\u001b[0m\n\u001b[0m\u001b[1;32m   3362\u001b[0m           \u001b[0mself\u001b[0m\u001b[0;34m.\u001b[0m\u001b[0m_function_cache\u001b[0m\u001b[0;34m.\u001b[0m\u001b[0mprimary\u001b[0m\u001b[0;34m[\u001b[0m\u001b[0mcache_key\u001b[0m\u001b[0;34m]\u001b[0m \u001b[0;34m=\u001b[0m \u001b[0mgraph_function\u001b[0m\u001b[0;34m\u001b[0m\u001b[0;34m\u001b[0m\u001b[0m\n\u001b[1;32m   3363\u001b[0m \u001b[0;34m\u001b[0m\u001b[0m\n",
            "\u001b[0;32m/usr/local/lib/python3.6/dist-packages/tensorflow/python/eager/function.py\u001b[0m in \u001b[0;36m_create_graph_function\u001b[0;34m(self, args, kwargs, override_flat_arg_shapes)\u001b[0m\n\u001b[1;32m   3204\u001b[0m             \u001b[0marg_names\u001b[0m\u001b[0;34m=\u001b[0m\u001b[0marg_names\u001b[0m\u001b[0;34m,\u001b[0m\u001b[0;34m\u001b[0m\u001b[0;34m\u001b[0m\u001b[0m\n\u001b[1;32m   3205\u001b[0m             \u001b[0moverride_flat_arg_shapes\u001b[0m\u001b[0;34m=\u001b[0m\u001b[0moverride_flat_arg_shapes\u001b[0m\u001b[0;34m,\u001b[0m\u001b[0;34m\u001b[0m\u001b[0;34m\u001b[0m\u001b[0m\n\u001b[0;32m-> 3206\u001b[0;31m             capture_by_value=self._capture_by_value),\n\u001b[0m\u001b[1;32m   3207\u001b[0m         \u001b[0mself\u001b[0m\u001b[0;34m.\u001b[0m\u001b[0m_function_attributes\u001b[0m\u001b[0;34m,\u001b[0m\u001b[0;34m\u001b[0m\u001b[0;34m\u001b[0m\u001b[0m\n\u001b[1;32m   3208\u001b[0m         \u001b[0mfunction_spec\u001b[0m\u001b[0;34m=\u001b[0m\u001b[0mself\u001b[0m\u001b[0;34m.\u001b[0m\u001b[0mfunction_spec\u001b[0m\u001b[0;34m,\u001b[0m\u001b[0;34m\u001b[0m\u001b[0;34m\u001b[0m\u001b[0m\n",
            "\u001b[0;32m/usr/local/lib/python3.6/dist-packages/tensorflow/python/framework/func_graph.py\u001b[0m in \u001b[0;36mfunc_graph_from_py_func\u001b[0;34m(name, python_func, args, kwargs, signature, func_graph, autograph, autograph_options, add_control_dependencies, arg_names, op_return_value, collections, capture_by_value, override_flat_arg_shapes)\u001b[0m\n\u001b[1;32m    988\u001b[0m         \u001b[0m_\u001b[0m\u001b[0;34m,\u001b[0m \u001b[0moriginal_func\u001b[0m \u001b[0;34m=\u001b[0m \u001b[0mtf_decorator\u001b[0m\u001b[0;34m.\u001b[0m\u001b[0munwrap\u001b[0m\u001b[0;34m(\u001b[0m\u001b[0mpython_func\u001b[0m\u001b[0;34m)\u001b[0m\u001b[0;34m\u001b[0m\u001b[0;34m\u001b[0m\u001b[0m\n\u001b[1;32m    989\u001b[0m \u001b[0;34m\u001b[0m\u001b[0m\n\u001b[0;32m--> 990\u001b[0;31m       \u001b[0mfunc_outputs\u001b[0m \u001b[0;34m=\u001b[0m \u001b[0mpython_func\u001b[0m\u001b[0;34m(\u001b[0m\u001b[0;34m*\u001b[0m\u001b[0mfunc_args\u001b[0m\u001b[0;34m,\u001b[0m \u001b[0;34m**\u001b[0m\u001b[0mfunc_kwargs\u001b[0m\u001b[0;34m)\u001b[0m\u001b[0;34m\u001b[0m\u001b[0;34m\u001b[0m\u001b[0m\n\u001b[0m\u001b[1;32m    991\u001b[0m \u001b[0;34m\u001b[0m\u001b[0m\n\u001b[1;32m    992\u001b[0m       \u001b[0;31m# invariant: `func_outputs` contains only Tensors, CompositeTensors,\u001b[0m\u001b[0;34m\u001b[0m\u001b[0;34m\u001b[0m\u001b[0;34m\u001b[0m\u001b[0m\n",
            "\u001b[0;32m/usr/local/lib/python3.6/dist-packages/tensorflow/python/eager/def_function.py\u001b[0m in \u001b[0;36mwrapped_fn\u001b[0;34m(*args, **kwds)\u001b[0m\n\u001b[1;32m    632\u001b[0m             \u001b[0mxla_context\u001b[0m\u001b[0;34m.\u001b[0m\u001b[0mExit\u001b[0m\u001b[0;34m(\u001b[0m\u001b[0;34m)\u001b[0m\u001b[0;34m\u001b[0m\u001b[0;34m\u001b[0m\u001b[0m\n\u001b[1;32m    633\u001b[0m         \u001b[0;32melse\u001b[0m\u001b[0;34m:\u001b[0m\u001b[0;34m\u001b[0m\u001b[0;34m\u001b[0m\u001b[0m\n\u001b[0;32m--> 634\u001b[0;31m           \u001b[0mout\u001b[0m \u001b[0;34m=\u001b[0m \u001b[0mweak_wrapped_fn\u001b[0m\u001b[0;34m(\u001b[0m\u001b[0;34m)\u001b[0m\u001b[0;34m.\u001b[0m\u001b[0m__wrapped__\u001b[0m\u001b[0;34m(\u001b[0m\u001b[0;34m*\u001b[0m\u001b[0margs\u001b[0m\u001b[0;34m,\u001b[0m \u001b[0;34m**\u001b[0m\u001b[0mkwds\u001b[0m\u001b[0;34m)\u001b[0m\u001b[0;34m\u001b[0m\u001b[0;34m\u001b[0m\u001b[0m\n\u001b[0m\u001b[1;32m    635\u001b[0m         \u001b[0;32mreturn\u001b[0m \u001b[0mout\u001b[0m\u001b[0;34m\u001b[0m\u001b[0;34m\u001b[0m\u001b[0m\n\u001b[1;32m    636\u001b[0m \u001b[0;34m\u001b[0m\u001b[0m\n",
            "\u001b[0;32m/usr/local/lib/python3.6/dist-packages/tensorflow/python/framework/func_graph.py\u001b[0m in \u001b[0;36mwrapper\u001b[0;34m(*args, **kwargs)\u001b[0m\n\u001b[1;32m    975\u001b[0m           \u001b[0;32mexcept\u001b[0m \u001b[0mException\u001b[0m \u001b[0;32mas\u001b[0m \u001b[0me\u001b[0m\u001b[0;34m:\u001b[0m  \u001b[0;31m# pylint:disable=broad-except\u001b[0m\u001b[0;34m\u001b[0m\u001b[0;34m\u001b[0m\u001b[0m\n\u001b[1;32m    976\u001b[0m             \u001b[0;32mif\u001b[0m \u001b[0mhasattr\u001b[0m\u001b[0;34m(\u001b[0m\u001b[0me\u001b[0m\u001b[0;34m,\u001b[0m \u001b[0;34m\"ag_error_metadata\"\u001b[0m\u001b[0;34m)\u001b[0m\u001b[0;34m:\u001b[0m\u001b[0;34m\u001b[0m\u001b[0;34m\u001b[0m\u001b[0m\n\u001b[0;32m--> 977\u001b[0;31m               \u001b[0;32mraise\u001b[0m \u001b[0me\u001b[0m\u001b[0;34m.\u001b[0m\u001b[0mag_error_metadata\u001b[0m\u001b[0;34m.\u001b[0m\u001b[0mto_exception\u001b[0m\u001b[0;34m(\u001b[0m\u001b[0me\u001b[0m\u001b[0;34m)\u001b[0m\u001b[0;34m\u001b[0m\u001b[0;34m\u001b[0m\u001b[0m\n\u001b[0m\u001b[1;32m    978\u001b[0m             \u001b[0;32melse\u001b[0m\u001b[0;34m:\u001b[0m\u001b[0;34m\u001b[0m\u001b[0;34m\u001b[0m\u001b[0m\n\u001b[1;32m    979\u001b[0m               \u001b[0;32mraise\u001b[0m\u001b[0;34m\u001b[0m\u001b[0;34m\u001b[0m\u001b[0m\n",
            "\u001b[0;31mValueError\u001b[0m: in user code:\n\n    /usr/local/lib/python3.6/dist-packages/tensorflow/python/keras/engine/training.py:805 train_function  *\n        return step_function(self, iterator)\n    /usr/local/lib/python3.6/dist-packages/tensorflow/python/keras/engine/training.py:795 step_function  **\n        outputs = model.distribute_strategy.run(run_step, args=(data,))\n    /usr/local/lib/python3.6/dist-packages/tensorflow/python/distribute/distribute_lib.py:1259 run\n        return self._extended.call_for_each_replica(fn, args=args, kwargs=kwargs)\n    /usr/local/lib/python3.6/dist-packages/tensorflow/python/distribute/distribute_lib.py:2730 call_for_each_replica\n        return self._call_for_each_replica(fn, args, kwargs)\n    /usr/local/lib/python3.6/dist-packages/tensorflow/python/distribute/distribute_lib.py:3417 _call_for_each_replica\n        return fn(*args, **kwargs)\n    /usr/local/lib/python3.6/dist-packages/tensorflow/python/keras/engine/training.py:788 run_step  **\n        outputs = model.train_step(data)\n    /usr/local/lib/python3.6/dist-packages/tensorflow/python/keras/engine/training.py:754 train_step\n        y_pred = self(x, training=True)\n    /usr/local/lib/python3.6/dist-packages/tensorflow/python/keras/engine/base_layer.py:998 __call__\n        input_spec.assert_input_compatibility(self.input_spec, inputs, self.name)\n    /usr/local/lib/python3.6/dist-packages/tensorflow/python/keras/engine/input_spec.py:207 assert_input_compatibility\n        ' input tensors. Inputs received: ' + str(inputs))\n\n    ValueError: Layer sequential_4 expects 1 input(s), but it received 5 input tensors. Inputs received: [<tf.Tensor 'ExpandDims:0' shape=(None, 1) dtype=float64>, <tf.Tensor 'ExpandDims_1:0' shape=(None, 1) dtype=float64>, <tf.Tensor 'ExpandDims_2:0' shape=(None, 1) dtype=int64>, <tf.Tensor 'ExpandDims_3:0' shape=(None, 1) dtype=float64>, <tf.Tensor 'ExpandDims_4:0' shape=(None, 1) dtype=int64>]\n"
          ]
        }
      ]
    },
    {
      "cell_type": "code",
      "metadata": {
        "id": "SNcXc-PLoKkY"
      },
      "source": [
        "x = layers.Dense(16, activation=\"relu\")(all_features)\r\n",
        "x = layers.Dense(16, activation=\"relu\")(x)\r\n",
        "output = layers.Dense(1, activation=\"relu\")(x)\r\n",
        "model = keras.Model(all_inputs, output)\r\n",
        "model.compile(optimizer='adam', loss='mse', metrics=[\"mae\"])"
      ],
      "execution_count": 25,
      "outputs": []
    },
    {
      "cell_type": "code",
      "metadata": {
        "colab": {
          "base_uri": "https://localhost:8080/",
          "height": 352
        },
        "id": "UuBUgnHWqDNt",
        "outputId": "8db07b86-fa08-4ef9-fd26-29761c8cec89"
      },
      "source": [
        "# `rankdir='LR'` is to make the graph horizontal.\r\n",
        "keras.utils.plot_model(model, show_shapes=True, rankdir=\"LR\")"
      ],
      "execution_count": 26,
      "outputs": [
        {
          "output_type": "execute_result",
          "data": {
            "image/png": "[encoded data removed]",
            "text/plain": [
              "<IPython.core.display.Image object>"
            ]
          },
          "metadata": {
            "tags": []
          },
          "execution_count": 26
        }
      ]
    },
    {
      "cell_type": "code",
      "metadata": {
        "colab": {
          "base_uri": "https://localhost:8080/"
        },
        "id": "IwIhZjNdqMVq",
        "outputId": "126636ba-b1eb-4520-c6ce-bd4e41229857"
      },
      "source": [
        "history_1 = model.fit(train_ds, epochs=50,  validation_data=val_ds)"
      ],
      "execution_count": 27,
      "outputs": [
        {
          "output_type": "stream",
          "text": [
            "Epoch 1/50\n"
          ],
          "name": "stdout"
        },
        {
          "output_type": "stream",
          "text": [
            "/usr/local/lib/python3.6/dist-packages/tensorflow/python/keras/engine/functional.py:595: UserWarning: Input dict contained keys ['YearClosed', 'Type', 'Zip'] which did not match any model input. They will be ignored by the model.\n",
            "  [n for n in tensors.keys() if n not in ref_input_names])\n"
          ],
          "name": "stderr"
        },
        {
          "output_type": "stream",
          "text": [
            "8/8 [==============================] - 1s 34ms/step - loss: 70.7368 - mae: 6.7633 - val_loss: 31.7704 - val_mae: 4.6911\n",
            "Epoch 2/50\n",
            "8/8 [==============================] - 0s 14ms/step - loss: 32.5274 - mae: 4.6513 - val_loss: 31.7704 - val_mae: 4.6911\n",
            "Epoch 3/50\n",
            "8/8 [==============================] - 0s 13ms/step - loss: 32.8508 - mae: 4.6509 - val_loss: 31.7704 - val_mae: 4.6911\n",
            "Epoch 4/50\n",
            "8/8 [==============================] - 0s 13ms/step - loss: 32.0245 - mae: 4.6309 - val_loss: 31.7704 - val_mae: 4.6911\n",
            "Epoch 5/50\n",
            "8/8 [==============================] - 0s 15ms/step - loss: 31.9735 - mae: 4.6227 - val_loss: 31.7704 - val_mae: 4.6911\n",
            "Epoch 6/50\n",
            "8/8 [==============================] - 0s 14ms/step - loss: 31.9177 - mae: 4.6354 - val_loss: 31.7704 - val_mae: 4.6911\n",
            "Epoch 7/50\n",
            "8/8 [==============================] - 0s 15ms/step - loss: 31.9517 - mae: 4.6273 - val_loss: 31.7704 - val_mae: 4.6911\n",
            "Epoch 8/50\n",
            "8/8 [==============================] - 0s 13ms/step - loss: 32.5013 - mae: 4.6548 - val_loss: 31.7704 - val_mae: 4.6911\n",
            "Epoch 9/50\n",
            "8/8 [==============================] - 0s 29ms/step - loss: 31.6904 - mae: 4.6055 - val_loss: 31.7704 - val_mae: 4.6911\n",
            "Epoch 10/50\n",
            "8/8 [==============================] - 0s 13ms/step - loss: 31.7748 - mae: 4.6208 - val_loss: 31.7704 - val_mae: 4.6911\n",
            "Epoch 11/50\n",
            "8/8 [==============================] - 0s 15ms/step - loss: 31.8921 - mae: 4.6065 - val_loss: 31.7704 - val_mae: 4.6911\n",
            "Epoch 12/50\n",
            "8/8 [==============================] - 0s 16ms/step - loss: 33.0123 - mae: 4.6758 - val_loss: 31.7704 - val_mae: 4.6911\n",
            "Epoch 13/50\n",
            "8/8 [==============================] - 0s 13ms/step - loss: 31.7608 - mae: 4.6156 - val_loss: 31.7704 - val_mae: 4.6911\n",
            "Epoch 14/50\n",
            "8/8 [==============================] - 0s 15ms/step - loss: 31.2976 - mae: 4.6014 - val_loss: 31.7704 - val_mae: 4.6911\n",
            "Epoch 15/50\n",
            "8/8 [==============================] - 0s 15ms/step - loss: 33.0672 - mae: 4.6719 - val_loss: 31.7704 - val_mae: 4.6911\n",
            "Epoch 16/50\n",
            "8/8 [==============================] - 0s 13ms/step - loss: 31.9787 - mae: 4.6164 - val_loss: 31.7704 - val_mae: 4.6911\n",
            "Epoch 17/50\n",
            "8/8 [==============================] - 0s 15ms/step - loss: 31.7069 - mae: 4.5905 - val_loss: 31.7704 - val_mae: 4.6911\n",
            "Epoch 18/50\n",
            "8/8 [==============================] - 0s 13ms/step - loss: 32.6611 - mae: 4.6456 - val_loss: 31.7704 - val_mae: 4.6911\n",
            "Epoch 19/50\n",
            "8/8 [==============================] - 0s 13ms/step - loss: 32.3615 - mae: 4.6376 - val_loss: 31.7704 - val_mae: 4.6911\n",
            "Epoch 20/50\n",
            "8/8 [==============================] - 0s 13ms/step - loss: 31.4884 - mae: 4.6127 - val_loss: 31.7704 - val_mae: 4.6911\n",
            "Epoch 21/50\n",
            "8/8 [==============================] - 0s 13ms/step - loss: 32.3367 - mae: 4.6550 - val_loss: 31.7704 - val_mae: 4.6911\n",
            "Epoch 22/50\n",
            "8/8 [==============================] - 0s 12ms/step - loss: 32.9688 - mae: 4.6568 - val_loss: 31.7704 - val_mae: 4.6911\n",
            "Epoch 23/50\n",
            "8/8 [==============================] - 0s 15ms/step - loss: 31.6888 - mae: 4.5928 - val_loss: 31.7704 - val_mae: 4.6911\n",
            "Epoch 24/50\n",
            "8/8 [==============================] - 0s 14ms/step - loss: 32.6538 - mae: 4.6330 - val_loss: 31.7704 - val_mae: 4.6911\n",
            "Epoch 25/50\n",
            "8/8 [==============================] - 0s 12ms/step - loss: 32.2898 - mae: 4.6557 - val_loss: 31.7704 - val_mae: 4.6911\n",
            "Epoch 26/50\n",
            "8/8 [==============================] - 0s 13ms/step - loss: 32.2567 - mae: 4.6330 - val_loss: 31.7704 - val_mae: 4.6911\n",
            "Epoch 27/50\n",
            "8/8 [==============================] - 0s 13ms/step - loss: 32.4177 - mae: 4.6372 - val_loss: 31.7704 - val_mae: 4.6911\n",
            "Epoch 28/50\n",
            "8/8 [==============================] - 0s 15ms/step - loss: 31.6617 - mae: 4.6136 - val_loss: 31.7704 - val_mae: 4.6911\n",
            "Epoch 29/50\n",
            "8/8 [==============================] - 0s 13ms/step - loss: 32.0500 - mae: 4.6269 - val_loss: 31.7704 - val_mae: 4.6911\n",
            "Epoch 30/50\n",
            "8/8 [==============================] - 0s 14ms/step - loss: 32.1958 - mae: 4.6375 - val_loss: 31.7704 - val_mae: 4.6911\n",
            "Epoch 31/50\n",
            "8/8 [==============================] - 0s 13ms/step - loss: 32.2965 - mae: 4.6453 - val_loss: 31.7704 - val_mae: 4.6911\n",
            "Epoch 32/50\n",
            "8/8 [==============================] - 0s 13ms/step - loss: 32.3919 - mae: 4.6593 - val_loss: 31.7704 - val_mae: 4.6911\n",
            "Epoch 33/50\n",
            "8/8 [==============================] - 0s 13ms/step - loss: 32.6113 - mae: 4.6553 - val_loss: 31.7704 - val_mae: 4.6911\n",
            "Epoch 34/50\n",
            "8/8 [==============================] - 0s 13ms/step - loss: 32.9916 - mae: 4.6828 - val_loss: 31.7704 - val_mae: 4.6911\n",
            "Epoch 35/50\n",
            "8/8 [==============================] - 0s 13ms/step - loss: 32.6502 - mae: 4.6518 - val_loss: 31.7704 - val_mae: 4.6911\n",
            "Epoch 36/50\n",
            "8/8 [==============================] - 0s 17ms/step - loss: 31.5648 - mae: 4.5931 - val_loss: 31.7704 - val_mae: 4.6911\n",
            "Epoch 37/50\n",
            "8/8 [==============================] - 0s 15ms/step - loss: 32.9992 - mae: 4.6801 - val_loss: 31.7704 - val_mae: 4.6911\n",
            "Epoch 38/50\n",
            "8/8 [==============================] - 0s 13ms/step - loss: 32.6467 - mae: 4.6516 - val_loss: 31.7704 - val_mae: 4.6911\n",
            "Epoch 39/50\n",
            "8/8 [==============================] - 0s 14ms/step - loss: 32.1713 - mae: 4.6179 - val_loss: 31.7704 - val_mae: 4.6911\n",
            "Epoch 40/50\n",
            "8/8 [==============================] - 0s 12ms/step - loss: 32.3678 - mae: 4.6469 - val_loss: 31.7704 - val_mae: 4.6911\n",
            "Epoch 41/50\n",
            "8/8 [==============================] - 0s 12ms/step - loss: 32.6585 - mae: 4.6534 - val_loss: 31.7704 - val_mae: 4.6911\n",
            "Epoch 42/50\n",
            "8/8 [==============================] - 0s 15ms/step - loss: 32.2417 - mae: 4.6199 - val_loss: 31.7704 - val_mae: 4.6911\n",
            "Epoch 43/50\n",
            "8/8 [==============================] - 0s 12ms/step - loss: 31.7483 - mae: 4.6200 - val_loss: 31.7704 - val_mae: 4.6911\n",
            "Epoch 44/50\n",
            "8/8 [==============================] - 0s 12ms/step - loss: 32.0124 - mae: 4.6285 - val_loss: 31.7704 - val_mae: 4.6911\n",
            "Epoch 45/50\n",
            "8/8 [==============================] - 0s 12ms/step - loss: 32.2795 - mae: 4.6283 - val_loss: 31.7704 - val_mae: 4.6911\n",
            "Epoch 46/50\n",
            "8/8 [==============================] - 0s 14ms/step - loss: 32.0165 - mae: 4.6409 - val_loss: 31.7704 - val_mae: 4.6911\n",
            "Epoch 47/50\n",
            "8/8 [==============================] - 0s 12ms/step - loss: 32.4966 - mae: 4.6330 - val_loss: 31.7704 - val_mae: 4.6911\n",
            "Epoch 48/50\n",
            "8/8 [==============================] - 0s 13ms/step - loss: 31.9398 - mae: 4.6137 - val_loss: 31.7704 - val_mae: 4.6911\n",
            "Epoch 49/50\n",
            "8/8 [==============================] - 0s 13ms/step - loss: 32.0698 - mae: 4.6146 - val_loss: 31.7704 - val_mae: 4.6911\n",
            "Epoch 50/50\n",
            "8/8 [==============================] - 0s 12ms/step - loss: 32.2007 - mae: 4.6169 - val_loss: 31.7704 - val_mae: 4.6911\n"
          ],
          "name": "stdout"
        }
      ]
    },
    {
      "cell_type": "code",
      "metadata": {
        "colab": {
          "base_uri": "https://localhost:8080/",
          "height": 295
        },
        "id": "pjkpS3nSybcL",
        "outputId": "3b5a6c91-758e-492d-f2c7-3d568d16c0f5"
      },
      "source": [
        "# Draw a graph of the loss, which is the distance between\r\n",
        "# the predicted and actual values during training and validation.\r\n",
        "train_loss = history_1.history['loss']\r\n",
        "val_loss = history_1.history['val_loss']\r\n",
        "epochs = range(1, len(train_loss) + 1)\r\n",
        "\r\n",
        "plt.plot(epochs, train_loss, 'g.', label='Training loss')\r\n",
        "plt.plot(epochs, val_loss, 'b', label='Validation loss')\r\n",
        "plt.title('Training and validation loss')\r\n",
        "plt.xlabel('Epochs')\r\n",
        "plt.ylabel('Loss')\r\n",
        "plt.legend()\r\n",
        "plt.show()"
      ],
      "execution_count": 28,
      "outputs": [
        {
          "output_type": "display_data",
          "data": {
            "image/png": "[encoded data removed]",
            "text/plain": [
              "<Figure size 432x288 with 1 Axes>"
            ]
          },
          "metadata": {
            "tags": [],
            "needs_background": "light"
          }
        }
      ]
    }
  ]
}