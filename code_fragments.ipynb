{
 "cells": [
  {
   "cell_type": "code",
   "execution_count": null,
   "metadata": {},
   "outputs": [],
   "source": [
    "import pdb; pdb.set_trace()\n",
    "\n",
    "def add_to_life_universe_everything(x):\n",
    "    answer = 42\n",
    "    # we want a breakpoint here\n",
    "    answer += x\n",
    "    \n",
    "    return answer\n",
    "\n",
    "add_to_life_universe_everything(12)"
   ]
  },
  {
   "cell_type": "code",
   "execution_count": null,
   "metadata": {},
   "outputs": [],
   "source": [
    "house_era = pd.Series(name='houseEra')\n",
    "adjusted_px = pd.Series(name='SoldPr')\n",
    "for i, row in titanic.iterrows():\n",
    "    if 'YearBuilt' in titanic.columns:\n",
    "      yb = row['YearBuilt']\n",
    "\n",
    "    if yb == 2020 or yb == 2021:\n",
    "      zz = 'new'\n",
    "    elif yb >= 2015 and yb < 2020:\n",
    "      zz = 'recent'\n",
    "    elif yb >= 2000 and yb < 2015:\n",
    "      zz = '20A'\n",
    "    elif yb >= 1975 and yb < 2000:\n",
    "      zz = '19A'\n",
    "    elif yb >= 1950 and yb < 1975:\n",
    "      zz = '19A'\n",
    "    elif yb >= 1925 and yb < 1950:\n",
    "      zz = '19B'\n",
    "    elif yb >= 1900 and yb < 1925:\n",
    "      zz = '19B'\n",
    "    else:\n",
    "      zz = 'Pre1900'\n",
    "    \n",
    "    house_era.at[i]=zz\n",
    "\n",
    "    px = row['SoldPr']\n",
    "    close_years = 2021 - row['YearClosed']\n",
    "    px = px * (1+0.025)**close_years\n",
    "    adjusted_px.at[i]=px\n",
    "\n",
    "#print(house_era)    \n",
    "titanic['houseEra'] = house_era\n",
    "titanic['SoldPr'] = adjusted_px\n",
    "titanic.pop('YearBuilt')\n",
    "titanic.pop('YearClosed')"
   ]
  },
  {
   "cell_type": "code",
   "execution_count": null,
   "metadata": {},
   "outputs": [],
   "source": [
    "import tensorflow as tf\n",
    "\n",
    "class myCallback(tf.keras.callbacks.Callback):\n",
    "  def on_epoch_end(self, epoch, logs={}):\n",
    "    if(logs.get('accuracy')>0.6):\n",
    "      print(\"\\nReached 60% accuracy so cancelling training!\")\n",
    "      self.model.stop_training = True\n",
    "\n",
    "mnist = tf.keras.datasets.fashion_mnist\n",
    "\n",
    "(x_train, y_train),(x_test, y_test) = mnist.load_data()\n",
    "x_train, x_test = x_train / 255.0, x_test / 255.0\n",
    "\n",
    "callbacks = myCallback()\n",
    "\n",
    "model = tf.keras.models.Sequential([\n",
    "  tf.keras.layers.Flatten(input_shape=(28, 28)),\n",
    "  tf.keras.layers.Dense(512, activation=tf.nn.relu),\n",
    "  tf.keras.layers.Dense(10, activation=tf.nn.softmax)\n",
    "])\n",
    "model.compile(optimizer=tf.optimizers.Adam(),\n",
    "              loss='sparse_categorical_crossentropy',\n",
    "              metrics=['accuracy'])\n",
    "\n",
    "model.fit(x_train, y_train, epochs=10, callbacks=[callbacks])"
   ]
  }
 ],
 "metadata": {
  "kernelspec": {
   "display_name": "Python 3",
   "language": "python",
   "name": "python3"
  },
  "language_info": {
   "codemirror_mode": {
    "name": "ipython",
    "version": 3
   },
   "file_extension": ".py",
   "mimetype": "text/x-python",
   "name": "python",
   "nbconvert_exporter": "python",
   "pygments_lexer": "ipython3",
   "version": "3.8.7"
  }
 },
 "nbformat": 4,
 "nbformat_minor": 4
}
