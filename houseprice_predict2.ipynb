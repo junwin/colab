{
  "nbformat": 4,
  "nbformat_minor": 0,
  "metadata": {
    "colab": {
      "name": "Copy of Copy of csv.ipynb",
      "provenance": [],
      "collapsed_sections": [],
      "toc_visible": true,
      "history_visible": true
    },
    "kernelspec": {
      "display_name": "Python 3",
      "name": "python3"
    }
  },
  "cells": [
    {
      "cell_type": "code",
      "metadata": {
        "cellView": "form",
        "id": "AVV2e0XKbJeX"
      },
      "source": [
        "#@title Licensed under the Apache License, Version 2.0 (the \"License\");\n",
        "# you may not use this file except in compliance with the License.\n",
        "# You may obtain a copy of the License at\n",
        "#\n",
        "# https://www.apache.org/licenses/LICENSE-2.0\n",
        "#\n",
        "# Unless required by applicable law or agreed to in writing, software\n",
        "# distributed under the License is distributed on an \"AS IS\" BASIS,\n",
        "# WITHOUT WARRANTIES OR CONDITIONS OF ANY KIND, either express or implied.\n",
        "# See the License for the specific language governing permissions and\n",
        "# limitations under the License."
      ],
      "execution_count": 469,
      "outputs": []
    },
    {
      "cell_type": "markdown",
      "metadata": {
        "id": "sUtoed20cRJJ"
      },
      "source": [
        "# Load CSV data"
      ]
    },
    {
      "cell_type": "markdown",
      "metadata": {
        "id": "C-3Xbt0FfGfs"
      },
      "source": [
        "This walkthrough provides examples of how to use CSV data with TensorFlow.\n",
        "\n",
        "There are two main parts to this:\n",
        "\n",
        "1. **Loading the data off disk**\n",
        "2. **Pre-processing it into a form suitable for training.**\n",
        "\n",
        "We will work with data in memory, since the features set is quite small\n",
        "\n",
        "Topics covered:\n",
        "* Loading data from a csv\n",
        "* splitting data into training, validation and test sets\n",
        "* Handling mixed types of data\n",
        "* Normalizing data\n",
        "* Handling categorical features\n",
        "* storing and re loading models\n",
        "\n",
        "\n"
      ]
    },
    {
      "cell_type": "markdown",
      "metadata": {
        "id": "fgZ9gjmPfSnK"
      },
      "source": [
        "## Setup"
      ]
    },
    {
      "cell_type": "code",
      "metadata": {
        "id": "baYFZMW_bJHh"
      },
      "source": [
        "import pandas as pd\n",
        "import numpy as np\n",
        "\n",
        "# Make numpy values easier to read.\n",
        "np.set_printoptions(precision=3, suppress=True)\n",
        "\n",
        "import tensorflow as tf\n",
        "from tensorflow.keras import layers\n",
        "from tensorflow.keras.layers.experimental import preprocessing\n",
        "from tensorflow.keras import regularizers\n",
        "#from sklearn import preprocessing\n",
        "\n",
        "\n",
        "\n",
        "from sklearn.model_selection import train_test_split"
      ],
      "execution_count": 470,
      "outputs": []
    },
    {
      "cell_type": "markdown",
      "metadata": {
        "id": "B87Rd1SOUv02"
      },
      "source": [
        "## Basic preprocessing"
      ]
    },
    {
      "cell_type": "code",
      "metadata": {
        "id": "GS-dBMpuYMnz",
        "colab": {
          "base_uri": "https://localhost:8080/",
          "height": 206
        },
        "outputId": "250008c3-2fa9-461c-82b0-8c319c5b9a23"
      },
      "source": [
        "#url=\"https://junwin.github.io/HouseData3.csv\"\n",
        "housePrices=pd.read_csv('/content/housepriceclean2.csv').sample(frac=1)\n",
        "housePrices.pop('ClosedDate')\n",
        "#housePrices.pop('YearBuilt')\n",
        "housePrices.head()\n",
        "\n",
        "#housePrices = pd.read_csv(\"https://storage.googleapis.com/tf-datasets/housePrices/train.csv\")\n"
      ],
      "execution_count": 471,
      "outputs": [
        {
          "output_type": "execute_result",
          "data": {
            "text/html": [
              "<div>\n",
              "<style scoped>\n",
              "    .dataframe tbody tr th:only-of-type {\n",
              "        vertical-align: middle;\n",
              "    }\n",
              "\n",
              "    .dataframe tbody tr th {\n",
              "        vertical-align: top;\n",
              "    }\n",
              "\n",
              "    .dataframe thead th {\n",
              "        text-align: right;\n",
              "    }\n",
              "</style>\n",
              "<table border=\"1\" class=\"dataframe\">\n",
              "  <thead>\n",
              "    <tr style=\"text-align: right;\">\n",
              "      <th></th>\n",
              "      <th>SoldPr</th>\n",
              "      <th>Type</th>\n",
              "      <th>Zip</th>\n",
              "      <th>Area</th>\n",
              "      <th>Rooms</th>\n",
              "      <th>FullBaths</th>\n",
              "      <th>HalfBaths</th>\n",
              "      <th>BsmtBth</th>\n",
              "      <th>Beds</th>\n",
              "      <th>BsmtBeds</th>\n",
              "      <th>GarageSpaces</th>\n",
              "      <th>houseEra</th>\n",
              "    </tr>\n",
              "  </thead>\n",
              "  <tbody>\n",
              "    <tr>\n",
              "      <th>3668</th>\n",
              "      <td>456125.000000</td>\n",
              "      <td>SFH</td>\n",
              "      <td>60203</td>\n",
              "      <td>2349</td>\n",
              "      <td>9</td>\n",
              "      <td>2</td>\n",
              "      <td>0</td>\n",
              "      <td>No</td>\n",
              "      <td>3.0</td>\n",
              "      <td>0</td>\n",
              "      <td>1.0</td>\n",
              "      <td>19B</td>\n",
              "    </tr>\n",
              "    <tr>\n",
              "      <th>1989</th>\n",
              "      <td>727557.812500</td>\n",
              "      <td>SFH</td>\n",
              "      <td>60062</td>\n",
              "      <td>3222</td>\n",
              "      <td>12</td>\n",
              "      <td>3</td>\n",
              "      <td>1</td>\n",
              "      <td>Yes</td>\n",
              "      <td>4.0</td>\n",
              "      <td>0</td>\n",
              "      <td>2.0</td>\n",
              "      <td>19A</td>\n",
              "    </tr>\n",
              "    <tr>\n",
              "      <th>1167</th>\n",
              "      <td>229456.500000</td>\n",
              "      <td>SFH</td>\n",
              "      <td>60062</td>\n",
              "      <td>1068</td>\n",
              "      <td>5</td>\n",
              "      <td>1</td>\n",
              "      <td>0</td>\n",
              "      <td>No</td>\n",
              "      <td>2.0</td>\n",
              "      <td>0</td>\n",
              "      <td>1.0</td>\n",
              "      <td>19A</td>\n",
              "    </tr>\n",
              "    <tr>\n",
              "      <th>2266</th>\n",
              "      <td>364258.253906</td>\n",
              "      <td>SFH</td>\n",
              "      <td>60062</td>\n",
              "      <td>1775</td>\n",
              "      <td>6</td>\n",
              "      <td>2</td>\n",
              "      <td>0</td>\n",
              "      <td>No</td>\n",
              "      <td>2.0</td>\n",
              "      <td>0</td>\n",
              "      <td>2.0</td>\n",
              "      <td>19A</td>\n",
              "    </tr>\n",
              "    <tr>\n",
              "      <th>3480</th>\n",
              "      <td>430500.000000</td>\n",
              "      <td>SFH</td>\n",
              "      <td>60025</td>\n",
              "      <td>1372</td>\n",
              "      <td>8</td>\n",
              "      <td>3</td>\n",
              "      <td>0</td>\n",
              "      <td>No</td>\n",
              "      <td>3.0</td>\n",
              "      <td>1</td>\n",
              "      <td>2.0</td>\n",
              "      <td>19A</td>\n",
              "    </tr>\n",
              "  </tbody>\n",
              "</table>\n",
              "</div>"
            ],
            "text/plain": [
              "             SoldPr Type    Zip  Area  ...  Beds  BsmtBeds  GarageSpaces houseEra\n",
              "3668  456125.000000  SFH  60203  2349  ...   3.0         0           1.0      19B\n",
              "1989  727557.812500  SFH  60062  3222  ...   4.0         0           2.0      19A\n",
              "1167  229456.500000  SFH  60062  1068  ...   2.0         0           1.0      19A\n",
              "2266  364258.253906  SFH  60062  1775  ...   2.0         0           2.0      19A\n",
              "3480  430500.000000  SFH  60025  1372  ...   3.0         1           2.0      19A\n",
              "\n",
              "[5 rows x 12 columns]"
            ]
          },
          "metadata": {
            "tags": []
          },
          "execution_count": 471
        }
      ]
    },
    {
      "cell_type": "code",
      "metadata": {
        "id": "y6eKJbdMPZJT"
      },
      "source": [
        "#housePrices = housePrices.loc[(housePrices['Zip'] == 60076) & (housePrices['Type'] == 'SFH')]"
      ],
      "execution_count": 472,
      "outputs": []
    },
    {
      "cell_type": "markdown",
      "metadata": {
        "id": "XoY69vs9Mazt"
      },
      "source": [
        "#Working with input data\r\n",
        "There one feature worth exploring is the year the propert was built, here, I am experimenting with changing the year to a range of time."
      ]
    },
    {
      "cell_type": "code",
      "metadata": {
        "id": "tgdT-LHJXpC5"
      },
      "source": [
        "# save a copy\r\n",
        "#housePrices.to_csv('/content/housepriceclean2.csv', index=False) "
      ],
      "execution_count": 473,
      "outputs": []
    },
    {
      "cell_type": "code",
      "metadata": {
        "colab": {
          "base_uri": "https://localhost:8080/"
        },
        "id": "nngEWwnpx6eJ",
        "outputId": "fbde5280-c3b1-4bbb-980e-576e52dc6ca5"
      },
      "source": [
        "housePrices['Zip'] = housePrices['Zip'].astype(str) \r\n",
        "housePrices.dtypes\r\n"
      ],
      "execution_count": 474,
      "outputs": [
        {
          "output_type": "execute_result",
          "data": {
            "text/plain": [
              "SoldPr          float64\n",
              "Type             object\n",
              "Zip              object\n",
              "Area              int64\n",
              "Rooms             int64\n",
              "FullBaths         int64\n",
              "HalfBaths         int64\n",
              "BsmtBth          object\n",
              "Beds            float64\n",
              "BsmtBeds          int64\n",
              "GarageSpaces    float64\n",
              "houseEra         object\n",
              "dtype: object"
            ]
          },
          "metadata": {
            "tags": []
          },
          "execution_count": 474
        }
      ]
    },
    {
      "cell_type": "code",
      "metadata": {
        "colab": {
          "base_uri": "https://localhost:8080/"
        },
        "id": "yPhMIKlWmWo_",
        "outputId": "a58b4d6d-1627-4eb5-d1d4-870f3f21e89c"
      },
      "source": [
        "train, test = train_test_split(housePrices, test_size=0.2)\r\n",
        "train, val = train_test_split(train, test_size=0.2)\r\n",
        "print(len(train), 'train examples')\r\n",
        "print(len(val), 'validation examples')\r\n",
        "print(len(test), 'test examples')\r\n"
      ],
      "execution_count": 475,
      "outputs": [
        {
          "output_type": "stream",
          "text": [
            "5988 train examples\n",
            "1498 validation examples\n",
            "1872 test examples\n"
          ],
          "name": "stdout"
        }
      ]
    },
    {
      "cell_type": "code",
      "metadata": {
        "id": "D8rCGIK1ZzKx"
      },
      "source": [
        "housePrices_features = train.copy()\n",
        "housePrices_labels = housePrices_features.pop('SoldPr')\n",
        "housePrices_labels = housePrices_labels/100000\n",
        "\n",
        "val_features = val.copy()\n",
        "val_labels = val.pop('SoldPr')\n",
        "val_labels = val_labels/100000"
      ],
      "execution_count": 476,
      "outputs": []
    },
    {
      "cell_type": "code",
      "metadata": {
        "colab": {
          "base_uri": "https://localhost:8080/"
        },
        "id": "3VshL1mDKSf6",
        "outputId": "903aefe7-2f67-4a81-e5a4-a77f39f3c580"
      },
      "source": [
        "print(housePrices_features.dtypes)\r\n",
        "print(housePrices_labels.dtypes)"
      ],
      "execution_count": 477,
      "outputs": [
        {
          "output_type": "stream",
          "text": [
            "Type             object\n",
            "Zip              object\n",
            "Area              int64\n",
            "Rooms             int64\n",
            "FullBaths         int64\n",
            "HalfBaths         int64\n",
            "BsmtBth          object\n",
            "Beds            float64\n",
            "BsmtBeds          int64\n",
            "GarageSpaces    float64\n",
            "houseEra         object\n",
            "dtype: object\n",
            "float64\n"
          ],
          "name": "stdout"
        }
      ]
    },
    {
      "cell_type": "markdown",
      "metadata": {
        "id": "urHOwpCDYtcI"
      },
      "source": [
        "Because of the different data types and ranges you can't simply stack the features into  NumPy array and pass it to a `keras.Sequential` model. Each column needs to be handled individually. \n",
        "\n",
        "As one option, you could preprocess your data offline (using any tool you like) to convert categorical columns to numeric columns, then pass the processed output to your TensorFlow model. The disadvantage to that approach is that if you save and export your model the preprocessing is not saved with it. The `experimental.preprocessing` layers avoid this problem because they're part of the model.\n"
      ]
    },
    {
      "cell_type": "markdown",
      "metadata": {
        "id": "Bta4Sx0Zau5v"
      },
      "source": [
        "In this example, you'll build a model that implements the preprocessing logic using [Keras functional API](https://www.tensorflow.org/guide/keras/functional.ipynb). You could also do it by [subclassing](https://www.tensorflow.org/guide/keras/custom_layers_and_models).\n",
        "\n",
        "The functional API operates on \"symbolic\" tensors. Normal \"eager\" tensors have a value. In contrast these \"symbolic\" tensors do not. Instead they keep track of which operations are run on them, and build representation of the calculation, that you can run later. Here's a quick example:"
      ]
    },
    {
      "cell_type": "markdown",
      "metadata": {
        "id": "rNS9lT7f6_U2"
      },
      "source": [
        "To build the preprocessing model, start by building a set of symbolic `keras.Input` objects, matching the names and data-types of the CSV columns."
      ]
    },
    {
      "cell_type": "code",
      "metadata": {
        "id": "5WODe_1da3yw",
        "colab": {
          "base_uri": "https://localhost:8080/"
        },
        "outputId": "b071fae0-6bcf-41cf-ef82-bb1f53db3e4a"
      },
      "source": [
        "inputs = {}\n",
        "\n",
        "for name, column in housePrices_features.items():\n",
        "  dtype = column.dtype\n",
        "  if dtype == object:\n",
        "    dtype = tf.string\n",
        "  else:\n",
        "    dtype = tf.float32\n",
        "\n",
        "  inputs[name] = tf.keras.Input(shape=(1,), name=name, dtype=dtype)\n",
        "\n",
        "inputs"
      ],
      "execution_count": 478,
      "outputs": [
        {
          "output_type": "execute_result",
          "data": {
            "text/plain": [
              "{'Area': <KerasTensor: shape=(None, 1) dtype=float32 (created by layer 'Area')>,\n",
              " 'Beds': <KerasTensor: shape=(None, 1) dtype=float32 (created by layer 'Beds')>,\n",
              " 'BsmtBeds': <KerasTensor: shape=(None, 1) dtype=float32 (created by layer 'BsmtBeds')>,\n",
              " 'BsmtBth': <KerasTensor: shape=(None, 1) dtype=string (created by layer 'BsmtBth')>,\n",
              " 'FullBaths': <KerasTensor: shape=(None, 1) dtype=float32 (created by layer 'FullBaths')>,\n",
              " 'GarageSpaces': <KerasTensor: shape=(None, 1) dtype=float32 (created by layer 'GarageSpaces')>,\n",
              " 'HalfBaths': <KerasTensor: shape=(None, 1) dtype=float32 (created by layer 'HalfBaths')>,\n",
              " 'Rooms': <KerasTensor: shape=(None, 1) dtype=float32 (created by layer 'Rooms')>,\n",
              " 'Type': <KerasTensor: shape=(None, 1) dtype=string (created by layer 'Type')>,\n",
              " 'Zip': <KerasTensor: shape=(None, 1) dtype=string (created by layer 'Zip')>,\n",
              " 'houseEra': <KerasTensor: shape=(None, 1) dtype=string (created by layer 'houseEra')>}"
            ]
          },
          "metadata": {
            "tags": []
          },
          "execution_count": 478
        }
      ]
    },
    {
      "cell_type": "markdown",
      "metadata": {
        "id": "aaheJFmymq8l"
      },
      "source": [
        "The first step in your preprocessing logic is to concatenate the numeric inputs together, and run them through a normalization layer:"
      ]
    },
    {
      "cell_type": "code",
      "metadata": {
        "id": "wPRC_E6rkp8D",
        "colab": {
          "base_uri": "https://localhost:8080/"
        },
        "outputId": "34e0d34b-629c-4fdb-c4df-34000235156c"
      },
      "source": [
        "numeric_inputs = {name:input for name,input in inputs.items()\n",
        "                  if input.dtype==tf.float32}\n",
        "\n",
        "x = layers.Concatenate()(list(numeric_inputs.values()))\n",
        "norm = preprocessing.Normalization()\n",
        "norm.adapt(np.array(housePrices[numeric_inputs.keys()]))\n",
        "all_numeric_inputs = norm(x)\n",
        "\n",
        "all_numeric_inputs"
      ],
      "execution_count": 479,
      "outputs": [
        {
          "output_type": "execute_result",
          "data": {
            "text/plain": [
              "<KerasTensor: shape=(None, 7) dtype=float32 (created by layer 'normalization_16')>"
            ]
          },
          "metadata": {
            "tags": []
          },
          "execution_count": 479
        }
      ]
    },
    {
      "cell_type": "markdown",
      "metadata": {
        "id": "-JoR45Uj712l"
      },
      "source": [
        "Collect all the symbolic preprocessing results, to concatenate them later."
      ]
    },
    {
      "cell_type": "code",
      "metadata": {
        "id": "M7jIJw5XntdN"
      },
      "source": [
        "preprocessed_inputs = [all_numeric_inputs]"
      ],
      "execution_count": 480,
      "outputs": []
    },
    {
      "cell_type": "markdown",
      "metadata": {
        "id": "r0Hryylyosfm"
      },
      "source": [
        "For the string inputs use the `preprocessing.StringLookup` function to map from strings to integer indices in a vocabulary. Next, use `preprocessing.CategoryEncoding` to convert the indexes into `float32` data appropriate for the model. \n",
        "\n",
        "The default settings for the `preprocessing.CategoryEncoding` layer create a one-hot vector for each input. A `layers.Embedding` would also work. See the [preprocessing layers guide](https://www.tensorflow.org/guide/keras/preprocessing_layers#quick_recipes) and [tutorial](../structured_data/preprocessing_layers.ipynb) for more on this topic."
      ]
    },
    {
      "cell_type": "code",
      "metadata": {
        "colab": {
          "base_uri": "https://localhost:8080/"
        },
        "id": "h7f0HGorqTUL",
        "outputId": "afea5362-5d34-42b5-9eab-6d10fae51dd8"
      },
      "source": [
        "zz=housePrices_features['Zip']\r\n",
        "xxx = zz.to_numpy()\r\n",
        "zz.unique()\r\n",
        "#asd = ['SFH','Duplex','Condo', 'Townhouse']\r\n",
        "#np.unique(xxx)\r\n",
        "#rslt_df = housePrices_features[housePrices_features['Type'] in asd] "
      ],
      "execution_count": 481,
      "outputs": [
        {
          "output_type": "execute_result",
          "data": {
            "text/plain": [
              "array(['60025', '60026', '60076', '60062', '60202', '60077', '60002',\n",
              "       '60053', '60091', '60201', '60203', '60625', '60029', '60626',\n",
              "       '60035', '60067', '63104'], dtype=object)"
            ]
          },
          "metadata": {
            "tags": []
          },
          "execution_count": 481
        }
      ]
    },
    {
      "cell_type": "code",
      "metadata": {
        "id": "79fi1Cgan2YV"
      },
      "source": [
        "for name, input in inputs.items():\n",
        "  if input.dtype == tf.float32:\n",
        "    continue\n",
        "  \n",
        "  lookup = preprocessing.StringLookup(vocabulary=np.unique(housePrices_features[name]))\n",
        "  one_hot = preprocessing.CategoryEncoding(max_tokens=lookup.vocab_size())\n",
        "\n",
        "  x = lookup(input)\n",
        "  x = one_hot(x)\n",
        "  preprocessed_inputs.append(x)"
      ],
      "execution_count": 482,
      "outputs": []
    },
    {
      "cell_type": "markdown",
      "metadata": {
        "id": "Wnhv0T7itnc7"
      },
      "source": [
        "With the collection of `inputs` and `processed_inputs`, you can concatenate all the preprocessed inputs together, and build a model that handles the preprocessing:"
      ]
    },
    {
      "cell_type": "code",
      "metadata": {
        "id": "XJRzUTe8ukXc",
        "colab": {
          "base_uri": "https://localhost:8080/",
          "height": 863
        },
        "outputId": "2e1628cc-06e2-4c63-8130-dc310f8d6f62"
      },
      "source": [
        "preprocessed_inputs_cat = layers.Concatenate()(preprocessed_inputs)\n",
        "\n",
        "housePrices_preprocessing = tf.keras.Model(inputs, preprocessed_inputs_cat)\n",
        "\n",
        "tf.keras.utils.plot_model(model = housePrices_preprocessing , rankdir=\"LR\", dpi=72, show_shapes=True)"
      ],
      "execution_count": 483,
      "outputs": [
        {
          "output_type": "execute_result",
          "data": {
            "image/png": "[encoded data removed]",
            "text/plain": [
              "<IPython.core.display.Image object>"
            ]
          },
          "metadata": {
            "tags": []
          },
          "execution_count": 483
        }
      ]
    },
    {
      "cell_type": "markdown",
      "metadata": {
        "id": "PNHxrNW8vdda"
      },
      "source": [
        "This `model` just contains the input preprocessing. You can run it to see what it does to your data. Keras models don't automatically convert Pandas `DataFrames` because it's not clear if it should be converted to one tensor or to a dictionary of tensors. So convert it to a dictionary of tensors:"
      ]
    },
    {
      "cell_type": "code",
      "metadata": {
        "id": "5YjdYyMEacwQ"
      },
      "source": [
        "housePrices_features_dict = {name: np.array(value) \n",
        "                         for name, value in housePrices_features.items()}"
      ],
      "execution_count": 484,
      "outputs": []
    },
    {
      "cell_type": "markdown",
      "metadata": {
        "id": "0nKJYoPByada"
      },
      "source": [
        "Slice out the first training example and pass it to this preprocessing model, you see the numeric features and string one-hots all concatenated together:"
      ]
    },
    {
      "cell_type": "code",
      "metadata": {
        "id": "SjnmU8PSv8T3",
        "colab": {
          "base_uri": "https://localhost:8080/"
        },
        "outputId": "ae04ee9e-36e1-4d33-9200-1bed3b55aee1"
      },
      "source": [
        "features_dict = {name:values[:1] for name, values in housePrices_features_dict.items()}\n",
        "housePrices_preprocessing(features_dict)"
      ],
      "execution_count": 485,
      "outputs": [
        {
          "output_type": "execute_result",
          "data": {
            "text/plain": [
              "<tf.Tensor: shape=(1, 44), dtype=float32, numpy=\n",
              "array([[-0.509, -0.399, -0.236, -0.959, -0.226, -0.374, -0.499,  0.   ,\n",
              "         0.   ,  0.   ,  0.   ,  1.   ,  0.   ,  0.   ,  0.   ,  0.   ,\n",
              "         1.   ,  0.   ,  0.   ,  0.   ,  0.   ,  0.   ,  0.   ,  0.   ,\n",
              "         0.   ,  0.   ,  0.   ,  0.   ,  0.   ,  0.   ,  0.   ,  0.   ,\n",
              "         0.   ,  0.   ,  1.   ,  0.   ,  0.   ,  0.   ,  1.   ,  0.   ,\n",
              "         0.   ,  0.   ,  0.   ,  0.   ]], dtype=float32)>"
            ]
          },
          "metadata": {
            "tags": []
          },
          "execution_count": 485
        }
      ]
    },
    {
      "cell_type": "markdown",
      "metadata": {
        "id": "qkBf4LvmzMDp"
      },
      "source": [
        "Now build the model on top of this:"
      ]
    },
    {
      "cell_type": "code",
      "metadata": {
        "id": "coIPtGaCzUV7"
      },
      "source": [
        "def housePrices_model(preprocessing_head, inputs):\n",
        "  body = tf.keras.Sequential([\n",
        "    layers.Dense(128,activation='relu', kernel_regularizer=regularizers.l2(0.001)),\n",
        "    layers.Dense(32,activation='relu', kernel_regularizer=regularizers.l2(0.001)),\n",
        "    #layers.Dense(64,activation='relu'),\n",
        "    layers.Dense(1)\n",
        "  ])\n",
        "\n",
        "  preprocessed_inputs = preprocessing_head(inputs)\n",
        "  result = body(preprocessed_inputs)\n",
        "  model = tf.keras.Model(inputs, result)\n",
        "\n",
        "  model.compile(loss='mse', optimizer='adam', metrics=['mae'])\n",
        "  return model\n",
        "\n",
        "housePrices_model = housePrices_model(housePrices_preprocessing, inputs)"
      ],
      "execution_count": 486,
      "outputs": []
    },
    {
      "cell_type": "markdown",
      "metadata": {
        "id": "LK5uBQQF2KbZ"
      },
      "source": [
        "When you train the model, pass the dictionary of features as `x`, and the label as `y`."
      ]
    },
    {
      "cell_type": "code",
      "metadata": {
        "colab": {
          "base_uri": "https://localhost:8080/"
        },
        "id": "VpMHKYTqomAL",
        "outputId": "3c609ef9-abf0-4eb2-ae49-37c021b26abf"
      },
      "source": [
        "val_features_dict = {name: np.array(value) \r\n",
        "                         for name, value in val.items()}\r\n",
        "history_1 = housePrices_model.fit(x=housePrices_features_dict, y=housePrices_labels,epochs=500,\r\n",
        "                        validation_data=(val_features_dict, val_labels))"
      ],
      "execution_count": 487,
      "outputs": [
        {
          "output_type": "stream",
          "text": [
            "Epoch 1/500\n",
            "188/188 [==============================] - 1s 4ms/step - loss: 13.3079 - mae: 2.4072 - val_loss: 2.2090 - val_mae: 0.9289\n",
            "Epoch 2/500\n",
            "188/188 [==============================] - 0s 3ms/step - loss: 2.0261 - mae: 0.8730 - val_loss: 1.9214 - val_mae: 0.8474\n",
            "Epoch 3/500\n",
            "188/188 [==============================] - 0s 3ms/step - loss: 1.9857 - mae: 0.8362 - val_loss: 1.9624 - val_mae: 0.8433\n",
            "Epoch 4/500\n",
            "188/188 [==============================] - 0s 2ms/step - loss: 1.8259 - mae: 0.8189 - val_loss: 1.8042 - val_mae: 0.8137\n",
            "Epoch 5/500\n",
            "188/188 [==============================] - 0s 3ms/step - loss: 1.8148 - mae: 0.8044 - val_loss: 1.7796 - val_mae: 0.7974\n",
            "Epoch 6/500\n",
            "188/188 [==============================] - 0s 3ms/step - loss: 1.5940 - mae: 0.7771 - val_loss: 1.7282 - val_mae: 0.7947\n",
            "Epoch 7/500\n",
            "188/188 [==============================] - 0s 2ms/step - loss: 1.5555 - mae: 0.7556 - val_loss: 1.7056 - val_mae: 0.7936\n",
            "Epoch 8/500\n",
            "188/188 [==============================] - 0s 3ms/step - loss: 1.5660 - mae: 0.7644 - val_loss: 1.7586 - val_mae: 0.7919\n",
            "Epoch 9/500\n",
            "188/188 [==============================] - 1s 3ms/step - loss: 1.6205 - mae: 0.7609 - val_loss: 1.7475 - val_mae: 0.7995\n",
            "Epoch 10/500\n",
            "188/188 [==============================] - 0s 3ms/step - loss: 1.5107 - mae: 0.7515 - val_loss: 1.7345 - val_mae: 0.7999\n",
            "Epoch 11/500\n",
            "188/188 [==============================] - 1s 3ms/step - loss: 1.6760 - mae: 0.7850 - val_loss: 1.6924 - val_mae: 0.7713\n",
            "Epoch 12/500\n",
            "188/188 [==============================] - 0s 3ms/step - loss: 1.6452 - mae: 0.7550 - val_loss: 1.7245 - val_mae: 0.7910\n",
            "Epoch 13/500\n",
            "188/188 [==============================] - 0s 3ms/step - loss: 1.4594 - mae: 0.7420 - val_loss: 1.7015 - val_mae: 0.7722\n",
            "Epoch 14/500\n",
            "188/188 [==============================] - 0s 3ms/step - loss: 1.4504 - mae: 0.7332 - val_loss: 1.6626 - val_mae: 0.7757\n",
            "Epoch 15/500\n",
            "188/188 [==============================] - 0s 3ms/step - loss: 1.5051 - mae: 0.7433 - val_loss: 1.7265 - val_mae: 0.7832\n",
            "Epoch 16/500\n",
            "188/188 [==============================] - 0s 3ms/step - loss: 1.5413 - mae: 0.7514 - val_loss: 1.7083 - val_mae: 0.7657\n",
            "Epoch 17/500\n",
            "188/188 [==============================] - 0s 3ms/step - loss: 1.4282 - mae: 0.7189 - val_loss: 1.6994 - val_mae: 0.8248\n",
            "Epoch 18/500\n",
            "188/188 [==============================] - 0s 3ms/step - loss: 1.4467 - mae: 0.7409 - val_loss: 1.6953 - val_mae: 0.7802\n",
            "Epoch 19/500\n",
            "188/188 [==============================] - 0s 3ms/step - loss: 1.3494 - mae: 0.7231 - val_loss: 1.7436 - val_mae: 0.7779\n",
            "Epoch 20/500\n",
            "188/188 [==============================] - 0s 3ms/step - loss: 1.3598 - mae: 0.7251 - val_loss: 1.6880 - val_mae: 0.7557\n",
            "Epoch 21/500\n",
            "188/188 [==============================] - 0s 3ms/step - loss: 1.2855 - mae: 0.6940 - val_loss: 1.6361 - val_mae: 0.7698\n",
            "Epoch 22/500\n",
            "188/188 [==============================] - 0s 2ms/step - loss: 1.3010 - mae: 0.7006 - val_loss: 1.7025 - val_mae: 0.7749\n",
            "Epoch 23/500\n",
            "188/188 [==============================] - 0s 3ms/step - loss: 1.2980 - mae: 0.7051 - val_loss: 1.6482 - val_mae: 0.7536\n",
            "Epoch 24/500\n",
            "188/188 [==============================] - 0s 2ms/step - loss: 1.3548 - mae: 0.7078 - val_loss: 1.7194 - val_mae: 0.7709\n",
            "Epoch 25/500\n",
            "188/188 [==============================] - 0s 3ms/step - loss: 1.4998 - mae: 0.7408 - val_loss: 1.7604 - val_mae: 0.7807\n",
            "Epoch 26/500\n",
            "188/188 [==============================] - 0s 2ms/step - loss: 1.2411 - mae: 0.6913 - val_loss: 1.6343 - val_mae: 0.7596\n",
            "Epoch 27/500\n",
            "188/188 [==============================] - 0s 2ms/step - loss: 1.2896 - mae: 0.7010 - val_loss: 1.7102 - val_mae: 0.7959\n",
            "Epoch 28/500\n",
            "188/188 [==============================] - 1s 3ms/step - loss: 1.3337 - mae: 0.6968 - val_loss: 1.6376 - val_mae: 0.7628\n",
            "Epoch 29/500\n",
            "188/188 [==============================] - 0s 2ms/step - loss: 1.3239 - mae: 0.6962 - val_loss: 1.6733 - val_mae: 0.7595\n",
            "Epoch 30/500\n",
            "188/188 [==============================] - 0s 3ms/step - loss: 1.2578 - mae: 0.7000 - val_loss: 1.6467 - val_mae: 0.7580\n",
            "Epoch 31/500\n",
            "188/188 [==============================] - 0s 3ms/step - loss: 1.2048 - mae: 0.6769 - val_loss: 1.6510 - val_mae: 0.7626\n",
            "Epoch 32/500\n",
            "188/188 [==============================] - 0s 3ms/step - loss: 1.1920 - mae: 0.6917 - val_loss: 1.8442 - val_mae: 0.7952\n",
            "Epoch 33/500\n",
            "188/188 [==============================] - 0s 2ms/step - loss: 1.2510 - mae: 0.6853 - val_loss: 1.6895 - val_mae: 0.7588\n",
            "Epoch 34/500\n",
            "188/188 [==============================] - 0s 3ms/step - loss: 1.2023 - mae: 0.6734 - val_loss: 1.6788 - val_mae: 0.7921\n",
            "Epoch 35/500\n",
            "188/188 [==============================] - 0s 3ms/step - loss: 1.2542 - mae: 0.6878 - val_loss: 2.0416 - val_mae: 0.8354\n",
            "Epoch 36/500\n",
            "188/188 [==============================] - 0s 3ms/step - loss: 1.3480 - mae: 0.7229 - val_loss: 1.7196 - val_mae: 0.7675\n",
            "Epoch 37/500\n",
            "188/188 [==============================] - 0s 3ms/step - loss: 1.2432 - mae: 0.6823 - val_loss: 1.8256 - val_mae: 0.8292\n",
            "Epoch 38/500\n",
            "188/188 [==============================] - 1s 4ms/step - loss: 1.5339 - mae: 0.7755 - val_loss: 1.7830 - val_mae: 0.7876\n",
            "Epoch 39/500\n",
            "188/188 [==============================] - 0s 2ms/step - loss: 1.2239 - mae: 0.6791 - val_loss: 1.6725 - val_mae: 0.7608\n",
            "Epoch 40/500\n",
            "188/188 [==============================] - 0s 3ms/step - loss: 1.2713 - mae: 0.6982 - val_loss: 1.7108 - val_mae: 0.7635\n",
            "Epoch 41/500\n",
            "188/188 [==============================] - 0s 3ms/step - loss: 1.1856 - mae: 0.6712 - val_loss: 1.7331 - val_mae: 0.7726\n",
            "Epoch 42/500\n",
            "188/188 [==============================] - 0s 3ms/step - loss: 1.2007 - mae: 0.6703 - val_loss: 1.6835 - val_mae: 0.7605\n",
            "Epoch 43/500\n",
            "188/188 [==============================] - 0s 2ms/step - loss: 1.1785 - mae: 0.6604 - val_loss: 1.7161 - val_mae: 0.7787\n",
            "Epoch 44/500\n",
            "188/188 [==============================] - 0s 3ms/step - loss: 1.1434 - mae: 0.6560 - val_loss: 1.9628 - val_mae: 0.8203\n",
            "Epoch 45/500\n",
            "188/188 [==============================] - 0s 3ms/step - loss: 1.3212 - mae: 0.6923 - val_loss: 1.7435 - val_mae: 0.7632\n",
            "Epoch 46/500\n",
            "188/188 [==============================] - 0s 3ms/step - loss: 1.1619 - mae: 0.6642 - val_loss: 1.6400 - val_mae: 0.7579\n",
            "Epoch 47/500\n",
            "188/188 [==============================] - 0s 3ms/step - loss: 1.2176 - mae: 0.6739 - val_loss: 1.7089 - val_mae: 0.7610\n",
            "Epoch 48/500\n",
            "188/188 [==============================] - 1s 3ms/step - loss: 1.1570 - mae: 0.6649 - val_loss: 1.6783 - val_mae: 0.7627\n",
            "Epoch 49/500\n",
            "188/188 [==============================] - 0s 2ms/step - loss: 1.1550 - mae: 0.6607 - val_loss: 1.7331 - val_mae: 0.7686\n",
            "Epoch 50/500\n",
            "188/188 [==============================] - 0s 3ms/step - loss: 1.1781 - mae: 0.6699 - val_loss: 1.7559 - val_mae: 0.7880\n",
            "Epoch 51/500\n",
            "188/188 [==============================] - 0s 3ms/step - loss: 1.1148 - mae: 0.6469 - val_loss: 1.7640 - val_mae: 0.8134\n",
            "Epoch 52/500\n",
            "188/188 [==============================] - 0s 3ms/step - loss: 1.1561 - mae: 0.6733 - val_loss: 1.7202 - val_mae: 0.7775\n",
            "Epoch 53/500\n",
            "188/188 [==============================] - 0s 3ms/step - loss: 1.1223 - mae: 0.6442 - val_loss: 1.8943 - val_mae: 0.8012\n",
            "Epoch 54/500\n",
            "188/188 [==============================] - 0s 3ms/step - loss: 1.2055 - mae: 0.6695 - val_loss: 1.7364 - val_mae: 0.7618\n",
            "Epoch 55/500\n",
            "188/188 [==============================] - 0s 3ms/step - loss: 1.1617 - mae: 0.6684 - val_loss: 1.7773 - val_mae: 0.7759\n",
            "Epoch 56/500\n",
            "188/188 [==============================] - 0s 3ms/step - loss: 1.1095 - mae: 0.6455 - val_loss: 1.7364 - val_mae: 0.7691\n",
            "Epoch 57/500\n",
            "188/188 [==============================] - 0s 3ms/step - loss: 0.9651 - mae: 0.6126 - val_loss: 1.7946 - val_mae: 0.7767\n",
            "Epoch 58/500\n",
            "188/188 [==============================] - 1s 3ms/step - loss: 1.0569 - mae: 0.6242 - val_loss: 1.7534 - val_mae: 0.7704\n",
            "Epoch 59/500\n",
            "188/188 [==============================] - 0s 3ms/step - loss: 1.1193 - mae: 0.6498 - val_loss: 1.7863 - val_mae: 0.7889\n",
            "Epoch 60/500\n",
            "188/188 [==============================] - 0s 3ms/step - loss: 1.1178 - mae: 0.6548 - val_loss: 1.8076 - val_mae: 0.7887\n",
            "Epoch 61/500\n",
            "188/188 [==============================] - 0s 3ms/step - loss: 1.0982 - mae: 0.6551 - val_loss: 2.0907 - val_mae: 0.8501\n",
            "Epoch 62/500\n",
            "188/188 [==============================] - 0s 3ms/step - loss: 1.1445 - mae: 0.6605 - val_loss: 1.7756 - val_mae: 0.7932\n",
            "Epoch 63/500\n",
            "188/188 [==============================] - 0s 3ms/step - loss: 1.0107 - mae: 0.6318 - val_loss: 1.7088 - val_mae: 0.7753\n",
            "Epoch 64/500\n",
            "188/188 [==============================] - 0s 3ms/step - loss: 1.0794 - mae: 0.6415 - val_loss: 1.7922 - val_mae: 0.7826\n",
            "Epoch 65/500\n",
            "188/188 [==============================] - 0s 3ms/step - loss: 1.0866 - mae: 0.6440 - val_loss: 1.7059 - val_mae: 0.7708\n",
            "Epoch 66/500\n",
            "188/188 [==============================] - 0s 3ms/step - loss: 1.1218 - mae: 0.6607 - val_loss: 1.7812 - val_mae: 0.7893\n",
            "Epoch 67/500\n",
            "188/188 [==============================] - 0s 3ms/step - loss: 1.0948 - mae: 0.6482 - val_loss: 1.6819 - val_mae: 0.7693\n",
            "Epoch 68/500\n",
            "188/188 [==============================] - 0s 3ms/step - loss: 1.0716 - mae: 0.6412 - val_loss: 1.8095 - val_mae: 0.7871\n",
            "Epoch 69/500\n",
            "188/188 [==============================] - 0s 3ms/step - loss: 1.0413 - mae: 0.6336 - val_loss: 1.8172 - val_mae: 0.7711\n",
            "Epoch 70/500\n",
            "188/188 [==============================] - 0s 3ms/step - loss: 1.0282 - mae: 0.6236 - val_loss: 1.7477 - val_mae: 0.7723\n",
            "Epoch 71/500\n",
            "188/188 [==============================] - 0s 3ms/step - loss: 1.0049 - mae: 0.6256 - val_loss: 1.7725 - val_mae: 0.7800\n",
            "Epoch 72/500\n",
            "188/188 [==============================] - 0s 3ms/step - loss: 1.0346 - mae: 0.6136 - val_loss: 1.8755 - val_mae: 0.8180\n",
            "Epoch 73/500\n",
            "188/188 [==============================] - 0s 3ms/step - loss: 1.0535 - mae: 0.6452 - val_loss: 1.7349 - val_mae: 0.7740\n",
            "Epoch 74/500\n",
            "188/188 [==============================] - 0s 3ms/step - loss: 1.0113 - mae: 0.6297 - val_loss: 1.8250 - val_mae: 0.7918\n",
            "Epoch 75/500\n",
            "188/188 [==============================] - 1s 3ms/step - loss: 1.0739 - mae: 0.6325 - val_loss: 1.8627 - val_mae: 0.7866\n",
            "Epoch 76/500\n",
            "188/188 [==============================] - 0s 2ms/step - loss: 0.9804 - mae: 0.6169 - val_loss: 1.7397 - val_mae: 0.7823\n",
            "Epoch 77/500\n",
            "188/188 [==============================] - 1s 3ms/step - loss: 1.0095 - mae: 0.6188 - val_loss: 1.8010 - val_mae: 0.7754\n",
            "Epoch 78/500\n",
            "188/188 [==============================] - 0s 3ms/step - loss: 1.0006 - mae: 0.6295 - val_loss: 1.7491 - val_mae: 0.7739\n",
            "Epoch 79/500\n",
            "188/188 [==============================] - 1s 3ms/step - loss: 0.9744 - mae: 0.6160 - val_loss: 1.9813 - val_mae: 0.8379\n",
            "Epoch 80/500\n",
            "188/188 [==============================] - 0s 3ms/step - loss: 1.0975 - mae: 0.6427 - val_loss: 1.8223 - val_mae: 0.7907\n",
            "Epoch 81/500\n",
            "188/188 [==============================] - 0s 3ms/step - loss: 1.0055 - mae: 0.6246 - val_loss: 1.7559 - val_mae: 0.7968\n",
            "Epoch 82/500\n",
            "188/188 [==============================] - 0s 3ms/step - loss: 0.9328 - mae: 0.6058 - val_loss: 1.8239 - val_mae: 0.7954\n",
            "Epoch 83/500\n",
            "188/188 [==============================] - 1s 3ms/step - loss: 1.0108 - mae: 0.6255 - val_loss: 1.8284 - val_mae: 0.7932\n",
            "Epoch 84/500\n",
            "188/188 [==============================] - 0s 3ms/step - loss: 1.0050 - mae: 0.6330 - val_loss: 1.7796 - val_mae: 0.7791\n",
            "Epoch 85/500\n",
            "188/188 [==============================] - 0s 3ms/step - loss: 0.9953 - mae: 0.6142 - val_loss: 1.7993 - val_mae: 0.7882\n",
            "Epoch 86/500\n",
            "188/188 [==============================] - 0s 2ms/step - loss: 1.0193 - mae: 0.6229 - val_loss: 1.7505 - val_mae: 0.7768\n",
            "Epoch 87/500\n",
            "188/188 [==============================] - 1s 3ms/step - loss: 0.9230 - mae: 0.5995 - val_loss: 1.9247 - val_mae: 0.8052\n",
            "Epoch 88/500\n",
            "188/188 [==============================] - 0s 3ms/step - loss: 0.9848 - mae: 0.6148 - val_loss: 1.8215 - val_mae: 0.7876\n",
            "Epoch 89/500\n",
            "188/188 [==============================] - 0s 3ms/step - loss: 0.9430 - mae: 0.6117 - val_loss: 1.7784 - val_mae: 0.7887\n",
            "Epoch 90/500\n",
            "188/188 [==============================] - 0s 3ms/step - loss: 0.9564 - mae: 0.6105 - val_loss: 1.7781 - val_mae: 0.7820\n",
            "Epoch 91/500\n",
            "188/188 [==============================] - 0s 3ms/step - loss: 1.0159 - mae: 0.6268 - val_loss: 1.8077 - val_mae: 0.7780\n",
            "Epoch 92/500\n",
            "188/188 [==============================] - 1s 3ms/step - loss: 0.8850 - mae: 0.5830 - val_loss: 1.7865 - val_mae: 0.7948\n",
            "Epoch 93/500\n",
            "188/188 [==============================] - 0s 3ms/step - loss: 0.9569 - mae: 0.5993 - val_loss: 1.9326 - val_mae: 0.8077\n",
            "Epoch 94/500\n",
            "188/188 [==============================] - 0s 2ms/step - loss: 0.9241 - mae: 0.6027 - val_loss: 1.8791 - val_mae: 0.7861\n",
            "Epoch 95/500\n",
            "188/188 [==============================] - 1s 3ms/step - loss: 0.9574 - mae: 0.6097 - val_loss: 1.7996 - val_mae: 0.7936\n",
            "Epoch 96/500\n",
            "188/188 [==============================] - 0s 3ms/step - loss: 0.9780 - mae: 0.6139 - val_loss: 1.8967 - val_mae: 0.8013\n",
            "Epoch 97/500\n",
            "188/188 [==============================] - 0s 3ms/step - loss: 1.0159 - mae: 0.6201 - val_loss: 1.8099 - val_mae: 0.7874\n",
            "Epoch 98/500\n",
            "188/188 [==============================] - 1s 3ms/step - loss: 0.9155 - mae: 0.5990 - val_loss: 1.7722 - val_mae: 0.7937\n",
            "Epoch 99/500\n",
            "188/188 [==============================] - 1s 3ms/step - loss: 0.8988 - mae: 0.5897 - val_loss: 1.8095 - val_mae: 0.7819\n",
            "Epoch 100/500\n",
            "188/188 [==============================] - 0s 3ms/step - loss: 0.9472 - mae: 0.6063 - val_loss: 1.7789 - val_mae: 0.7859\n",
            "Epoch 101/500\n",
            "188/188 [==============================] - 0s 3ms/step - loss: 0.9025 - mae: 0.5990 - val_loss: 1.8969 - val_mae: 0.8278\n",
            "Epoch 102/500\n",
            "188/188 [==============================] - 0s 3ms/step - loss: 0.9553 - mae: 0.6154 - val_loss: 1.8195 - val_mae: 0.7914\n",
            "Epoch 103/500\n",
            "188/188 [==============================] - 1s 3ms/step - loss: 0.9013 - mae: 0.5907 - val_loss: 1.7978 - val_mae: 0.7749\n",
            "Epoch 104/500\n",
            "188/188 [==============================] - 1s 3ms/step - loss: 0.9610 - mae: 0.6008 - val_loss: 1.7795 - val_mae: 0.7885\n",
            "Epoch 105/500\n",
            "188/188 [==============================] - 1s 3ms/step - loss: 0.8962 - mae: 0.5852 - val_loss: 1.8487 - val_mae: 0.7993\n",
            "Epoch 106/500\n",
            "188/188 [==============================] - 0s 2ms/step - loss: 0.9090 - mae: 0.5908 - val_loss: 1.8329 - val_mae: 0.7898\n",
            "Epoch 107/500\n",
            "188/188 [==============================] - 1s 3ms/step - loss: 0.9089 - mae: 0.5956 - val_loss: 1.8277 - val_mae: 0.8011\n",
            "Epoch 108/500\n",
            "188/188 [==============================] - 0s 3ms/step - loss: 0.8804 - mae: 0.5885 - val_loss: 1.8516 - val_mae: 0.7887\n",
            "Epoch 109/500\n",
            "188/188 [==============================] - 0s 3ms/step - loss: 0.8594 - mae: 0.5783 - val_loss: 1.8039 - val_mae: 0.7995\n",
            "Epoch 110/500\n",
            "188/188 [==============================] - 0s 2ms/step - loss: 0.8922 - mae: 0.5949 - val_loss: 1.8099 - val_mae: 0.7981\n",
            "Epoch 111/500\n",
            "188/188 [==============================] - 0s 3ms/step - loss: 0.8773 - mae: 0.5802 - val_loss: 1.8682 - val_mae: 0.8053\n",
            "Epoch 112/500\n",
            "188/188 [==============================] - 1s 3ms/step - loss: 0.9247 - mae: 0.6012 - val_loss: 1.8640 - val_mae: 0.8023\n",
            "Epoch 113/500\n",
            "188/188 [==============================] - 1s 3ms/step - loss: 0.9102 - mae: 0.5961 - val_loss: 1.8297 - val_mae: 0.8042\n",
            "Epoch 114/500\n",
            "188/188 [==============================] - 0s 3ms/step - loss: 0.8626 - mae: 0.5800 - val_loss: 1.8940 - val_mae: 0.8131\n",
            "Epoch 115/500\n",
            "188/188 [==============================] - 0s 3ms/step - loss: 0.9326 - mae: 0.5978 - val_loss: 1.8525 - val_mae: 0.8005\n",
            "Epoch 116/500\n",
            "188/188 [==============================] - 0s 3ms/step - loss: 0.9652 - mae: 0.6092 - val_loss: 1.8535 - val_mae: 0.7906\n",
            "Epoch 117/500\n",
            "188/188 [==============================] - 0s 3ms/step - loss: 0.8678 - mae: 0.5819 - val_loss: 1.8614 - val_mae: 0.7959\n",
            "Epoch 118/500\n",
            "188/188 [==============================] - 0s 3ms/step - loss: 0.8690 - mae: 0.5768 - val_loss: 1.7972 - val_mae: 0.8057\n",
            "Epoch 119/500\n",
            "188/188 [==============================] - 0s 3ms/step - loss: 0.9254 - mae: 0.5925 - val_loss: 1.9467 - val_mae: 0.8052\n",
            "Epoch 120/500\n",
            "188/188 [==============================] - 0s 3ms/step - loss: 0.9269 - mae: 0.5898 - val_loss: 1.8487 - val_mae: 0.8020\n",
            "Epoch 121/500\n",
            "188/188 [==============================] - 0s 3ms/step - loss: 0.8802 - mae: 0.5905 - val_loss: 1.9643 - val_mae: 0.8061\n",
            "Epoch 122/500\n",
            "188/188 [==============================] - 0s 3ms/step - loss: 0.9053 - mae: 0.5829 - val_loss: 1.8607 - val_mae: 0.7964\n",
            "Epoch 123/500\n",
            "188/188 [==============================] - 0s 3ms/step - loss: 0.8733 - mae: 0.5891 - val_loss: 1.8370 - val_mae: 0.7950\n",
            "Epoch 124/500\n",
            "188/188 [==============================] - 0s 3ms/step - loss: 0.9647 - mae: 0.6096 - val_loss: 1.8689 - val_mae: 0.8103\n",
            "Epoch 125/500\n",
            "188/188 [==============================] - 1s 3ms/step - loss: 0.8586 - mae: 0.5823 - val_loss: 1.9544 - val_mae: 0.8138\n",
            "Epoch 126/500\n",
            "188/188 [==============================] - 1s 3ms/step - loss: 0.8327 - mae: 0.5693 - val_loss: 1.8523 - val_mae: 0.8018\n",
            "Epoch 127/500\n",
            "188/188 [==============================] - 0s 3ms/step - loss: 0.8323 - mae: 0.5695 - val_loss: 1.8561 - val_mae: 0.7934\n",
            "Epoch 128/500\n",
            "188/188 [==============================] - 0s 3ms/step - loss: 0.8183 - mae: 0.5638 - val_loss: 1.8336 - val_mae: 0.8021\n",
            "Epoch 129/500\n",
            "188/188 [==============================] - 0s 3ms/step - loss: 0.8323 - mae: 0.5724 - val_loss: 1.9094 - val_mae: 0.8075\n",
            "Epoch 130/500\n",
            "188/188 [==============================] - 0s 3ms/step - loss: 0.9022 - mae: 0.5886 - val_loss: 1.8308 - val_mae: 0.7977\n",
            "Epoch 131/500\n",
            "188/188 [==============================] - 0s 3ms/step - loss: 0.8924 - mae: 0.5866 - val_loss: 1.8725 - val_mae: 0.7990\n",
            "Epoch 132/500\n",
            "188/188 [==============================] - 1s 3ms/step - loss: 0.8570 - mae: 0.5680 - val_loss: 1.8279 - val_mae: 0.7977\n",
            "Epoch 133/500\n",
            "188/188 [==============================] - 1s 3ms/step - loss: 0.8660 - mae: 0.5728 - val_loss: 1.8823 - val_mae: 0.8134\n",
            "Epoch 134/500\n",
            "188/188 [==============================] - 0s 3ms/step - loss: 0.9477 - mae: 0.6114 - val_loss: 1.8652 - val_mae: 0.7860\n",
            "Epoch 135/500\n",
            "188/188 [==============================] - 0s 3ms/step - loss: 0.8455 - mae: 0.5671 - val_loss: 1.8938 - val_mae: 0.8436\n",
            "Epoch 136/500\n",
            "188/188 [==============================] - 1s 3ms/step - loss: 0.8441 - mae: 0.5746 - val_loss: 1.8822 - val_mae: 0.8124\n",
            "Epoch 137/500\n",
            "188/188 [==============================] - 0s 3ms/step - loss: 0.8425 - mae: 0.5746 - val_loss: 1.9036 - val_mae: 0.8120\n",
            "Epoch 138/500\n",
            "188/188 [==============================] - 0s 3ms/step - loss: 0.8018 - mae: 0.5568 - val_loss: 2.0051 - val_mae: 0.8109\n",
            "Epoch 139/500\n",
            "188/188 [==============================] - 0s 3ms/step - loss: 0.8039 - mae: 0.5557 - val_loss: 1.9938 - val_mae: 0.8172\n",
            "Epoch 140/500\n",
            "188/188 [==============================] - 0s 3ms/step - loss: 0.8845 - mae: 0.5856 - val_loss: 1.9235 - val_mae: 0.8022\n",
            "Epoch 141/500\n",
            "188/188 [==============================] - 1s 3ms/step - loss: 0.8544 - mae: 0.5728 - val_loss: 1.8372 - val_mae: 0.7953\n",
            "Epoch 142/500\n",
            "188/188 [==============================] - 0s 3ms/step - loss: 0.8324 - mae: 0.5687 - val_loss: 1.9024 - val_mae: 0.8138\n",
            "Epoch 143/500\n",
            "188/188 [==============================] - 0s 3ms/step - loss: 0.7951 - mae: 0.5577 - val_loss: 1.9393 - val_mae: 0.7998\n",
            "Epoch 144/500\n",
            "188/188 [==============================] - 0s 3ms/step - loss: 0.8378 - mae: 0.5672 - val_loss: 1.8883 - val_mae: 0.8161\n",
            "Epoch 145/500\n",
            "188/188 [==============================] - 0s 3ms/step - loss: 0.7990 - mae: 0.5568 - val_loss: 1.9284 - val_mae: 0.8217\n",
            "Epoch 146/500\n",
            "188/188 [==============================] - 0s 3ms/step - loss: 0.8392 - mae: 0.5649 - val_loss: 2.0779 - val_mae: 0.8428\n",
            "Epoch 147/500\n",
            "188/188 [==============================] - 0s 3ms/step - loss: 0.8619 - mae: 0.5878 - val_loss: 1.8897 - val_mae: 0.8004\n",
            "Epoch 148/500\n",
            "188/188 [==============================] - 1s 3ms/step - loss: 0.8104 - mae: 0.5516 - val_loss: 1.8858 - val_mae: 0.8150\n",
            "Epoch 149/500\n",
            "188/188 [==============================] - 1s 3ms/step - loss: 0.7996 - mae: 0.5637 - val_loss: 1.9111 - val_mae: 0.8090\n",
            "Epoch 150/500\n",
            "188/188 [==============================] - 1s 3ms/step - loss: 0.7950 - mae: 0.5505 - val_loss: 1.8960 - val_mae: 0.7968\n",
            "Epoch 151/500\n",
            "188/188 [==============================] - 1s 3ms/step - loss: 0.7777 - mae: 0.5551 - val_loss: 1.9882 - val_mae: 0.8394\n",
            "Epoch 152/500\n",
            "188/188 [==============================] - 1s 3ms/step - loss: 0.8556 - mae: 0.5785 - val_loss: 1.8854 - val_mae: 0.8103\n",
            "Epoch 153/500\n",
            "188/188 [==============================] - 1s 3ms/step - loss: 0.7958 - mae: 0.5580 - val_loss: 1.9205 - val_mae: 0.8018\n",
            "Epoch 154/500\n",
            "188/188 [==============================] - 1s 3ms/step - loss: 0.7906 - mae: 0.5558 - val_loss: 1.8504 - val_mae: 0.8065\n",
            "Epoch 155/500\n",
            "188/188 [==============================] - 1s 3ms/step - loss: 0.8195 - mae: 0.5651 - val_loss: 2.0180 - val_mae: 0.8343\n",
            "Epoch 156/500\n",
            "188/188 [==============================] - 1s 3ms/step - loss: 0.8536 - mae: 0.5832 - val_loss: 2.0041 - val_mae: 0.8234\n",
            "Epoch 157/500\n",
            "188/188 [==============================] - 1s 3ms/step - loss: 0.8555 - mae: 0.5801 - val_loss: 1.8720 - val_mae: 0.7897\n",
            "Epoch 158/500\n",
            "188/188 [==============================] - 1s 3ms/step - loss: 0.8078 - mae: 0.5609 - val_loss: 1.9797 - val_mae: 0.8407\n",
            "Epoch 159/500\n",
            "188/188 [==============================] - 0s 3ms/step - loss: 0.8588 - mae: 0.5762 - val_loss: 1.8644 - val_mae: 0.7968\n",
            "Epoch 160/500\n",
            "188/188 [==============================] - 0s 3ms/step - loss: 0.7679 - mae: 0.5381 - val_loss: 1.8775 - val_mae: 0.7964\n",
            "Epoch 161/500\n",
            "188/188 [==============================] - 1s 3ms/step - loss: 0.7848 - mae: 0.5472 - val_loss: 1.9178 - val_mae: 0.8037\n",
            "Epoch 162/500\n",
            "188/188 [==============================] - 0s 3ms/step - loss: 0.7684 - mae: 0.5476 - val_loss: 1.8799 - val_mae: 0.8110\n",
            "Epoch 163/500\n",
            "188/188 [==============================] - 0s 3ms/step - loss: 0.8225 - mae: 0.5549 - val_loss: 1.9269 - val_mae: 0.8152\n",
            "Epoch 164/500\n",
            "188/188 [==============================] - 1s 3ms/step - loss: 0.7755 - mae: 0.5524 - val_loss: 1.8815 - val_mae: 0.8065\n",
            "Epoch 165/500\n",
            "188/188 [==============================] - 0s 3ms/step - loss: 0.7577 - mae: 0.5375 - val_loss: 1.9461 - val_mae: 0.8119\n",
            "Epoch 166/500\n",
            "188/188 [==============================] - 0s 3ms/step - loss: 0.7949 - mae: 0.5511 - val_loss: 2.0068 - val_mae: 0.8181\n",
            "Epoch 167/500\n",
            "188/188 [==============================] - 0s 3ms/step - loss: 0.7504 - mae: 0.5400 - val_loss: 1.9995 - val_mae: 0.8362\n",
            "Epoch 168/500\n",
            "188/188 [==============================] - 1s 3ms/step - loss: 0.7697 - mae: 0.5436 - val_loss: 2.0270 - val_mae: 0.8232\n",
            "Epoch 169/500\n",
            "188/188 [==============================] - 1s 3ms/step - loss: 0.8464 - mae: 0.5777 - val_loss: 1.9587 - val_mae: 0.8182\n",
            "Epoch 170/500\n",
            "188/188 [==============================] - 0s 3ms/step - loss: 0.7981 - mae: 0.5496 - val_loss: 1.9694 - val_mae: 0.8177\n",
            "Epoch 171/500\n",
            "188/188 [==============================] - 1s 3ms/step - loss: 0.7450 - mae: 0.5384 - val_loss: 1.9553 - val_mae: 0.8124\n",
            "Epoch 172/500\n",
            "188/188 [==============================] - 0s 3ms/step - loss: 0.7398 - mae: 0.5315 - val_loss: 1.9901 - val_mae: 0.8242\n",
            "Epoch 173/500\n",
            "188/188 [==============================] - 0s 3ms/step - loss: 0.8297 - mae: 0.5615 - val_loss: 1.9784 - val_mae: 0.8275\n",
            "Epoch 174/500\n",
            "188/188 [==============================] - 1s 3ms/step - loss: 0.8208 - mae: 0.5593 - val_loss: 2.0402 - val_mae: 0.8302\n",
            "Epoch 175/500\n",
            "188/188 [==============================] - 0s 3ms/step - loss: 0.7636 - mae: 0.5454 - val_loss: 1.9881 - val_mae: 0.8226\n",
            "Epoch 176/500\n",
            "188/188 [==============================] - 1s 3ms/step - loss: 0.7875 - mae: 0.5451 - val_loss: 2.0152 - val_mae: 0.8263\n",
            "Epoch 177/500\n",
            "188/188 [==============================] - 0s 3ms/step - loss: 0.7710 - mae: 0.5381 - val_loss: 1.8933 - val_mae: 0.8142\n",
            "Epoch 178/500\n",
            "188/188 [==============================] - 1s 3ms/step - loss: 0.7243 - mae: 0.5269 - val_loss: 2.0432 - val_mae: 0.8160\n",
            "Epoch 179/500\n",
            "188/188 [==============================] - 0s 3ms/step - loss: 0.8868 - mae: 0.5768 - val_loss: 1.9435 - val_mae: 0.8058\n",
            "Epoch 180/500\n",
            "188/188 [==============================] - 0s 3ms/step - loss: 0.7510 - mae: 0.5384 - val_loss: 1.9707 - val_mae: 0.8074\n",
            "Epoch 181/500\n",
            "188/188 [==============================] - 0s 3ms/step - loss: 0.7036 - mae: 0.5211 - val_loss: 1.9870 - val_mae: 0.8304\n",
            "Epoch 182/500\n",
            "188/188 [==============================] - 0s 3ms/step - loss: 0.7750 - mae: 0.5437 - val_loss: 1.9541 - val_mae: 0.8203\n",
            "Epoch 183/500\n",
            "188/188 [==============================] - 1s 3ms/step - loss: 0.7509 - mae: 0.5454 - val_loss: 1.9148 - val_mae: 0.8089\n",
            "Epoch 184/500\n",
            "188/188 [==============================] - 1s 3ms/step - loss: 0.7461 - mae: 0.5393 - val_loss: 1.9634 - val_mae: 0.8121\n",
            "Epoch 185/500\n",
            "188/188 [==============================] - 0s 3ms/step - loss: 0.7685 - mae: 0.5389 - val_loss: 1.9274 - val_mae: 0.8143\n",
            "Epoch 186/500\n",
            "188/188 [==============================] - 1s 3ms/step - loss: 0.7940 - mae: 0.5467 - val_loss: 1.9488 - val_mae: 0.8151\n",
            "Epoch 187/500\n",
            "188/188 [==============================] - 1s 3ms/step - loss: 0.7636 - mae: 0.5398 - val_loss: 1.9512 - val_mae: 0.8095\n",
            "Epoch 188/500\n",
            "188/188 [==============================] - 1s 3ms/step - loss: 0.7462 - mae: 0.5318 - val_loss: 1.9231 - val_mae: 0.8173\n",
            "Epoch 189/500\n",
            "188/188 [==============================] - 0s 3ms/step - loss: 0.8155 - mae: 0.5513 - val_loss: 2.0044 - val_mae: 0.8204\n",
            "Epoch 190/500\n",
            "188/188 [==============================] - 0s 3ms/step - loss: 0.7407 - mae: 0.5354 - val_loss: 1.9617 - val_mae: 0.8185\n",
            "Epoch 191/500\n",
            "188/188 [==============================] - 1s 3ms/step - loss: 0.7676 - mae: 0.5431 - val_loss: 2.0385 - val_mae: 0.8234\n",
            "Epoch 192/500\n",
            "188/188 [==============================] - 0s 3ms/step - loss: 0.7293 - mae: 0.5307 - val_loss: 2.0590 - val_mae: 0.8734\n",
            "Epoch 193/500\n",
            "188/188 [==============================] - 0s 3ms/step - loss: 0.8079 - mae: 0.5522 - val_loss: 2.0381 - val_mae: 0.8316\n",
            "Epoch 194/500\n",
            "188/188 [==============================] - 1s 3ms/step - loss: 0.7489 - mae: 0.5388 - val_loss: 1.9963 - val_mae: 0.8252\n",
            "Epoch 195/500\n",
            "188/188 [==============================] - 0s 3ms/step - loss: 0.7699 - mae: 0.5317 - val_loss: 1.9581 - val_mae: 0.8242\n",
            "Epoch 196/500\n",
            "188/188 [==============================] - 1s 3ms/step - loss: 0.7624 - mae: 0.5407 - val_loss: 1.9239 - val_mae: 0.8213\n",
            "Epoch 197/500\n",
            "188/188 [==============================] - 0s 3ms/step - loss: 0.7492 - mae: 0.5317 - val_loss: 1.9660 - val_mae: 0.8254\n",
            "Epoch 198/500\n",
            "188/188 [==============================] - 1s 3ms/step - loss: 0.7484 - mae: 0.5328 - val_loss: 2.2222 - val_mae: 0.8375\n",
            "Epoch 199/500\n",
            "188/188 [==============================] - 1s 3ms/step - loss: 0.8409 - mae: 0.5617 - val_loss: 1.9672 - val_mae: 0.8241\n",
            "Epoch 200/500\n",
            "188/188 [==============================] - 1s 3ms/step - loss: 0.7944 - mae: 0.5519 - val_loss: 2.0243 - val_mae: 0.8187\n",
            "Epoch 201/500\n",
            "188/188 [==============================] - 0s 3ms/step - loss: 0.7093 - mae: 0.5187 - val_loss: 1.9473 - val_mae: 0.8212\n",
            "Epoch 202/500\n",
            "188/188 [==============================] - 0s 3ms/step - loss: 0.7738 - mae: 0.5513 - val_loss: 1.9464 - val_mae: 0.8287\n",
            "Epoch 203/500\n",
            "188/188 [==============================] - 1s 3ms/step - loss: 0.7814 - mae: 0.5454 - val_loss: 1.9790 - val_mae: 0.8216\n",
            "Epoch 204/500\n",
            "188/188 [==============================] - 1s 3ms/step - loss: 0.7087 - mae: 0.5224 - val_loss: 2.0205 - val_mae: 0.8488\n",
            "Epoch 205/500\n",
            "188/188 [==============================] - 0s 3ms/step - loss: 0.8270 - mae: 0.5616 - val_loss: 2.0925 - val_mae: 0.8246\n",
            "Epoch 206/500\n",
            "188/188 [==============================] - 0s 3ms/step - loss: 0.6897 - mae: 0.5147 - val_loss: 2.0332 - val_mae: 0.8387\n",
            "Epoch 207/500\n",
            "188/188 [==============================] - 0s 3ms/step - loss: 0.7377 - mae: 0.5323 - val_loss: 2.0612 - val_mae: 0.8361\n",
            "Epoch 208/500\n",
            "188/188 [==============================] - 0s 3ms/step - loss: 0.6918 - mae: 0.5210 - val_loss: 2.0752 - val_mae: 0.8438\n",
            "Epoch 209/500\n",
            "188/188 [==============================] - 0s 3ms/step - loss: 0.8329 - mae: 0.5639 - val_loss: 1.9936 - val_mae: 0.8323\n",
            "Epoch 210/500\n",
            "188/188 [==============================] - 0s 3ms/step - loss: 0.7253 - mae: 0.5268 - val_loss: 2.4424 - val_mae: 0.8858\n",
            "Epoch 211/500\n",
            "188/188 [==============================] - 1s 3ms/step - loss: 0.8006 - mae: 0.5566 - val_loss: 1.9895 - val_mae: 0.8207\n",
            "Epoch 212/500\n",
            "188/188 [==============================] - 1s 3ms/step - loss: 0.7335 - mae: 0.5295 - val_loss: 2.0122 - val_mae: 0.8433\n",
            "Epoch 213/500\n",
            "188/188 [==============================] - 0s 3ms/step - loss: 0.7118 - mae: 0.5232 - val_loss: 2.0082 - val_mae: 0.8231\n",
            "Epoch 214/500\n",
            "188/188 [==============================] - 1s 3ms/step - loss: 0.7296 - mae: 0.5295 - val_loss: 1.9963 - val_mae: 0.8276\n",
            "Epoch 215/500\n",
            "188/188 [==============================] - 1s 3ms/step - loss: 0.6967 - mae: 0.5103 - val_loss: 2.0015 - val_mae: 0.8243\n",
            "Epoch 216/500\n",
            "188/188 [==============================] - 1s 3ms/step - loss: 0.7617 - mae: 0.5377 - val_loss: 2.0453 - val_mae: 0.8268\n",
            "Epoch 217/500\n",
            "188/188 [==============================] - 1s 3ms/step - loss: 0.7516 - mae: 0.5286 - val_loss: 1.9546 - val_mae: 0.8175\n",
            "Epoch 218/500\n",
            "188/188 [==============================] - 1s 3ms/step - loss: 0.7610 - mae: 0.5350 - val_loss: 2.1471 - val_mae: 0.8292\n",
            "Epoch 219/500\n",
            "188/188 [==============================] - 1s 3ms/step - loss: 0.6961 - mae: 0.5203 - val_loss: 2.0124 - val_mae: 0.8322\n",
            "Epoch 220/500\n",
            "188/188 [==============================] - 1s 3ms/step - loss: 0.6999 - mae: 0.5137 - val_loss: 2.1896 - val_mae: 0.8447\n",
            "Epoch 221/500\n",
            "188/188 [==============================] - 0s 3ms/step - loss: 0.7487 - mae: 0.5378 - val_loss: 1.9412 - val_mae: 0.8142\n",
            "Epoch 222/500\n",
            "188/188 [==============================] - 1s 3ms/step - loss: 0.7330 - mae: 0.5346 - val_loss: 1.9533 - val_mae: 0.8205\n",
            "Epoch 223/500\n",
            "188/188 [==============================] - 0s 3ms/step - loss: 0.7348 - mae: 0.5244 - val_loss: 2.0399 - val_mae: 0.8419\n",
            "Epoch 224/500\n",
            "188/188 [==============================] - 0s 3ms/step - loss: 0.7499 - mae: 0.5381 - val_loss: 2.1179 - val_mae: 0.8364\n",
            "Epoch 225/500\n",
            "188/188 [==============================] - 0s 3ms/step - loss: 0.7283 - mae: 0.5311 - val_loss: 2.0041 - val_mae: 0.8544\n",
            "Epoch 226/500\n",
            "188/188 [==============================] - 1s 3ms/step - loss: 0.7488 - mae: 0.5358 - val_loss: 2.0699 - val_mae: 0.8336\n",
            "Epoch 227/500\n",
            "188/188 [==============================] - 0s 3ms/step - loss: 0.7343 - mae: 0.5294 - val_loss: 2.2680 - val_mae: 0.8597\n",
            "Epoch 228/500\n",
            "188/188 [==============================] - 1s 3ms/step - loss: 0.7462 - mae: 0.5332 - val_loss: 2.0833 - val_mae: 0.8378\n",
            "Epoch 229/500\n",
            "188/188 [==============================] - 0s 3ms/step - loss: 0.7223 - mae: 0.5241 - val_loss: 2.0343 - val_mae: 0.8349\n",
            "Epoch 230/500\n",
            "188/188 [==============================] - 0s 3ms/step - loss: 0.7426 - mae: 0.5258 - val_loss: 1.9806 - val_mae: 0.8238\n",
            "Epoch 231/500\n",
            "188/188 [==============================] - 1s 4ms/step - loss: 0.7531 - mae: 0.5315 - val_loss: 2.0099 - val_mae: 0.8356\n",
            "Epoch 232/500\n",
            "188/188 [==============================] - 0s 3ms/step - loss: 0.7360 - mae: 0.5285 - val_loss: 2.0783 - val_mae: 0.8449\n",
            "Epoch 233/500\n",
            "188/188 [==============================] - 0s 3ms/step - loss: 0.6654 - mae: 0.5032 - val_loss: 2.0313 - val_mae: 0.8230\n",
            "Epoch 234/500\n",
            "188/188 [==============================] - 1s 3ms/step - loss: 0.6671 - mae: 0.5071 - val_loss: 2.0562 - val_mae: 0.8321\n",
            "Epoch 235/500\n",
            "188/188 [==============================] - 0s 3ms/step - loss: 0.6900 - mae: 0.5150 - val_loss: 2.0509 - val_mae: 0.8344\n",
            "Epoch 236/500\n",
            "188/188 [==============================] - 1s 3ms/step - loss: 0.7210 - mae: 0.5192 - val_loss: 1.9953 - val_mae: 0.8294\n",
            "Epoch 237/500\n",
            "188/188 [==============================] - 0s 3ms/step - loss: 0.7307 - mae: 0.5283 - val_loss: 2.0557 - val_mae: 0.8405\n",
            "Epoch 238/500\n",
            "188/188 [==============================] - 0s 3ms/step - loss: 0.6669 - mae: 0.5023 - val_loss: 1.9334 - val_mae: 0.8211\n",
            "Epoch 239/500\n",
            "188/188 [==============================] - 0s 3ms/step - loss: 0.6947 - mae: 0.5125 - val_loss: 2.0381 - val_mae: 0.8399\n",
            "Epoch 240/500\n",
            "188/188 [==============================] - 1s 3ms/step - loss: 0.7052 - mae: 0.5186 - val_loss: 2.0666 - val_mae: 0.8372\n",
            "Epoch 241/500\n",
            "188/188 [==============================] - 0s 3ms/step - loss: 0.6869 - mae: 0.5146 - val_loss: 2.1164 - val_mae: 0.8389\n",
            "Epoch 242/500\n",
            "188/188 [==============================] - 1s 3ms/step - loss: 0.7053 - mae: 0.5210 - val_loss: 1.9872 - val_mae: 0.8350\n",
            "Epoch 243/500\n",
            "188/188 [==============================] - 0s 3ms/step - loss: 0.7271 - mae: 0.5263 - val_loss: 2.0807 - val_mae: 0.8384\n",
            "Epoch 244/500\n",
            "188/188 [==============================] - 0s 3ms/step - loss: 0.7189 - mae: 0.5255 - val_loss: 2.0532 - val_mae: 0.8333\n",
            "Epoch 245/500\n",
            "188/188 [==============================] - 0s 3ms/step - loss: 0.6702 - mae: 0.5077 - val_loss: 2.1549 - val_mae: 0.8624\n",
            "Epoch 246/500\n",
            "188/188 [==============================] - 1s 3ms/step - loss: 0.8166 - mae: 0.5508 - val_loss: 2.0640 - val_mae: 0.8396\n",
            "Epoch 247/500\n",
            "188/188 [==============================] - 1s 3ms/step - loss: 0.6925 - mae: 0.5096 - val_loss: 2.0417 - val_mae: 0.8431\n",
            "Epoch 248/500\n",
            "188/188 [==============================] - 0s 3ms/step - loss: 0.6310 - mae: 0.4969 - val_loss: 2.0027 - val_mae: 0.8400\n",
            "Epoch 249/500\n",
            "188/188 [==============================] - 0s 3ms/step - loss: 0.7686 - mae: 0.5452 - val_loss: 2.0191 - val_mae: 0.8350\n",
            "Epoch 250/500\n",
            "188/188 [==============================] - 1s 3ms/step - loss: 0.6504 - mae: 0.4983 - val_loss: 2.0595 - val_mae: 0.8372\n",
            "Epoch 251/500\n",
            "188/188 [==============================] - 0s 3ms/step - loss: 0.7031 - mae: 0.5181 - val_loss: 1.9870 - val_mae: 0.8335\n",
            "Epoch 252/500\n",
            "188/188 [==============================] - 1s 3ms/step - loss: 0.6795 - mae: 0.5136 - val_loss: 2.0086 - val_mae: 0.8283\n",
            "Epoch 253/500\n",
            "188/188 [==============================] - 0s 3ms/step - loss: 0.6841 - mae: 0.5117 - val_loss: 2.2327 - val_mae: 0.8706\n",
            "Epoch 254/500\n",
            "188/188 [==============================] - 0s 3ms/step - loss: 0.7399 - mae: 0.5281 - val_loss: 2.1383 - val_mae: 0.8683\n",
            "Epoch 255/500\n",
            "188/188 [==============================] - 1s 3ms/step - loss: 0.7028 - mae: 0.5205 - val_loss: 2.0933 - val_mae: 0.8379\n",
            "Epoch 256/500\n",
            "188/188 [==============================] - 0s 3ms/step - loss: 0.7019 - mae: 0.5125 - val_loss: 2.0030 - val_mae: 0.8321\n",
            "Epoch 257/500\n",
            "188/188 [==============================] - 0s 3ms/step - loss: 0.6503 - mae: 0.4968 - val_loss: 2.0795 - val_mae: 0.8496\n",
            "Epoch 258/500\n",
            "188/188 [==============================] - 1s 3ms/step - loss: 0.7172 - mae: 0.5246 - val_loss: 2.1548 - val_mae: 0.8464\n",
            "Epoch 259/500\n",
            "188/188 [==============================] - 0s 3ms/step - loss: 0.7137 - mae: 0.5164 - val_loss: 2.0197 - val_mae: 0.8374\n",
            "Epoch 260/500\n",
            "188/188 [==============================] - 1s 3ms/step - loss: 0.6705 - mae: 0.5041 - val_loss: 2.0630 - val_mae: 0.8452\n",
            "Epoch 261/500\n",
            "188/188 [==============================] - 0s 3ms/step - loss: 0.6760 - mae: 0.5122 - val_loss: 2.0844 - val_mae: 0.8447\n",
            "Epoch 262/500\n",
            "188/188 [==============================] - 1s 3ms/step - loss: 0.6897 - mae: 0.5182 - val_loss: 2.0216 - val_mae: 0.8352\n",
            "Epoch 263/500\n",
            "188/188 [==============================] - 0s 3ms/step - loss: 0.6678 - mae: 0.5031 - val_loss: 2.0558 - val_mae: 0.8326\n",
            "Epoch 264/500\n",
            "188/188 [==============================] - 1s 3ms/step - loss: 0.7041 - mae: 0.5150 - val_loss: 1.9996 - val_mae: 0.8382\n",
            "Epoch 265/500\n",
            "188/188 [==============================] - 0s 3ms/step - loss: 0.6469 - mae: 0.4953 - val_loss: 2.0860 - val_mae: 0.8352\n",
            "Epoch 266/500\n",
            "188/188 [==============================] - 1s 3ms/step - loss: 0.7026 - mae: 0.5223 - val_loss: 2.0505 - val_mae: 0.8360\n",
            "Epoch 267/500\n",
            "188/188 [==============================] - 0s 3ms/step - loss: 0.6716 - mae: 0.5005 - val_loss: 2.0273 - val_mae: 0.8382\n",
            "Epoch 268/500\n",
            "188/188 [==============================] - 1s 3ms/step - loss: 0.6871 - mae: 0.5054 - val_loss: 2.0057 - val_mae: 0.8347\n",
            "Epoch 269/500\n",
            "188/188 [==============================] - 0s 3ms/step - loss: 0.6849 - mae: 0.5042 - val_loss: 2.1087 - val_mae: 0.8448\n",
            "Epoch 270/500\n",
            "188/188 [==============================] - 0s 3ms/step - loss: 0.7683 - mae: 0.5428 - val_loss: 2.0399 - val_mae: 0.8388\n",
            "Epoch 271/500\n",
            "188/188 [==============================] - 0s 3ms/step - loss: 0.7606 - mae: 0.5306 - val_loss: 2.2506 - val_mae: 0.8617\n",
            "Epoch 272/500\n",
            "188/188 [==============================] - 0s 3ms/step - loss: 0.7505 - mae: 0.5340 - val_loss: 2.0645 - val_mae: 0.8330\n",
            "Epoch 273/500\n",
            "188/188 [==============================] - 0s 3ms/step - loss: 0.7191 - mae: 0.5199 - val_loss: 2.0343 - val_mae: 0.8239\n",
            "Epoch 274/500\n",
            "188/188 [==============================] - 1s 3ms/step - loss: 0.7041 - mae: 0.5120 - val_loss: 2.0381 - val_mae: 0.8356\n",
            "Epoch 275/500\n",
            "188/188 [==============================] - 1s 3ms/step - loss: 0.7204 - mae: 0.5287 - val_loss: 2.1284 - val_mae: 0.8433\n",
            "Epoch 276/500\n",
            "188/188 [==============================] - 1s 3ms/step - loss: 0.6837 - mae: 0.5142 - val_loss: 2.0847 - val_mae: 0.8579\n",
            "Epoch 277/500\n",
            "188/188 [==============================] - 0s 3ms/step - loss: 0.7037 - mae: 0.5219 - val_loss: 2.2551 - val_mae: 0.8590\n",
            "Epoch 278/500\n",
            "188/188 [==============================] - 1s 3ms/step - loss: 0.6397 - mae: 0.4912 - val_loss: 2.1164 - val_mae: 0.8299\n",
            "Epoch 279/500\n",
            "188/188 [==============================] - 1s 3ms/step - loss: 0.6857 - mae: 0.5155 - val_loss: 2.0942 - val_mae: 0.8475\n",
            "Epoch 280/500\n",
            "188/188 [==============================] - 0s 3ms/step - loss: 0.7145 - mae: 0.5179 - val_loss: 2.2629 - val_mae: 0.8561\n",
            "Epoch 281/500\n",
            "188/188 [==============================] - 1s 3ms/step - loss: 0.7304 - mae: 0.5222 - val_loss: 2.0820 - val_mae: 0.8478\n",
            "Epoch 282/500\n",
            "188/188 [==============================] - 0s 3ms/step - loss: 0.6648 - mae: 0.5023 - val_loss: 2.0270 - val_mae: 0.8357\n",
            "Epoch 283/500\n",
            "188/188 [==============================] - 0s 3ms/step - loss: 0.6455 - mae: 0.4990 - val_loss: 2.0646 - val_mae: 0.8377\n",
            "Epoch 284/500\n",
            "188/188 [==============================] - 1s 3ms/step - loss: 0.7554 - mae: 0.5322 - val_loss: 2.0565 - val_mae: 0.8319\n",
            "Epoch 285/500\n",
            "188/188 [==============================] - 0s 3ms/step - loss: 0.6650 - mae: 0.4961 - val_loss: 2.0034 - val_mae: 0.8310\n",
            "Epoch 286/500\n",
            "188/188 [==============================] - 0s 3ms/step - loss: 0.7319 - mae: 0.5284 - val_loss: 1.9808 - val_mae: 0.8294\n",
            "Epoch 287/500\n",
            "188/188 [==============================] - 0s 3ms/step - loss: 0.6781 - mae: 0.5093 - val_loss: 2.1736 - val_mae: 0.8369\n",
            "Epoch 288/500\n",
            "188/188 [==============================] - 1s 3ms/step - loss: 0.7044 - mae: 0.5179 - val_loss: 2.1063 - val_mae: 0.8410\n",
            "Epoch 289/500\n",
            "188/188 [==============================] - 1s 3ms/step - loss: 0.6365 - mae: 0.4933 - val_loss: 2.3965 - val_mae: 0.8850\n",
            "Epoch 290/500\n",
            "188/188 [==============================] - 1s 3ms/step - loss: 0.7259 - mae: 0.5162 - val_loss: 2.0373 - val_mae: 0.8349\n",
            "Epoch 291/500\n",
            "188/188 [==============================] - 1s 3ms/step - loss: 0.6863 - mae: 0.5026 - val_loss: 2.3263 - val_mae: 0.8702\n",
            "Epoch 292/500\n",
            "188/188 [==============================] - 1s 3ms/step - loss: 0.6909 - mae: 0.5097 - val_loss: 2.2313 - val_mae: 0.8403\n",
            "Epoch 293/500\n",
            "188/188 [==============================] - 1s 3ms/step - loss: 0.7779 - mae: 0.5400 - val_loss: 2.1917 - val_mae: 0.8529\n",
            "Epoch 294/500\n",
            "188/188 [==============================] - 1s 3ms/step - loss: 0.6715 - mae: 0.5136 - val_loss: 2.2650 - val_mae: 0.8777\n",
            "Epoch 295/500\n",
            "188/188 [==============================] - 1s 3ms/step - loss: 0.7164 - mae: 0.5207 - val_loss: 2.0353 - val_mae: 0.8381\n",
            "Epoch 296/500\n",
            "188/188 [==============================] - 1s 3ms/step - loss: 0.6837 - mae: 0.5057 - val_loss: 2.0887 - val_mae: 0.8377\n",
            "Epoch 297/500\n",
            "188/188 [==============================] - 1s 3ms/step - loss: 0.6854 - mae: 0.5084 - val_loss: 2.0810 - val_mae: 0.8722\n",
            "Epoch 298/500\n",
            "188/188 [==============================] - 1s 3ms/step - loss: 0.7331 - mae: 0.5258 - val_loss: 2.0122 - val_mae: 0.8355\n",
            "Epoch 299/500\n",
            "188/188 [==============================] - 0s 3ms/step - loss: 0.6728 - mae: 0.5111 - val_loss: 2.0778 - val_mae: 0.8405\n",
            "Epoch 300/500\n",
            "188/188 [==============================] - 1s 3ms/step - loss: 0.6360 - mae: 0.4960 - val_loss: 2.1008 - val_mae: 0.8402\n",
            "Epoch 301/500\n",
            "188/188 [==============================] - 0s 3ms/step - loss: 0.6627 - mae: 0.5029 - val_loss: 2.2241 - val_mae: 0.8464\n",
            "Epoch 302/500\n",
            "188/188 [==============================] - 1s 3ms/step - loss: 0.6612 - mae: 0.5007 - val_loss: 2.2242 - val_mae: 0.8716\n",
            "Epoch 303/500\n",
            "188/188 [==============================] - 0s 3ms/step - loss: 0.7513 - mae: 0.5265 - val_loss: 2.0563 - val_mae: 0.8372\n",
            "Epoch 304/500\n",
            "188/188 [==============================] - 1s 4ms/step - loss: 0.6863 - mae: 0.5146 - val_loss: 2.3482 - val_mae: 0.8746\n",
            "Epoch 305/500\n",
            "188/188 [==============================] - 1s 3ms/step - loss: 0.6954 - mae: 0.5016 - val_loss: 2.1228 - val_mae: 0.8462\n",
            "Epoch 306/500\n",
            "188/188 [==============================] - 1s 3ms/step - loss: 0.6677 - mae: 0.4993 - val_loss: 2.2129 - val_mae: 0.8588\n",
            "Epoch 307/500\n",
            "188/188 [==============================] - 1s 3ms/step - loss: 0.6591 - mae: 0.5026 - val_loss: 2.1117 - val_mae: 0.8540\n",
            "Epoch 308/500\n",
            "188/188 [==============================] - 0s 3ms/step - loss: 0.6902 - mae: 0.5130 - val_loss: 2.2436 - val_mae: 0.8745\n",
            "Epoch 309/500\n",
            "188/188 [==============================] - 1s 3ms/step - loss: 0.6670 - mae: 0.4981 - val_loss: 2.0716 - val_mae: 0.8438\n",
            "Epoch 310/500\n",
            "188/188 [==============================] - 1s 3ms/step - loss: 0.6532 - mae: 0.4904 - val_loss: 2.0961 - val_mae: 0.8427\n",
            "Epoch 311/500\n",
            "188/188 [==============================] - 1s 3ms/step - loss: 0.6274 - mae: 0.4877 - val_loss: 2.0749 - val_mae: 0.8444\n",
            "Epoch 312/500\n",
            "188/188 [==============================] - 1s 3ms/step - loss: 0.6621 - mae: 0.5033 - val_loss: 2.0853 - val_mae: 0.8461\n",
            "Epoch 313/500\n",
            "188/188 [==============================] - 1s 3ms/step - loss: 0.6552 - mae: 0.5001 - val_loss: 2.0391 - val_mae: 0.8435\n",
            "Epoch 314/500\n",
            "188/188 [==============================] - 1s 3ms/step - loss: 0.6324 - mae: 0.4852 - val_loss: 2.0316 - val_mae: 0.8329\n",
            "Epoch 315/500\n",
            "188/188 [==============================] - 1s 3ms/step - loss: 0.6535 - mae: 0.4955 - val_loss: 2.2327 - val_mae: 0.8511\n",
            "Epoch 316/500\n",
            "188/188 [==============================] - 1s 3ms/step - loss: 0.6858 - mae: 0.5060 - val_loss: 2.1235 - val_mae: 0.8501\n",
            "Epoch 317/500\n",
            "188/188 [==============================] - 1s 3ms/step - loss: 0.7270 - mae: 0.5251 - val_loss: 2.1312 - val_mae: 0.8541\n",
            "Epoch 318/500\n",
            "188/188 [==============================] - 1s 3ms/step - loss: 0.6237 - mae: 0.4888 - val_loss: 2.1195 - val_mae: 0.8413\n",
            "Epoch 319/500\n",
            "188/188 [==============================] - 1s 3ms/step - loss: 0.6718 - mae: 0.5003 - val_loss: 2.2411 - val_mae: 0.8583\n",
            "Epoch 320/500\n",
            "188/188 [==============================] - 1s 3ms/step - loss: 0.6581 - mae: 0.5011 - val_loss: 2.0719 - val_mae: 0.8428\n",
            "Epoch 321/500\n",
            "188/188 [==============================] - 1s 3ms/step - loss: 0.6568 - mae: 0.4981 - val_loss: 2.1164 - val_mae: 0.8512\n",
            "Epoch 322/500\n",
            "188/188 [==============================] - 1s 3ms/step - loss: 0.6578 - mae: 0.5015 - val_loss: 2.0507 - val_mae: 0.8513\n",
            "Epoch 323/500\n",
            "188/188 [==============================] - 1s 3ms/step - loss: 0.6933 - mae: 0.5128 - val_loss: 2.2491 - val_mae: 0.8571\n",
            "Epoch 324/500\n",
            "188/188 [==============================] - 1s 3ms/step - loss: 0.6320 - mae: 0.4944 - val_loss: 2.2054 - val_mae: 0.8416\n",
            "Epoch 325/500\n",
            "188/188 [==============================] - 1s 3ms/step - loss: 0.6246 - mae: 0.4880 - val_loss: 2.0823 - val_mae: 0.8524\n",
            "Epoch 326/500\n",
            "188/188 [==============================] - 1s 3ms/step - loss: 0.6029 - mae: 0.4781 - val_loss: 2.0571 - val_mae: 0.8372\n",
            "Epoch 327/500\n",
            "188/188 [==============================] - 1s 3ms/step - loss: 0.6348 - mae: 0.4922 - val_loss: 2.1290 - val_mae: 0.8550\n",
            "Epoch 328/500\n",
            "188/188 [==============================] - 1s 3ms/step - loss: 0.6213 - mae: 0.4845 - val_loss: 2.0024 - val_mae: 0.8341\n",
            "Epoch 329/500\n",
            "188/188 [==============================] - 1s 3ms/step - loss: 0.6799 - mae: 0.5022 - val_loss: 2.0660 - val_mae: 0.8460\n",
            "Epoch 330/500\n",
            "188/188 [==============================] - 1s 3ms/step - loss: 0.6165 - mae: 0.4826 - val_loss: 2.1141 - val_mae: 0.8646\n",
            "Epoch 331/500\n",
            "188/188 [==============================] - 1s 3ms/step - loss: 0.7660 - mae: 0.5410 - val_loss: 2.2587 - val_mae: 0.8516\n",
            "Epoch 332/500\n",
            "188/188 [==============================] - 1s 3ms/step - loss: 0.7108 - mae: 0.5203 - val_loss: 2.1060 - val_mae: 0.8525\n",
            "Epoch 333/500\n",
            "188/188 [==============================] - 1s 3ms/step - loss: 0.6717 - mae: 0.5187 - val_loss: 2.0720 - val_mae: 0.8500\n",
            "Epoch 334/500\n",
            "188/188 [==============================] - 1s 3ms/step - loss: 0.6260 - mae: 0.4877 - val_loss: 2.1626 - val_mae: 0.8496\n",
            "Epoch 335/500\n",
            "188/188 [==============================] - 1s 3ms/step - loss: 0.6365 - mae: 0.4908 - val_loss: 2.1299 - val_mae: 0.8518\n",
            "Epoch 336/500\n",
            "188/188 [==============================] - 1s 3ms/step - loss: 0.6218 - mae: 0.4777 - val_loss: 2.2208 - val_mae: 0.8507\n",
            "Epoch 337/500\n",
            "188/188 [==============================] - 1s 3ms/step - loss: 0.6227 - mae: 0.4830 - val_loss: 2.1602 - val_mae: 0.8473\n",
            "Epoch 338/500\n",
            "188/188 [==============================] - 1s 3ms/step - loss: 0.6724 - mae: 0.5072 - val_loss: 2.1724 - val_mae: 0.8443\n",
            "Epoch 339/500\n",
            "188/188 [==============================] - 1s 3ms/step - loss: 0.6863 - mae: 0.5107 - val_loss: 2.0992 - val_mae: 0.8436\n",
            "Epoch 340/500\n",
            "188/188 [==============================] - 1s 3ms/step - loss: 0.6380 - mae: 0.4892 - val_loss: 2.1117 - val_mae: 0.8506\n",
            "Epoch 341/500\n",
            "188/188 [==============================] - 1s 3ms/step - loss: 0.6746 - mae: 0.5028 - val_loss: 2.0926 - val_mae: 0.8398\n",
            "Epoch 342/500\n",
            "188/188 [==============================] - 1s 3ms/step - loss: 0.6518 - mae: 0.4876 - val_loss: 2.0831 - val_mae: 0.8530\n",
            "Epoch 343/500\n",
            "188/188 [==============================] - 0s 3ms/step - loss: 0.6338 - mae: 0.4865 - val_loss: 2.1745 - val_mae: 0.8538\n",
            "Epoch 344/500\n",
            "188/188 [==============================] - 1s 3ms/step - loss: 0.6580 - mae: 0.4924 - val_loss: 2.1826 - val_mae: 0.8508\n",
            "Epoch 345/500\n",
            "188/188 [==============================] - 0s 3ms/step - loss: 0.6044 - mae: 0.4746 - val_loss: 2.1110 - val_mae: 0.8471\n",
            "Epoch 346/500\n",
            "188/188 [==============================] - 1s 3ms/step - loss: 0.6625 - mae: 0.4978 - val_loss: 2.2420 - val_mae: 0.8511\n",
            "Epoch 347/500\n",
            "188/188 [==============================] - 1s 3ms/step - loss: 0.6090 - mae: 0.4752 - val_loss: 2.3012 - val_mae: 0.8748\n",
            "Epoch 348/500\n",
            "188/188 [==============================] - 1s 3ms/step - loss: 0.7156 - mae: 0.5279 - val_loss: 2.1625 - val_mae: 0.8586\n",
            "Epoch 349/500\n",
            "188/188 [==============================] - 1s 3ms/step - loss: 0.6706 - mae: 0.5061 - val_loss: 2.1717 - val_mae: 0.8476\n",
            "Epoch 350/500\n",
            "188/188 [==============================] - 1s 3ms/step - loss: 0.6274 - mae: 0.4911 - val_loss: 2.1421 - val_mae: 0.8622\n",
            "Epoch 351/500\n",
            "188/188 [==============================] - 1s 3ms/step - loss: 0.6575 - mae: 0.5013 - val_loss: 2.1573 - val_mae: 0.8521\n",
            "Epoch 352/500\n",
            "188/188 [==============================] - 1s 3ms/step - loss: 0.6251 - mae: 0.4864 - val_loss: 2.1365 - val_mae: 0.8448\n",
            "Epoch 353/500\n",
            "188/188 [==============================] - 1s 3ms/step - loss: 0.6551 - mae: 0.4985 - val_loss: 2.2001 - val_mae: 0.8515\n",
            "Epoch 354/500\n",
            "188/188 [==============================] - 1s 3ms/step - loss: 0.6610 - mae: 0.5000 - val_loss: 2.1494 - val_mae: 0.8474\n",
            "Epoch 355/500\n",
            "188/188 [==============================] - 1s 3ms/step - loss: 0.6703 - mae: 0.5001 - val_loss: 2.1456 - val_mae: 0.8509\n",
            "Epoch 356/500\n",
            "188/188 [==============================] - 1s 3ms/step - loss: 0.6201 - mae: 0.4811 - val_loss: 2.1126 - val_mae: 0.8476\n",
            "Epoch 357/500\n",
            "188/188 [==============================] - 1s 3ms/step - loss: 0.6157 - mae: 0.4834 - val_loss: 2.2072 - val_mae: 0.8624\n",
            "Epoch 358/500\n",
            "188/188 [==============================] - 1s 3ms/step - loss: 0.5942 - mae: 0.4711 - val_loss: 2.1142 - val_mae: 0.8506\n",
            "Epoch 359/500\n",
            "188/188 [==============================] - 1s 3ms/step - loss: 0.6401 - mae: 0.4924 - val_loss: 2.1728 - val_mae: 0.8628\n",
            "Epoch 360/500\n",
            "188/188 [==============================] - 1s 3ms/step - loss: 0.6485 - mae: 0.5019 - val_loss: 2.1497 - val_mae: 0.8569\n",
            "Epoch 361/500\n",
            "188/188 [==============================] - 1s 3ms/step - loss: 0.6498 - mae: 0.4928 - val_loss: 2.1403 - val_mae: 0.8477\n",
            "Epoch 362/500\n",
            "188/188 [==============================] - 1s 3ms/step - loss: 0.6048 - mae: 0.4701 - val_loss: 2.1912 - val_mae: 0.8629\n",
            "Epoch 363/500\n",
            "188/188 [==============================] - 1s 3ms/step - loss: 0.6704 - mae: 0.5081 - val_loss: 2.2422 - val_mae: 0.8727\n",
            "Epoch 364/500\n",
            "188/188 [==============================] - 1s 4ms/step - loss: 0.6130 - mae: 0.4832 - val_loss: 2.1881 - val_mae: 0.8592\n",
            "Epoch 365/500\n",
            "188/188 [==============================] - 1s 3ms/step - loss: 0.6549 - mae: 0.5041 - val_loss: 2.1334 - val_mae: 0.8550\n",
            "Epoch 366/500\n",
            "188/188 [==============================] - 1s 3ms/step - loss: 0.5971 - mae: 0.4749 - val_loss: 2.1089 - val_mae: 0.8451\n",
            "Epoch 367/500\n",
            "188/188 [==============================] - 1s 3ms/step - loss: 0.6184 - mae: 0.4796 - val_loss: 2.1582 - val_mae: 0.8752\n",
            "Epoch 368/500\n",
            "188/188 [==============================] - 1s 3ms/step - loss: 0.6408 - mae: 0.4931 - val_loss: 2.1687 - val_mae: 0.8503\n",
            "Epoch 369/500\n",
            "188/188 [==============================] - 1s 3ms/step - loss: 0.6206 - mae: 0.4864 - val_loss: 2.2112 - val_mae: 0.8699\n",
            "Epoch 370/500\n",
            "188/188 [==============================] - 1s 3ms/step - loss: 0.7131 - mae: 0.5163 - val_loss: 2.2232 - val_mae: 0.8751\n",
            "Epoch 371/500\n",
            "188/188 [==============================] - 1s 3ms/step - loss: 0.7542 - mae: 0.5136 - val_loss: 2.1776 - val_mae: 0.8682\n",
            "Epoch 372/500\n",
            "188/188 [==============================] - 1s 3ms/step - loss: 0.6140 - mae: 0.4756 - val_loss: 2.1194 - val_mae: 0.8530\n",
            "Epoch 373/500\n",
            "188/188 [==============================] - 1s 3ms/step - loss: 0.6749 - mae: 0.5085 - val_loss: 2.1382 - val_mae: 0.8457\n",
            "Epoch 374/500\n",
            "188/188 [==============================] - 1s 3ms/step - loss: 0.6394 - mae: 0.4979 - val_loss: 2.0849 - val_mae: 0.8448\n",
            "Epoch 375/500\n",
            "188/188 [==============================] - 1s 3ms/step - loss: 0.6271 - mae: 0.4865 - val_loss: 2.1731 - val_mae: 0.8458\n",
            "Epoch 376/500\n",
            "188/188 [==============================] - 1s 3ms/step - loss: 0.5866 - mae: 0.4626 - val_loss: 2.3113 - val_mae: 0.8931\n",
            "Epoch 377/500\n",
            "188/188 [==============================] - 1s 3ms/step - loss: 0.6216 - mae: 0.4889 - val_loss: 2.1147 - val_mae: 0.8539\n",
            "Epoch 378/500\n",
            "188/188 [==============================] - 1s 3ms/step - loss: 0.6155 - mae: 0.4821 - val_loss: 2.3737 - val_mae: 0.8926\n",
            "Epoch 379/500\n",
            "188/188 [==============================] - 1s 3ms/step - loss: 0.6431 - mae: 0.4972 - val_loss: 2.2435 - val_mae: 0.8699\n",
            "Epoch 380/500\n",
            "188/188 [==============================] - 1s 3ms/step - loss: 0.5878 - mae: 0.4626 - val_loss: 2.3074 - val_mae: 0.8718\n",
            "Epoch 381/500\n",
            "188/188 [==============================] - 0s 3ms/step - loss: 0.6375 - mae: 0.4840 - val_loss: 2.0879 - val_mae: 0.8411\n",
            "Epoch 382/500\n",
            "188/188 [==============================] - 1s 3ms/step - loss: 0.5824 - mae: 0.4616 - val_loss: 2.1825 - val_mae: 0.8562\n",
            "Epoch 383/500\n",
            "188/188 [==============================] - 0s 3ms/step - loss: 0.6886 - mae: 0.5015 - val_loss: 2.1896 - val_mae: 0.8594\n",
            "Epoch 384/500\n",
            "188/188 [==============================] - 1s 3ms/step - loss: 0.7391 - mae: 0.5246 - val_loss: 2.1629 - val_mae: 0.8532\n",
            "Epoch 385/500\n",
            "188/188 [==============================] - 1s 3ms/step - loss: 0.7516 - mae: 0.5197 - val_loss: 2.1580 - val_mae: 0.8595\n",
            "Epoch 386/500\n",
            "188/188 [==============================] - 1s 3ms/step - loss: 0.5906 - mae: 0.4755 - val_loss: 2.1728 - val_mae: 0.8600\n",
            "Epoch 387/500\n",
            "188/188 [==============================] - 1s 3ms/step - loss: 0.5821 - mae: 0.4632 - val_loss: 2.1333 - val_mae: 0.8568\n",
            "Epoch 388/500\n",
            "188/188 [==============================] - 1s 3ms/step - loss: 0.6612 - mae: 0.4997 - val_loss: 2.1152 - val_mae: 0.8451\n",
            "Epoch 389/500\n",
            "188/188 [==============================] - 1s 3ms/step - loss: 0.6102 - mae: 0.4871 - val_loss: 2.2295 - val_mae: 0.8530\n",
            "Epoch 390/500\n",
            "188/188 [==============================] - 1s 3ms/step - loss: 0.6224 - mae: 0.4811 - val_loss: 2.0918 - val_mae: 0.8572\n",
            "Epoch 391/500\n",
            "188/188 [==============================] - 1s 3ms/step - loss: 0.5964 - mae: 0.4830 - val_loss: 2.1807 - val_mae: 0.8576\n",
            "Epoch 392/500\n",
            "188/188 [==============================] - 1s 3ms/step - loss: 0.6704 - mae: 0.5034 - val_loss: 2.1059 - val_mae: 0.8583\n",
            "Epoch 393/500\n",
            "188/188 [==============================] - 1s 3ms/step - loss: 0.6342 - mae: 0.4896 - val_loss: 2.0753 - val_mae: 0.8448\n",
            "Epoch 394/500\n",
            "188/188 [==============================] - 1s 3ms/step - loss: 0.6787 - mae: 0.5060 - val_loss: 2.1160 - val_mae: 0.8591\n",
            "Epoch 395/500\n",
            "188/188 [==============================] - 1s 3ms/step - loss: 0.6571 - mae: 0.4918 - val_loss: 2.1450 - val_mae: 0.8574\n",
            "Epoch 396/500\n",
            "188/188 [==============================] - 1s 3ms/step - loss: 0.6319 - mae: 0.4889 - val_loss: 2.0864 - val_mae: 0.8534\n",
            "Epoch 397/500\n",
            "188/188 [==============================] - 1s 3ms/step - loss: 0.5986 - mae: 0.4780 - val_loss: 2.1269 - val_mae: 0.8645\n",
            "Epoch 398/500\n",
            "188/188 [==============================] - 1s 3ms/step - loss: 0.5990 - mae: 0.4740 - val_loss: 2.2473 - val_mae: 0.8664\n",
            "Epoch 399/500\n",
            "188/188 [==============================] - 1s 3ms/step - loss: 0.6799 - mae: 0.5060 - val_loss: 2.1208 - val_mae: 0.8494\n",
            "Epoch 400/500\n",
            "188/188 [==============================] - 1s 3ms/step - loss: 0.6148 - mae: 0.4875 - val_loss: 2.1398 - val_mae: 0.8461\n",
            "Epoch 401/500\n",
            "188/188 [==============================] - 1s 3ms/step - loss: 0.6058 - mae: 0.4728 - val_loss: 2.2279 - val_mae: 0.8718\n",
            "Epoch 402/500\n",
            "188/188 [==============================] - 1s 3ms/step - loss: 0.7567 - mae: 0.5133 - val_loss: 2.1960 - val_mae: 0.8567\n",
            "Epoch 403/500\n",
            "188/188 [==============================] - 1s 3ms/step - loss: 0.6178 - mae: 0.4854 - val_loss: 2.2100 - val_mae: 0.8697\n",
            "Epoch 404/500\n",
            "188/188 [==============================] - 1s 3ms/step - loss: 0.7934 - mae: 0.5388 - val_loss: 2.1946 - val_mae: 0.8702\n",
            "Epoch 405/500\n",
            "188/188 [==============================] - 1s 3ms/step - loss: 0.5730 - mae: 0.4660 - val_loss: 2.1607 - val_mae: 0.8581\n",
            "Epoch 406/500\n",
            "188/188 [==============================] - 1s 3ms/step - loss: 0.6153 - mae: 0.4763 - val_loss: 2.1892 - val_mae: 0.8661\n",
            "Epoch 407/500\n",
            "188/188 [==============================] - 1s 3ms/step - loss: 0.6096 - mae: 0.4792 - val_loss: 2.1098 - val_mae: 0.8557\n",
            "Epoch 408/500\n",
            "188/188 [==============================] - 1s 3ms/step - loss: 0.6080 - mae: 0.4744 - val_loss: 2.1942 - val_mae: 0.8667\n",
            "Epoch 409/500\n",
            "188/188 [==============================] - 1s 3ms/step - loss: 0.6378 - mae: 0.4966 - val_loss: 2.1348 - val_mae: 0.8631\n",
            "Epoch 410/500\n",
            "188/188 [==============================] - 1s 3ms/step - loss: 0.6555 - mae: 0.4909 - val_loss: 2.1564 - val_mae: 0.8533\n",
            "Epoch 411/500\n",
            "188/188 [==============================] - 1s 3ms/step - loss: 0.5849 - mae: 0.4662 - val_loss: 2.1923 - val_mae: 0.8530\n",
            "Epoch 412/500\n",
            "188/188 [==============================] - 1s 3ms/step - loss: 0.5910 - mae: 0.4713 - val_loss: 2.1892 - val_mae: 0.8614\n",
            "Epoch 413/500\n",
            "188/188 [==============================] - 1s 3ms/step - loss: 0.6196 - mae: 0.4846 - val_loss: 2.2004 - val_mae: 0.8701\n",
            "Epoch 414/500\n",
            "188/188 [==============================] - 1s 3ms/step - loss: 0.6223 - mae: 0.4830 - val_loss: 2.1992 - val_mae: 0.8622\n",
            "Epoch 415/500\n",
            "188/188 [==============================] - 1s 3ms/step - loss: 0.6266 - mae: 0.4791 - val_loss: 2.1548 - val_mae: 0.8567\n",
            "Epoch 416/500\n",
            "188/188 [==============================] - 1s 3ms/step - loss: 0.6133 - mae: 0.4827 - val_loss: 2.1173 - val_mae: 0.8467\n",
            "Epoch 417/500\n",
            "188/188 [==============================] - 1s 3ms/step - loss: 0.6389 - mae: 0.4944 - val_loss: 2.1578 - val_mae: 0.8522\n",
            "Epoch 418/500\n",
            "188/188 [==============================] - 1s 3ms/step - loss: 0.7270 - mae: 0.5225 - val_loss: 2.1168 - val_mae: 0.8432\n",
            "Epoch 419/500\n",
            "188/188 [==============================] - 1s 3ms/step - loss: 0.6131 - mae: 0.4855 - val_loss: 2.0959 - val_mae: 0.8525\n",
            "Epoch 420/500\n",
            "188/188 [==============================] - 1s 3ms/step - loss: 0.5833 - mae: 0.4655 - val_loss: 2.2324 - val_mae: 0.8732\n",
            "Epoch 421/500\n",
            "188/188 [==============================] - 1s 3ms/step - loss: 0.6148 - mae: 0.4854 - val_loss: 2.1491 - val_mae: 0.8558\n",
            "Epoch 422/500\n",
            "188/188 [==============================] - 1s 3ms/step - loss: 0.5968 - mae: 0.4744 - val_loss: 2.1369 - val_mae: 0.8664\n",
            "Epoch 423/500\n",
            "188/188 [==============================] - 1s 3ms/step - loss: 0.6182 - mae: 0.4869 - val_loss: 2.2255 - val_mae: 0.8648\n",
            "Epoch 424/500\n",
            "188/188 [==============================] - 1s 3ms/step - loss: 0.6321 - mae: 0.4803 - val_loss: 2.1332 - val_mae: 0.8458\n",
            "Epoch 425/500\n",
            "188/188 [==============================] - 1s 3ms/step - loss: 0.6318 - mae: 0.4885 - val_loss: 2.2193 - val_mae: 0.8664\n",
            "Epoch 426/500\n",
            "188/188 [==============================] - 1s 3ms/step - loss: 0.6179 - mae: 0.4819 - val_loss: 2.2456 - val_mae: 0.8730\n",
            "Epoch 427/500\n",
            "188/188 [==============================] - 1s 3ms/step - loss: 0.5832 - mae: 0.4695 - val_loss: 2.1474 - val_mae: 0.8558\n",
            "Epoch 428/500\n",
            "188/188 [==============================] - 1s 3ms/step - loss: 0.6469 - mae: 0.4927 - val_loss: 2.1657 - val_mae: 0.8504\n",
            "Epoch 429/500\n",
            "188/188 [==============================] - 1s 3ms/step - loss: 0.5895 - mae: 0.4692 - val_loss: 2.2137 - val_mae: 0.8620\n",
            "Epoch 430/500\n",
            "188/188 [==============================] - 1s 3ms/step - loss: 0.6014 - mae: 0.4746 - val_loss: 2.1256 - val_mae: 0.8486\n",
            "Epoch 431/500\n",
            "188/188 [==============================] - 1s 3ms/step - loss: 0.5916 - mae: 0.4749 - val_loss: 2.2228 - val_mae: 0.8591\n",
            "Epoch 432/500\n",
            "188/188 [==============================] - 1s 3ms/step - loss: 0.6182 - mae: 0.4840 - val_loss: 2.1026 - val_mae: 0.8577\n",
            "Epoch 433/500\n",
            "188/188 [==============================] - 1s 3ms/step - loss: 0.5883 - mae: 0.4692 - val_loss: 2.2616 - val_mae: 0.8617\n",
            "Epoch 434/500\n",
            "188/188 [==============================] - 1s 3ms/step - loss: 0.5857 - mae: 0.4682 - val_loss: 2.1711 - val_mae: 0.8688\n",
            "Epoch 435/500\n",
            "188/188 [==============================] - 1s 3ms/step - loss: 0.8851 - mae: 0.5194 - val_loss: 2.2123 - val_mae: 0.8525\n",
            "Epoch 436/500\n",
            "188/188 [==============================] - 1s 3ms/step - loss: 0.6086 - mae: 0.4850 - val_loss: 2.4083 - val_mae: 0.8751\n",
            "Epoch 437/500\n",
            "188/188 [==============================] - 1s 4ms/step - loss: 0.6027 - mae: 0.4746 - val_loss: 2.0983 - val_mae: 0.8469\n",
            "Epoch 438/500\n",
            "188/188 [==============================] - 1s 3ms/step - loss: 0.5875 - mae: 0.4646 - val_loss: 2.1277 - val_mae: 0.8545\n",
            "Epoch 439/500\n",
            "188/188 [==============================] - 1s 3ms/step - loss: 0.6012 - mae: 0.4793 - val_loss: 2.1200 - val_mae: 0.8533\n",
            "Epoch 440/500\n",
            "188/188 [==============================] - 1s 3ms/step - loss: 0.5813 - mae: 0.4655 - val_loss: 2.1745 - val_mae: 0.8540\n",
            "Epoch 441/500\n",
            "188/188 [==============================] - 1s 3ms/step - loss: 0.5884 - mae: 0.4680 - val_loss: 2.1388 - val_mae: 0.8507\n",
            "Epoch 442/500\n",
            "188/188 [==============================] - 1s 3ms/step - loss: 0.5960 - mae: 0.4776 - val_loss: 2.1016 - val_mae: 0.8492\n",
            "Epoch 443/500\n",
            "188/188 [==============================] - 1s 3ms/step - loss: 0.5939 - mae: 0.4684 - val_loss: 2.1631 - val_mae: 0.8578\n",
            "Epoch 444/500\n",
            "188/188 [==============================] - 1s 3ms/step - loss: 0.6469 - mae: 0.4911 - val_loss: 2.1229 - val_mae: 0.8467\n",
            "Epoch 445/500\n",
            "188/188 [==============================] - 1s 3ms/step - loss: 0.6080 - mae: 0.4780 - val_loss: 2.1639 - val_mae: 0.8594\n",
            "Epoch 446/500\n",
            "188/188 [==============================] - 1s 3ms/step - loss: 0.5909 - mae: 0.4743 - val_loss: 2.1314 - val_mae: 0.8469\n",
            "Epoch 447/500\n",
            "188/188 [==============================] - 1s 3ms/step - loss: 0.5741 - mae: 0.4587 - val_loss: 2.1875 - val_mae: 0.8583\n",
            "Epoch 448/500\n",
            "188/188 [==============================] - 1s 3ms/step - loss: 0.6203 - mae: 0.4822 - val_loss: 2.2074 - val_mae: 0.8648\n",
            "Epoch 449/500\n",
            "188/188 [==============================] - 1s 3ms/step - loss: 0.6176 - mae: 0.4802 - val_loss: 2.1263 - val_mae: 0.8467\n",
            "Epoch 450/500\n",
            "188/188 [==============================] - 1s 3ms/step - loss: 0.6069 - mae: 0.4729 - val_loss: 2.1591 - val_mae: 0.8583\n",
            "Epoch 451/500\n",
            "188/188 [==============================] - 1s 3ms/step - loss: 0.5734 - mae: 0.4630 - val_loss: 2.1663 - val_mae: 0.8661\n",
            "Epoch 452/500\n",
            "188/188 [==============================] - 1s 3ms/step - loss: 0.5807 - mae: 0.4650 - val_loss: 2.1444 - val_mae: 0.8524\n",
            "Epoch 453/500\n",
            "188/188 [==============================] - 1s 3ms/step - loss: 0.5609 - mae: 0.4603 - val_loss: 2.2056 - val_mae: 0.8655\n",
            "Epoch 454/500\n",
            "188/188 [==============================] - 1s 3ms/step - loss: 0.5970 - mae: 0.4753 - val_loss: 2.1477 - val_mae: 0.8537\n",
            "Epoch 455/500\n",
            "188/188 [==============================] - 1s 3ms/step - loss: 0.5847 - mae: 0.4671 - val_loss: 2.2392 - val_mae: 0.8699\n",
            "Epoch 456/500\n",
            "188/188 [==============================] - 1s 3ms/step - loss: 0.6936 - mae: 0.5181 - val_loss: 2.2122 - val_mae: 0.8639\n",
            "Epoch 457/500\n",
            "188/188 [==============================] - 1s 3ms/step - loss: 0.6342 - mae: 0.4981 - val_loss: 2.1491 - val_mae: 0.8576\n",
            "Epoch 458/500\n",
            "188/188 [==============================] - 1s 3ms/step - loss: 0.5985 - mae: 0.4739 - val_loss: 2.1809 - val_mae: 0.8585\n",
            "Epoch 459/500\n",
            "188/188 [==============================] - 1s 3ms/step - loss: 0.6068 - mae: 0.4737 - val_loss: 2.1783 - val_mae: 0.8657\n",
            "Epoch 460/500\n",
            "188/188 [==============================] - 1s 3ms/step - loss: 0.6214 - mae: 0.4754 - val_loss: 2.1092 - val_mae: 0.8462\n",
            "Epoch 461/500\n",
            "188/188 [==============================] - 1s 3ms/step - loss: 0.5998 - mae: 0.4685 - val_loss: 2.1403 - val_mae: 0.8542\n",
            "Epoch 462/500\n",
            "188/188 [==============================] - 1s 3ms/step - loss: 0.5940 - mae: 0.4704 - val_loss: 2.1543 - val_mae: 0.8524\n",
            "Epoch 463/500\n",
            "188/188 [==============================] - 1s 3ms/step - loss: 0.5792 - mae: 0.4658 - val_loss: 2.2843 - val_mae: 0.8896\n",
            "Epoch 464/500\n",
            "188/188 [==============================] - 1s 3ms/step - loss: 0.6328 - mae: 0.4871 - val_loss: 2.1462 - val_mae: 0.8640\n",
            "Epoch 465/500\n",
            "188/188 [==============================] - 1s 3ms/step - loss: 0.6075 - mae: 0.4715 - val_loss: 2.2892 - val_mae: 0.8872\n",
            "Epoch 466/500\n",
            "188/188 [==============================] - 1s 3ms/step - loss: 0.6579 - mae: 0.5016 - val_loss: 2.1655 - val_mae: 0.8574\n",
            "Epoch 467/500\n",
            "188/188 [==============================] - 1s 3ms/step - loss: 0.5456 - mae: 0.4502 - val_loss: 2.1223 - val_mae: 0.8518\n",
            "Epoch 468/500\n",
            "188/188 [==============================] - 1s 3ms/step - loss: 0.5546 - mae: 0.4577 - val_loss: 2.1730 - val_mae: 0.8658\n",
            "Epoch 469/500\n",
            "188/188 [==============================] - 1s 3ms/step - loss: 0.6114 - mae: 0.4807 - val_loss: 2.1438 - val_mae: 0.8609\n",
            "Epoch 470/500\n",
            "188/188 [==============================] - 1s 3ms/step - loss: 0.5935 - mae: 0.4730 - val_loss: 2.2027 - val_mae: 0.8698\n",
            "Epoch 471/500\n",
            "188/188 [==============================] - 1s 3ms/step - loss: 0.5946 - mae: 0.4741 - val_loss: 2.2186 - val_mae: 0.8602\n",
            "Epoch 472/500\n",
            "188/188 [==============================] - 1s 3ms/step - loss: 0.6349 - mae: 0.4899 - val_loss: 2.1309 - val_mae: 0.8462\n",
            "Epoch 473/500\n",
            "188/188 [==============================] - 1s 3ms/step - loss: 0.5837 - mae: 0.4689 - val_loss: 2.1749 - val_mae: 0.8567\n",
            "Epoch 474/500\n",
            "188/188 [==============================] - 1s 3ms/step - loss: 0.5443 - mae: 0.4552 - val_loss: 2.2082 - val_mae: 0.8591\n",
            "Epoch 475/500\n",
            "188/188 [==============================] - 1s 3ms/step - loss: 0.5955 - mae: 0.4766 - val_loss: 2.1895 - val_mae: 0.8597\n",
            "Epoch 476/500\n",
            "188/188 [==============================] - 1s 3ms/step - loss: 0.5793 - mae: 0.4632 - val_loss: 2.2409 - val_mae: 0.8650\n",
            "Epoch 477/500\n",
            "188/188 [==============================] - 1s 3ms/step - loss: 0.5860 - mae: 0.4672 - val_loss: 2.2086 - val_mae: 0.8607\n",
            "Epoch 478/500\n",
            "188/188 [==============================] - 1s 3ms/step - loss: 0.5835 - mae: 0.4649 - val_loss: 2.2561 - val_mae: 0.8674\n",
            "Epoch 479/500\n",
            "188/188 [==============================] - 1s 3ms/step - loss: 0.5726 - mae: 0.4620 - val_loss: 2.1566 - val_mae: 0.8626\n",
            "Epoch 480/500\n",
            "188/188 [==============================] - 1s 3ms/step - loss: 0.5796 - mae: 0.4690 - val_loss: 2.2385 - val_mae: 0.8693\n",
            "Epoch 481/500\n",
            "188/188 [==============================] - 1s 3ms/step - loss: 0.6111 - mae: 0.4835 - val_loss: 2.1385 - val_mae: 0.8589\n",
            "Epoch 482/500\n",
            "188/188 [==============================] - 1s 3ms/step - loss: 0.5962 - mae: 0.4716 - val_loss: 2.2001 - val_mae: 0.8580\n",
            "Epoch 483/500\n",
            "188/188 [==============================] - 1s 3ms/step - loss: 0.5763 - mae: 0.4640 - val_loss: 2.1613 - val_mae: 0.8505\n",
            "Epoch 484/500\n",
            "188/188 [==============================] - 1s 3ms/step - loss: 0.6013 - mae: 0.4789 - val_loss: 2.1461 - val_mae: 0.8606\n",
            "Epoch 485/500\n",
            "188/188 [==============================] - 1s 3ms/step - loss: 0.5936 - mae: 0.4794 - val_loss: 2.2208 - val_mae: 0.8661\n",
            "Epoch 486/500\n",
            "188/188 [==============================] - 1s 3ms/step - loss: 0.6271 - mae: 0.4790 - val_loss: 2.1530 - val_mae: 0.8558\n",
            "Epoch 487/500\n",
            "188/188 [==============================] - 1s 3ms/step - loss: 0.6436 - mae: 0.4871 - val_loss: 2.0894 - val_mae: 0.8499\n",
            "Epoch 488/500\n",
            "188/188 [==============================] - 1s 3ms/step - loss: 0.5567 - mae: 0.4548 - val_loss: 2.1643 - val_mae: 0.8741\n",
            "Epoch 489/500\n",
            "188/188 [==============================] - 1s 3ms/step - loss: 0.5683 - mae: 0.4620 - val_loss: 2.1939 - val_mae: 0.8573\n",
            "Epoch 490/500\n",
            "188/188 [==============================] - 1s 3ms/step - loss: 0.5761 - mae: 0.4657 - val_loss: 2.2510 - val_mae: 0.8785\n",
            "Epoch 491/500\n",
            "188/188 [==============================] - 1s 3ms/step - loss: 0.5998 - mae: 0.4756 - val_loss: 2.1379 - val_mae: 0.8481\n",
            "Epoch 492/500\n",
            "188/188 [==============================] - 1s 3ms/step - loss: 0.5730 - mae: 0.4635 - val_loss: 2.2748 - val_mae: 0.8663\n",
            "Epoch 493/500\n",
            "188/188 [==============================] - 1s 3ms/step - loss: 0.5678 - mae: 0.4561 - val_loss: 2.3274 - val_mae: 0.8749\n",
            "Epoch 494/500\n",
            "188/188 [==============================] - 1s 3ms/step - loss: 0.5938 - mae: 0.4749 - val_loss: 2.1018 - val_mae: 0.8427\n",
            "Epoch 495/500\n",
            "188/188 [==============================] - 1s 3ms/step - loss: 0.5926 - mae: 0.4636 - val_loss: 2.1314 - val_mae: 0.8538\n",
            "Epoch 496/500\n",
            "188/188 [==============================] - 1s 3ms/step - loss: 0.5681 - mae: 0.4629 - val_loss: 2.3092 - val_mae: 0.8833\n",
            "Epoch 497/500\n",
            "188/188 [==============================] - 1s 4ms/step - loss: 0.6193 - mae: 0.4818 - val_loss: 2.1551 - val_mae: 0.8509\n",
            "Epoch 498/500\n",
            "188/188 [==============================] - 1s 3ms/step - loss: 0.5970 - mae: 0.4697 - val_loss: 2.0406 - val_mae: 0.8378\n",
            "Epoch 499/500\n",
            "188/188 [==============================] - 1s 3ms/step - loss: 0.6077 - mae: 0.4773 - val_loss: 2.1913 - val_mae: 0.8647\n",
            "Epoch 500/500\n",
            "188/188 [==============================] - 1s 3ms/step - loss: 0.5552 - mae: 0.4538 - val_loss: 2.1932 - val_mae: 0.8640\n"
          ],
          "name": "stdout"
        }
      ]
    },
    {
      "cell_type": "code",
      "metadata": {
        "colab": {
          "base_uri": "https://localhost:8080/",
          "height": 573
        },
        "id": "v52vc1fw49Um",
        "outputId": "df5f4302-0d0a-4981-f9ac-26b92d679e7b"
      },
      "source": [
        "# Draw a graph of the loss, which is the distance between\r\n",
        "# the predicted and actual values during training and validation.\r\n",
        "import matplotlib.pyplot as plt\r\n",
        "train_loss = history_1.history['mae']\r\n",
        "val_loss = history_1.history['mae']\r\n",
        "epochs = range(1, len(train_loss) + 1)\r\n",
        "\r\n",
        "plt.plot(epochs, train_loss, 'g.', label='Training loss')\r\n",
        "plt.plot(epochs, val_loss, 'b', label='Validation loss')\r\n",
        "plt.title('Training and validation loss')\r\n",
        "plt.xlabel('Epochs')\r\n",
        "plt.ylabel('Loss')\r\n",
        "plt.legend()\r\n",
        "plt.show()\r\n",
        "\r\n",
        "# Exclude the first few epochs so the graph is easier to read\r\n",
        "SKIP = 20\r\n",
        "\r\n",
        "plt.plot(epochs[SKIP:], train_loss[SKIP:], 'g.', label='Training loss')\r\n",
        "plt.plot(epochs[SKIP:], val_loss[SKIP:], 'b.', label='Validation loss')\r\n",
        "plt.title('Training and validation loss')\r\n",
        "plt.xlabel('Epochs')\r\n",
        "plt.ylabel('Loss')\r\n",
        "plt.legend()\r\n",
        "plt.show()"
      ],
      "execution_count": 488,
      "outputs": [
        {
          "output_type": "display_data",
          "data": {
            "image/png": "[encoded data removed]",
            "text/plain": [
              "<Figure size 432x288 with 1 Axes>"
            ]
          },
          "metadata": {
            "tags": [],
            "needs_background": "light"
          }
        },
        {
          "output_type": "display_data",
          "data": {
            "image/png": "[encoded data removed]",
            "text/plain": [
              "<Figure size 432x288 with 1 Axes>"
            ]
          },
          "metadata": {
            "tags": [],
            "needs_background": "light"
          }
        }
      ]
    },
    {
      "cell_type": "markdown",
      "metadata": {
        "id": "LxgJarZk3bfH"
      },
      "source": [
        "Since the preprocessing is part of the model, you can save the model and reload it somewhere else and get identical results:"
      ]
    },
    {
      "cell_type": "code",
      "metadata": {
        "id": "Ay-8ymNA2ZCh",
        "colab": {
          "base_uri": "https://localhost:8080/"
        },
        "outputId": "79710048-a899-4003-ca73-270ae4d0ed9f"
      },
      "source": [
        "housePrices_model.save('test')\n",
        "reloaded = tf.keras.models.load_model('test')"
      ],
      "execution_count": 489,
      "outputs": [
        {
          "output_type": "stream",
          "text": [
            "INFO:tensorflow:Assets written to: test/assets\n",
            "WARNING:tensorflow:11 out of the last 11 calls to <function recreate_function.<locals>.restored_function_body at 0x7f3627d68620> triggered tf.function retracing. Tracing is expensive and the excessive number of tracings could be due to (1) creating @tf.function repeatedly in a loop, (2) passing tensors with different shapes, (3) passing Python objects instead of tensors. For (1), please define your @tf.function outside of the loop. For (2), @tf.function has experimental_relax_shapes=True option that relaxes argument shapes that can avoid unnecessary retracing. For (3), please refer to https://www.tensorflow.org/guide/function#controlling_retracing and https://www.tensorflow.org/api_docs/python/tf/function for  more details.\n",
            "WARNING:tensorflow:11 out of the last 11 calls to <function recreate_function.<locals>.restored_function_body at 0x7f36344a4950> triggered tf.function retracing. Tracing is expensive and the excessive number of tracings could be due to (1) creating @tf.function repeatedly in a loop, (2) passing tensors with different shapes, (3) passing Python objects instead of tensors. For (1), please define your @tf.function outside of the loop. For (2), @tf.function has experimental_relax_shapes=True option that relaxes argument shapes that can avoid unnecessary retracing. For (3), please refer to https://www.tensorflow.org/guide/function#controlling_retracing and https://www.tensorflow.org/api_docs/python/tf/function for  more details.\n",
            "WARNING:tensorflow:11 out of the last 11 calls to <function recreate_function.<locals>.restored_function_body at 0x7f3627f71730> triggered tf.function retracing. Tracing is expensive and the excessive number of tracings could be due to (1) creating @tf.function repeatedly in a loop, (2) passing tensors with different shapes, (3) passing Python objects instead of tensors. For (1), please define your @tf.function outside of the loop. For (2), @tf.function has experimental_relax_shapes=True option that relaxes argument shapes that can avoid unnecessary retracing. For (3), please refer to https://www.tensorflow.org/guide/function#controlling_retracing and https://www.tensorflow.org/api_docs/python/tf/function for  more details.\n",
            "WARNING:tensorflow:11 out of the last 11 calls to <function recreate_function.<locals>.restored_function_body at 0x7f3627ddd400> triggered tf.function retracing. Tracing is expensive and the excessive number of tracings could be due to (1) creating @tf.function repeatedly in a loop, (2) passing tensors with different shapes, (3) passing Python objects instead of tensors. For (1), please define your @tf.function outside of the loop. For (2), @tf.function has experimental_relax_shapes=True option that relaxes argument shapes that can avoid unnecessary retracing. For (3), please refer to https://www.tensorflow.org/guide/function#controlling_retracing and https://www.tensorflow.org/api_docs/python/tf/function for  more details.\n"
          ],
          "name": "stdout"
        }
      ]
    },
    {
      "cell_type": "code",
      "metadata": {
        "id": "Qm6jMTpD20lK",
        "colab": {
          "base_uri": "https://localhost:8080/"
        },
        "outputId": "f177c2e9-3101-4658-c4b0-3f2c2bf194c9"
      },
      "source": [
        "features_dict = {name:values[:1] for name, values in housePrices_features_dict.items()}\n",
        "\n",
        "before = housePrices_model(features_dict)\n",
        "after = reloaded(features_dict)\n",
        "assert (before-after)<1e-3\n",
        "print(before)\n",
        "print(after)"
      ],
      "execution_count": 490,
      "outputs": [
        {
          "output_type": "stream",
          "text": [
            "tf.Tensor([[3.498]], shape=(1, 1), dtype=float32)\n",
            "tf.Tensor([[3.498]], shape=(1, 1), dtype=float32)\n"
          ],
          "name": "stdout"
        }
      ]
    },
    {
      "cell_type": "code",
      "metadata": {
        "colab": {
          "base_uri": "https://localhost:8080/"
        },
        "id": "pLOZuDVtNIow",
        "outputId": "a3da7450-1b10-4168-bccf-71c5056604ae"
      },
      "source": [
        "\r\n",
        "\r\n",
        "houseData_own2 = {'Type': np.array(['SFH', 'SFH', 'SFH', 'Condo', 'SFH']),\r\n",
        "  'houseEra': np.array(['20A', '19A', '20A', '20A', '20A']),\r\n",
        "\t'Area': np.array([8410, 1400, 1500, 1500, 1500]),\r\n",
        "  'Zip': np.array(['60062', '60062', '60076', '60076', '60076']),\r\n",
        "\t'Rooms': np.array([16, 6, 7, 7, 7]),\r\n",
        "  'FullBaths': np.array([2.0, 2.0, 2.0, 2.5, 2.5]),\r\n",
        "  'HalfBaths': np.array([0.0, 1.0, 1.0, 0.0, 0.0]),\r\n",
        "  'BsmtBth': np.array(['Yes', 'No', 'No', 'No', 'No']),\r\n",
        "  'Beds': np.array([5, 3, 3, 3, 3]),\r\n",
        "  'BsmtBeds': np.array([1.0, 0.0, 0.0, 0.0, 0.0]),\r\n",
        "  'GarageSpaces': np.array([3, 2, 0, 0, 0])  }\r\n",
        "\r\n",
        "ans = reloaded.predict(houseData_own2)\r\n",
        "\r\n",
        "print(ans)\r\n",
        "\r\n"
      ],
      "execution_count": 502,
      "outputs": [
        {
          "output_type": "stream",
          "text": [
            "[[10.503]\n",
            " [ 4.194]\n",
            " [ 3.242]\n",
            " [ 2.665]\n",
            " [ 3.586]]\n"
          ],
          "name": "stdout"
        }
      ]
    }
  ]
}