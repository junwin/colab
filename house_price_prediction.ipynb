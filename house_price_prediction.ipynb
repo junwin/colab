{
  "nbformat": 4,
  "nbformat_minor": 0,
  "metadata": {
    "colab": {
      "name": "house price prediction.ipynb",
      "provenance": [],
      "collapsed_sections": [],
      "authorship_tag": "ABX9TyM5hx+DlUafyXlluQOpFKY0",
      "include_colab_link": true
    },
    "kernelspec": {
      "name": "python3",
      "display_name": "Python 3"
    }
  },
  "cells": [
    {
      "cell_type": "markdown",
      "metadata": {
        "id": "view-in-github",
        "colab_type": "text"
      },
      "source": [
        "<a href=\"https://colab.research.google.com/github/junwin/colab/blob/main/house_price_prediction.ipynb\" target=\"_parent\"><img src=\"https://colab.research.google.com/assets/colab-badge.svg\" alt=\"Open In Colab\"/></a>"
      ]
    },
    {
      "cell_type": "markdown",
      "metadata": {
        "id": "YSXPatebybXC"
      },
      "source": [
        "# Setting up a regression model for house prices using Keras and Tensorflow\r\n",
        "Using Tensorflow, Keras and Python in Jupyter Notebooks is a popular way to develop machine learning applications.\r\n",
        "\r\n",
        "To understand how the functionality fits in the machine learning workflow ( data preparation, training the model and evaluating the fit using test data sets) I decided to apply the tools to estimate the sale prices of houses.\r\n",
        "\r\n",
        "The approach is similar to the sample I produced using ML.Net from Microsoft: https://towardsdatascience.com/predicting-a-house-price-using-ml-net-6555ff3caeb\r\n",
        "\r\n",
        "We will run the code in Google's Colaboratory since this provides an excellent environment that allows access to GPU's, requires no configuration and enables sharing.\r\n",
        "\r\n",
        "We need to sanity test the raw data we loaded to ensure the columns are in the date range we expect.  It is a good idea to check the data for any outliers; for example, in my first iteration, one home had 82 garage spots.\r\n",
        "\r\n",
        "Be aware that there is a regional bias in the data since all the test data came from a few areas of Chicago's northern suburbs.\r\n"
      ]
    },
    {
      "cell_type": "markdown",
      "metadata": {
        "id": "9QhrAUUTed7f"
      },
      "source": [
        "## Dependancies\r\n",
        "First lets load any dependancies required."
      ]
    },
    {
      "cell_type": "code",
      "metadata": {
        "id": "M0thlCOV3qUc"
      },
      "source": [
        "#@title Dependancies\n",
        "import pandas as pd\n",
        "! pip install tensorflow==2.4.0\n",
        "# TensorFlow is an open source machine learning library\n",
        "import tensorflow as tf\n",
        "\n",
        "# Keras is TensorFlow's high-level API for deep learning\n",
        "from tensorflow import keras\n",
        "from tensorflow.keras import regularizers\n",
        "# Numpy is a math library\n",
        "import numpy as np\n",
        "# Pandas is a data manipulation library \n",
        "import pandas as pd\n",
        "# Matplotlib is a graphing library\n",
        "import matplotlib.pyplot as plt\n",
        "# Math is Python's math library\n",
        "import math\n",
        "from sklearn import preprocessing\n",
        "from sklearn.preprocessing import MinMaxScaler,StandardScaler"
      ],
      "execution_count": null,
      "outputs": []
    },
    {
      "cell_type": "markdown",
      "metadata": {
        "id": "FJLJ8PRGjdU7"
      },
      "source": [
        "## Let's load a dataset of house sales. \r\n",
        "We need to sanity test the raw data we loaded to ensure the columns are in the date range we expect. It is a good idea to check the data for any outliers; for example, in my first iteration, one home had 82 garage spots. Be aware that there is a regional bias in the data since all the test data came from a few areas of Chicago's northern suburbs.\r\n"
      ]
    },
    {
      "cell_type": "code",
      "metadata": {
        "id": "WiK9OQRxjaXb",
        "colab": {
          "base_uri": "https://localhost:8080/",
          "height": 300
        },
        "outputId": "2a26215e-9553-4918-dde3-71189ba10525"
      },
      "source": [
        "url=\"https://junwin.github.io/HouseData3.csv\"\r\n",
        "rawData=pd.read_csv(url).sample(frac=1)\r\n",
        "rawData.describe()"
      ],
      "execution_count": 3,
      "outputs": [
        {
          "output_type": "execute_result",
          "data": {
            "text/html": [
              "<div>\n",
              "<style scoped>\n",
              "    .dataframe tbody tr th:only-of-type {\n",
              "        vertical-align: middle;\n",
              "    }\n",
              "\n",
              "    .dataframe tbody tr th {\n",
              "        vertical-align: top;\n",
              "    }\n",
              "\n",
              "    .dataframe thead th {\n",
              "        text-align: right;\n",
              "    }\n",
              "</style>\n",
              "<table border=\"1\" class=\"dataframe\">\n",
              "  <thead>\n",
              "    <tr style=\"text-align: right;\">\n",
              "      <th></th>\n",
              "      <th>MLS#</th>\n",
              "      <th>YearClosed</th>\n",
              "      <th>SoldPr</th>\n",
              "      <th>Locale</th>\n",
              "      <th>Zip</th>\n",
              "      <th>Area</th>\n",
              "      <th>Rooms</th>\n",
              "      <th>FullBaths</th>\n",
              "      <th>HalfBaths</th>\n",
              "      <th>Beds</th>\n",
              "      <th>BsmtBeds</th>\n",
              "      <th>GarageSpaces</th>\n",
              "      <th>ParkingSpaces</th>\n",
              "    </tr>\n",
              "  </thead>\n",
              "  <tbody>\n",
              "    <tr>\n",
              "      <th>count</th>\n",
              "      <td>9.605000e+03</td>\n",
              "      <td>9605.000000</td>\n",
              "      <td>9.605000e+03</td>\n",
              "      <td>9605.000000</td>\n",
              "      <td>9605.000000</td>\n",
              "      <td>9605.000000</td>\n",
              "      <td>9605.000000</td>\n",
              "      <td>9605.000000</td>\n",
              "      <td>9605.000000</td>\n",
              "      <td>9605.000000</td>\n",
              "      <td>9605.000000</td>\n",
              "      <td>9605.000000</td>\n",
              "      <td>9605.000000</td>\n",
              "    </tr>\n",
              "    <tr>\n",
              "      <th>mean</th>\n",
              "      <td>1.037041e+07</td>\n",
              "      <td>2019.130765</td>\n",
              "      <td>4.643093e+05</td>\n",
              "      <td>78.721603</td>\n",
              "      <td>60079.478605</td>\n",
              "      <td>2222.006767</td>\n",
              "      <td>7.968974</td>\n",
              "      <td>2.225299</td>\n",
              "      <td>0.549922</td>\n",
              "      <td>3.222957</td>\n",
              "      <td>0.144300</td>\n",
              "      <td>1.660718</td>\n",
              "      <td>0.409787</td>\n",
              "    </tr>\n",
              "    <tr>\n",
              "      <th>std</th>\n",
              "      <td>3.808318e+05</td>\n",
              "      <td>0.948912</td>\n",
              "      <td>3.246592e+05</td>\n",
              "      <td>59.308417</td>\n",
              "      <td>67.705670</td>\n",
              "      <td>1243.632265</td>\n",
              "      <td>2.500578</td>\n",
              "      <td>0.987977</td>\n",
              "      <td>0.578789</td>\n",
              "      <td>1.033955</td>\n",
              "      <td>0.388828</td>\n",
              "      <td>1.342160</td>\n",
              "      <td>3.543110</td>\n",
              "    </tr>\n",
              "    <tr>\n",
              "      <th>min</th>\n",
              "      <td>8.866215e+06</td>\n",
              "      <td>2017.000000</td>\n",
              "      <td>2.500000e+04</td>\n",
              "      <td>2.000000</td>\n",
              "      <td>60002.000000</td>\n",
              "      <td>372.000000</td>\n",
              "      <td>1.000000</td>\n",
              "      <td>0.000000</td>\n",
              "      <td>0.000000</td>\n",
              "      <td>0.000000</td>\n",
              "      <td>0.000000</td>\n",
              "      <td>0.000000</td>\n",
              "      <td>0.000000</td>\n",
              "    </tr>\n",
              "    <tr>\n",
              "      <th>25%</th>\n",
              "      <td>1.013837e+07</td>\n",
              "      <td>2019.000000</td>\n",
              "      <td>2.600000e+05</td>\n",
              "      <td>53.000000</td>\n",
              "      <td>60053.000000</td>\n",
              "      <td>1344.000000</td>\n",
              "      <td>6.000000</td>\n",
              "      <td>2.000000</td>\n",
              "      <td>0.000000</td>\n",
              "      <td>3.000000</td>\n",
              "      <td>0.000000</td>\n",
              "      <td>1.000000</td>\n",
              "      <td>0.000000</td>\n",
              "    </tr>\n",
              "    <tr>\n",
              "      <th>50%</th>\n",
              "      <td>1.043821e+07</td>\n",
              "      <td>2019.000000</td>\n",
              "      <td>3.650000e+05</td>\n",
              "      <td>62.000000</td>\n",
              "      <td>60062.000000</td>\n",
              "      <td>1868.000000</td>\n",
              "      <td>8.000000</td>\n",
              "      <td>2.000000</td>\n",
              "      <td>1.000000</td>\n",
              "      <td>3.000000</td>\n",
              "      <td>0.000000</td>\n",
              "      <td>2.000000</td>\n",
              "      <td>0.000000</td>\n",
              "    </tr>\n",
              "    <tr>\n",
              "      <th>75%</th>\n",
              "      <td>1.067198e+07</td>\n",
              "      <td>2020.000000</td>\n",
              "      <td>5.750000e+05</td>\n",
              "      <td>76.000000</td>\n",
              "      <td>60077.000000</td>\n",
              "      <td>2750.000000</td>\n",
              "      <td>9.000000</td>\n",
              "      <td>3.000000</td>\n",
              "      <td>1.000000</td>\n",
              "      <td>4.000000</td>\n",
              "      <td>0.000000</td>\n",
              "      <td>2.000000</td>\n",
              "      <td>0.000000</td>\n",
              "    </tr>\n",
              "    <tr>\n",
              "      <th>max</th>\n",
              "      <td>1.095755e+07</td>\n",
              "      <td>2021.000000</td>\n",
              "      <td>4.300000e+06</td>\n",
              "      <td>201.000000</td>\n",
              "      <td>63104.000000</td>\n",
              "      <td>17365.000000</td>\n",
              "      <td>18.000000</td>\n",
              "      <td>8.000000</td>\n",
              "      <td>5.000000</td>\n",
              "      <td>11.000000</td>\n",
              "      <td>3.000000</td>\n",
              "      <td>79.000000</td>\n",
              "      <td>308.000000</td>\n",
              "    </tr>\n",
              "  </tbody>\n",
              "</table>\n",
              "</div>"
            ],
            "text/plain": [
              "               MLS#   YearClosed  ...  GarageSpaces  ParkingSpaces\n",
              "count  9.605000e+03  9605.000000  ...   9605.000000    9605.000000\n",
              "mean   1.037041e+07  2019.130765  ...      1.660718       0.409787\n",
              "std    3.808318e+05     0.948912  ...      1.342160       3.543110\n",
              "min    8.866215e+06  2017.000000  ...      0.000000       0.000000\n",
              "25%    1.013837e+07  2019.000000  ...      1.000000       0.000000\n",
              "50%    1.043821e+07  2019.000000  ...      2.000000       0.000000\n",
              "75%    1.067198e+07  2020.000000  ...      2.000000       0.000000\n",
              "max    1.095755e+07  2021.000000  ...     79.000000     308.000000\n",
              "\n",
              "[8 rows x 13 columns]"
            ]
          },
          "metadata": {
            "tags": []
          },
          "execution_count": 3
        }
      ]
    },
    {
      "cell_type": "code",
      "metadata": {
        "id": "I3flBswUY2iA"
      },
      "source": [
        ""
      ],
      "execution_count": 3,
      "outputs": []
    },
    {
      "cell_type": "markdown",
      "metadata": {
        "id": "weFwetTpY8Xa"
      },
      "source": [
        "### Features\r\n",
        "Let's grab the features we want to model; the good thing is that its relatively easy to experiment with different features using pandas."
      ]
    },
    {
      "cell_type": "code",
      "metadata": {
        "id": "xu88J81I5ogN"
      },
      "source": [
        "selectedFeatures = rawData[['YearClosed', 'Type', 'Area', 'Zip', 'Rooms','FullBaths','Beds','GarageSpaces']]\r\n",
        "prices = rawData['SoldPr']\r\n",
        "SAMPLES = len(selectedFeatures.index)\r\n",
        "featureCount = len(selectedFeatures.columns)\r\n"
      ],
      "execution_count": 4,
      "outputs": []
    },
    {
      "cell_type": "markdown",
      "metadata": {
        "id": "eVrTzU9434g_"
      },
      "source": [
        "### Converting enumerations\r\n",
        "Before we can use the data we need to convert any features like type from string-based labels(e.g. Condo, Townhouse, Duplex ) to a numeric, we can use the sklearn.preprocessing tools for preprocessing and normalization.\r\n",
        "\r\n",
        "You can use the ordinal encoder in \"auto\" mode to identify categories in the training data - here I have specified the columns of interest.\r\n",
        "\r\n",
        "You need to ensure consitent types(e.g. strings, int, float) used in the columns to be converted."
      ]
    },
    {
      "cell_type": "code",
      "metadata": {
        "id": "pW4jwuz-TszI"
      },
      "source": [
        "ordinalColumns = ['YearClosed', 'Type', 'Zip']\r\n",
        "ordinalData = selectedFeatures[ordinalColumns]\r\n",
        "enc = preprocessing.OrdinalEncoder()\r\n",
        "enc.fit(ordinalData)\r\n",
        "enc.categories\r\n",
        "\r\n",
        "selectedFeatures[ordinalColumns] = enc.transform(ordinalData)\r\n"
      ],
      "execution_count": null,
      "outputs": []
    },
    {
      "cell_type": "markdown",
      "metadata": {
        "id": "XLLTOB0ZYq5C"
      },
      "source": [
        "### Normalization\r\n",
        "We should normalize the features and corresponding price targets to facilitate learning."
      ]
    },
    {
      "cell_type": "code",
      "metadata": {
        "id": "OiTqhzpkZNI1"
      },
      "source": [
        "featureScaler = MinMaxScaler()\r\n",
        "selectedFeaturesScale =  pd.DataFrame(featureScaler.fit_transform(selectedFeatures), columns=selectedFeatures.columns)\r\n",
        "\r\n",
        "priceScaler = MinMaxScaler()\r\n",
        "pricesScale =  pd.DataFrame(priceScaler.fit_transform(prices.values.reshape(-1, 1)),columns=['SoldPr'])\r\n"
      ],
      "execution_count": 6,
      "outputs": []
    },
    {
      "cell_type": "markdown",
      "metadata": {
        "id": "xM25iWjGahdR"
      },
      "source": [
        "## Saving the Sclaers and Encoders\r\n",
        "You will need to save the scalers and encoders if you want to use the model on its own without training."
      ]
    },
    {
      "cell_type": "code",
      "metadata": {
        "id": "WiSMn1YzKS76",
        "outputId": "e3fb7b0a-7e5e-42cd-c88e-23acfb147f34",
        "colab": {
          "base_uri": "https://localhost:8080/"
        }
      },
      "source": [
        "# save and load your scalers and encoders\r\n",
        "import joblib \r\n",
        "joblib.dump(featureScaler, 'my_cool_scaler.pkl')\r\n",
        "joblib.dump(priceScaler, 'my_cool_pxscaler.pkl')\r\n",
        "joblib.dump(enc, 'my_cool_encoder.pkl')  \r\n",
        "#see joblib.load"
      ],
      "execution_count": 7,
      "outputs": [
        {
          "output_type": "execute_result",
          "data": {
            "text/plain": [
              "['my_cool_encoder.pkl']"
            ]
          },
          "metadata": {
            "tags": []
          },
          "execution_count": 7
        }
      ]
    },
    {
      "cell_type": "markdown",
      "metadata": {
        "id": "rgsFnlxHj0eA"
      },
      "source": [
        "### Understanding the input data\r\n",
        "It is imperative to have a good overview of the model's data, so you need to plot some of the features to check any issues. Suppose you look at the first plot of the area against price:\r\n",
        "* there are many issues as the area increases. \r\n",
        "* most of the data is for smaller homes.\r\n",
        "\r\n",
        "I am not going to address these issues here, but the input merits some scrutiny.\r\n"
      ]
    },
    {
      "cell_type": "code",
      "metadata": {
        "colab": {
          "base_uri": "https://localhost:8080/",
          "height": 761
        },
        "id": "8w_2iKLPj3P5",
        "outputId": "bd721064-f061-4854-9ed2-8be3c2110d93"
      },
      "source": [
        "# Plot our data to examine the relationship between some features and price\r\n",
        "plt.plot(selectedFeaturesScale['Area'], pricesScale, 'b.')\r\n",
        "plt.show()\r\n",
        "plt.plot(selectedFeaturesScale['Rooms'], pricesScale, 'b.')\r\n",
        "plt.show()\r\n",
        "plt.plot(selectedFeaturesScale['Zip'], pricesScale, 'b.')\r\n",
        "plt.show()"
      ],
      "execution_count": 8,
      "outputs": [
        {
          "output_type": "display_data",
          "data": {
            "image/png": "[encoded data removed]",
            "text/plain": [
              "<Figure size 432x288 with 1 Axes>"
            ]
          },
          "metadata": {
            "tags": [],
            "needs_background": "light"
          }
        },
        {
          "output_type": "display_data",
          "data": {
            "image/png": "[encoded data removed]",
            "text/plain": [
              "<Figure size 432x288 with 1 Axes>"
            ]
          },
          "metadata": {
            "tags": [],
            "needs_background": "light"
          }
        },
        {
          "output_type": "display_data",
          "data": {
            "image/png": "[encoded data removed]",
            "text/plain": [
              "<Figure size 432x288 with 1 Axes>"
            ]
          },
          "metadata": {
            "tags": [],
            "needs_background": "light"
          }
        }
      ]
    },
    {
      "cell_type": "markdown",
      "metadata": {
        "id": "VHmvG8R3_IqS"
      },
      "source": [
        "## Separate data\r\n",
        "We need to split our data into three parts, the first 60% is for training, 20% are set asside for validation and the last 20% for a final test."
      ]
    },
    {
      "cell_type": "code",
      "metadata": {
        "id": "NzPQkZt6lk-v"
      },
      "source": [
        "TRAIN_SPLIT =  int(0.6 * SAMPLES)\r\n",
        "TEST_SPLIT = int(0.2 * SAMPLES + TRAIN_SPLIT)\r\n",
        "\r\n",
        "training_examples = selectedFeaturesScale.head(TRAIN_SPLIT)\r\n",
        "training_targets = pricesScale.head(TRAIN_SPLIT)\r\n",
        "\r\n",
        "validation_examples = selectedFeaturesScale[TEST_SPLIT:TEST_SPLIT+int(0.2 * SAMPLES)]\r\n",
        "validation_targets = pricesScale[TEST_SPLIT:TEST_SPLIT+int(0.2 * SAMPLES)]\r\n",
        "\r\n",
        "test_examples = selectedFeaturesScale.tail(int(0.2 * SAMPLES))\r\n",
        "test_targets = pricesScale.tail(int(0.2 * SAMPLES))\r\n",
        "\r\n",
        "# Double-check that we've done the right thing.\r\n",
        "print(\"Training examples summary:\")\r\n",
        "training_examples.describe()\r\n",
        "print(\"Validation examples summary:\")\r\n",
        "validation_examples.describe()\r\n",
        "\r\n",
        "print(\"Training targets summary:\")\r\n",
        "training_targets.describe()\r\n",
        "print(\"Validation targets summary:\")\r\n",
        "validation_targets.describe()\r\n"
      ],
      "execution_count": null,
      "outputs": []
    },
    {
      "cell_type": "markdown",
      "metadata": {
        "id": "TpiXfWvcfX-U"
      },
      "source": [
        "## Training a model using Keras\r\n",
        "Now we have our data we can use Keras (a high-level API to Tensorflow) to create a model.\r\n",
        " Keras makes it easy to experiment with different model architectures and visualize the results.\r\n",
        "\r\n",
        "We will begin with three layers and use the \"relu\" activation function. Notice that the first layer uses the featureCount to define its input shape, and the final layer outputs to a single neuron since its the predicted price.\r\n",
        "\r\n",
        "If you think the model is overfitting you can easily add regularization to manage the problem - these are commented out below.\r\n"
      ]
    },
    {
      "cell_type": "code",
      "metadata": {
        "id": "8_rlB7CVxLLK"
      },
      "source": [
        "model_1 = tf.keras.Sequential()\r\n",
        "\r\n",
        "model_1.add(keras.layers.Dense(16, activation='relu', input_shape=(featureCount,)))\r\n",
        "#model_1.add(keras.layers.Dense(16, activation='relu', kernel_regularizer=regularizers.l2(0.001), input_shape=(featureCount,)))\r\n",
        "model_1.add(keras.layers.Dense(16, activation='relu'))\r\n",
        "#model_1.add(keras.layers.Dense(16, activation='relu', kernel_regularizer=regularizers.l2(0.001)))\r\n",
        "model_1.add(keras.layers.Dense(1))\r\n",
        "\r\n",
        "# Compile the model using the standard 'adam' optimizer and the mean squared error or 'mse' loss function for regression.\r\n",
        "model_1.compile(optimizer='adam', loss='mse', metrics=['mae'])"
      ],
      "execution_count": 24,
      "outputs": []
    },
    {
      "cell_type": "markdown",
      "metadata": {
        "id": "WHYrcqFigz80"
      },
      "source": [
        "### Having created the model, we will now train it."
      ]
    },
    {
      "cell_type": "code",
      "metadata": {
        "id": "mPWR0pUhxgpy"
      },
      "source": [
        "# Train the model on our training data while validating on our validation set\r\n",
        "history_1 = model_1.fit(training_examples, training_targets, epochs=500, batch_size=50,\r\n",
        "                        validation_data=(validation_examples, validation_targets))"
      ],
      "execution_count": null,
      "outputs": []
    },
    {
      "cell_type": "markdown",
      "metadata": {
        "id": "mZ3-oBaxg_Rr"
      },
      "source": [
        "### Understanding the results\r\n",
        "Having trained our model, we now need to check the training metrics to see how the model converges. First, we will check out training over all the epochs, then show a graph that excludes some of the initial epochs to focus on whats happening nearer the end.\r\n",
        "\r\n",
        "We can see a very rapid convergance, where the loss flatens out after about 50 epochs. On the second plot, it looks like a reasonable difference between the training and validation loss.\r\n"
      ]
    },
    {
      "cell_type": "code",
      "metadata": {
        "colab": {
          "base_uri": "https://localhost:8080/",
          "height": 573
        },
        "id": "eoTFmaiQyP5S",
        "outputId": "3430cccd-c34c-4820-8bc5-5bb8e2425626"
      },
      "source": [
        "# Draw a graph of the loss, which is the distance between\r\n",
        "# the predicted and actual values during training and validation.\r\n",
        "train_loss = history_1.history['loss']\r\n",
        "val_loss = history_1.history['val_loss']\r\n",
        "epochs = range(1, len(train_loss) + 1)\r\n",
        "\r\n",
        "plt.plot(epochs, train_loss, 'g.', label='Training loss')\r\n",
        "plt.plot(epochs, val_loss, 'b', label='Validation loss')\r\n",
        "plt.title('Training and validation loss')\r\n",
        "plt.xlabel('Epochs')\r\n",
        "plt.ylabel('Loss')\r\n",
        "plt.legend()\r\n",
        "plt.show()\r\n",
        "\r\n",
        "# Exclude the first few epochs so the graph is easier to read\r\n",
        "SKIP = 50\r\n",
        "\r\n",
        "plt.plot(epochs[SKIP:], train_loss[SKIP:], 'g.', label='Training loss')\r\n",
        "plt.plot(epochs[SKIP:], val_loss[SKIP:], 'b.', label='Validation loss')\r\n",
        "plt.title('Training and validation loss')\r\n",
        "plt.xlabel('Epochs')\r\n",
        "plt.ylabel('Loss')\r\n",
        "plt.legend()\r\n",
        "plt.show()"
      ],
      "execution_count": 26,
      "outputs": [
        {
          "output_type": "display_data",
          "data": {
            "image/png": "[encoded data removed]",
            "text/plain": [
              "<Figure size 432x288 with 1 Axes>"
            ]
          },
          "metadata": {
            "tags": [],
            "needs_background": "light"
          }
        },
        {
          "output_type": "display_data",
          "data": {
            "image/png": "[encoded data removed]",
            "text/plain": [
              "<Figure size 432x288 with 1 Axes>"
            ]
          },
          "metadata": {
            "tags": [],
            "needs_background": "light"
          }
        }
      ]
    },
    {
      "cell_type": "markdown",
      "metadata": {
        "id": "kwnkQiGRjX_w"
      },
      "source": [
        "### Final test\r\n",
        "We can now use the 20% of the data we kept aside for a final test. First, we use the model to evaluate the test data and print out the mean squared error and the mean average error for predictions. The overall loss on the test data seem to correlate well with the results seen in tthe validation set.\r\n",
        "\r\n",
        "It's a great idea to visualize some of the data by plotting actuals against predicted results."
      ]
    },
    {
      "cell_type": "code",
      "metadata": {
        "colab": {
          "base_uri": "https://localhost:8080/"
        },
        "id": "iuPRHTZEzSWT",
        "outputId": "935f0653-30b6-492c-8f1b-904205b7891e"
      },
      "source": [
        "# Calculate and print the loss on our test dataset\r\n",
        "test_loss, test_mae = model_1.evaluate(test_examples, test_targets)\r\n",
        "print(\"mean squared error:\", test_loss, \" mean average error:\", test_mae)\r\n",
        "\r\n",
        "#y_test_pred = model_1.predict(test_examples)\r\n",
        "\r\n",
        "# Graph the predictions against the actual values\r\n",
        "#plt.clf()\r\n",
        "#plt.title('Comparison of predictions and actual values')\r\n",
        "#plt.plot( test_targets,  y_test_pred, 'b.', label='Actual values')\r\n",
        "#plt.show()\r\n"
      ],
      "execution_count": 27,
      "outputs": [
        {
          "output_type": "stream",
          "text": [
            "61/61 [==============================] - 0s 939us/step - loss: 0.0012 - mae: 0.0213\n",
            "mean squared error: 0.0012115772115066648  mean average error: 0.02132599614560604\n"
          ],
          "name": "stdout"
        }
      ]
    },
    {
      "cell_type": "markdown",
      "metadata": {
        "id": "JmYr9Jb-D12T"
      },
      "source": [
        "## Plot a comparision of actual and predicted for a single zip\r\n",
        "Plotting the actual values against the predcited shows reasonable results for this particular training run."
      ]
    },
    {
      "cell_type": "code",
      "metadata": {
        "id": "V_ige54atxwj"
      },
      "source": [
        "y_test_pred = model_1.predict(test_examples)"
      ],
      "execution_count": 14,
      "outputs": []
    },
    {
      "cell_type": "code",
      "metadata": {
        "id": "-utTA_nW2_mq",
        "colab": {
          "base_uri": "https://localhost:8080/",
          "height": 281
        },
        "outputId": "dc070b17-cec4-452e-9c77-b09e35eb0761"
      },
      "source": [
        "sampleInfo = pd.DataFrame();\r\n",
        "samplePx = pd.DataFrame();\r\n",
        "\r\n",
        "i=0\r\n",
        "while i < test_examples.values.shape[0]:\r\n",
        "  myRow =  test_examples.iloc[[i]]\r\n",
        "  myPxRow = test_targets.iloc[[i]]\r\n",
        "\r\n",
        "  if round(myRow['Zip'].values[0],2) == 0:\r\n",
        "    sampleInfo = sampleInfo.append(myRow)\r\n",
        "    samplePx = samplePx.append(myPxRow)\r\n",
        "    \r\n",
        "  i = i + 1\r\n",
        "\r\n",
        "y_test_pred = model_1.predict(sampleInfo)\r\n",
        "\r\n",
        "plt.clf()\r\n",
        "plt.title('Comparison of predictions and actual values - single zip')\r\n",
        "plt.plot( sampleInfo['Area'], y_test_pred, 'b.', label='predicted values')\r\n",
        "plt.plot( sampleInfo['Area'], samplePx, 'g.', label='Actual values')\r\n",
        "#plt.plot( samplePx,  y_test_pred, 'b.', label='Actual values')\r\n",
        "plt.show()"
      ],
      "execution_count": 28,
      "outputs": [
        {
          "output_type": "display_data",
          "data": {
            "image/png": "[encoded data removed]",
            "text/plain": [
              "<Figure size 432x288 with 1 Axes>"
            ]
          },
          "metadata": {
            "tags": [],
            "needs_background": "light"
          }
        }
      ]
    },
    {
      "cell_type": "markdown",
      "metadata": {
        "id": "0c3TSty50zZG"
      },
      "source": [
        "## Run your own examples\r\n",
        "Lets try with a couple of test inferences  - the single family home (SFH) should be lower in zip 60002 than 60076"
      ]
    },
    {
      "cell_type": "code",
      "metadata": {
        "id": "teqn6DEQ1dpl",
        "outputId": "5cdef008-224b-469e-b620-093a2a632907",
        "colab": {
          "base_uri": "https://localhost:8080/"
        }
      },
      "source": [
        "houseData = {'YearClosed': [2020.00, 2019.00, 2019.00, 2019.00, 2019],\r\n",
        "\t'Type': ['SFH', 'SFH', 'SFH', 'Condo', 'Townhouse'],\r\n",
        "\t'Area': [2940, 1500, 1500, 1500, 1500],\r\n",
        "  'Zip': [60002, 60002, 60076, 60076, 60076],\r\n",
        "\t'Rooms': [9, 7, 7, 7, 7],\r\n",
        "  'FullBaths': [2.5, 2.5, 2.5, 2.5, 2.5],\r\n",
        "  'Beds': [4, 3, 3, 3, 3],\r\n",
        "  'GarageSpaces': [2, 2, 2, 0, 0]  }\r\n",
        "\r\n",
        "houseInfo = pd.DataFrame(houseData)\r\n",
        "ordinalData = houseInfo[ordinalColumns]\r\n",
        "houseInfo[ordinalColumns] = enc.transform(ordinalData)\r\n",
        "\r\n",
        "\r\n",
        "houseInfo =  pd.DataFrame(featureScaler.transform(houseInfo), columns=houseInfo.columns)\r\n",
        "newPrices = priceScaler.inverse_transform(model_1.predict(houseInfo))\r\n",
        "print(newPrices)\r\n",
        "\r\n",
        "\r\n",
        "\r\n"
      ],
      "execution_count": 38,
      "outputs": [
        {
          "output_type": "stream",
          "text": [
            "[[314568.53]\n",
            " [219923.77]\n",
            " [347135.53]\n",
            " [199014.89]\n",
            " [257478.86]]\n"
          ],
          "name": "stdout"
        }
      ]
    },
    {
      "cell_type": "markdown",
      "metadata": {
        "id": "fkn_lsriDlL0"
      },
      "source": [
        "## Saving a model for later use\r\n",
        "If you want to use the model with out traing, its a good idea to save it.\r\n"
      ]
    },
    {
      "cell_type": "code",
      "metadata": {
        "id": "bgR_eEr6D1Iu"
      },
      "source": [
        "keras.models.save_model(model_1, 'housePriceModel', True)\r\n",
        "! zip -r  housePriceModel *.pkl\r\n"
      ],
      "execution_count": null,
      "outputs": []
    },
    {
      "cell_type": "markdown",
      "metadata": {
        "id": "UKP7YtRQF0-w"
      },
      "source": [
        "# Loading a model\r\n",
        "Lets load the scalers, encoders and model and predict prices using the model we loaded, they should be the same as above."
      ]
    },
    {
      "cell_type": "code",
      "metadata": {
        "id": "NNqbm9mhF57n"
      },
      "source": [
        "#! unzip  /content/hpmodel.zip\r\n",
        "\r\n",
        "featureScaler2 = joblib.load('/content/my_cool_scaler.pkl')\r\n",
        "priceScaler2 = joblib.load('/content/my_cool_pxscaler.pkl')\r\n",
        "enc2 = joblib.load('/content/my_cool_encoder.pkl')  \r\n",
        "ordinalColumns = ['YearClosed', 'Type', 'Zip']\r\n",
        "model_2 = keras.models.load_model(\"housePriceModel\")\r\n"
      ],
      "execution_count": 21,
      "outputs": []
    },
    {
      "cell_type": "code",
      "metadata": {
        "id": "hvUF80hOGmOt",
        "outputId": "7f0fac99-f98a-4b8a-cf3f-8a398b8c830b",
        "colab": {
          "base_uri": "https://localhost:8080/"
        }
      },
      "source": [
        "houseData2 = {'YearClosed': [2020.00, 2019.00, 2019.00, 2019.00, 2019],\r\n",
        "\t'Type': ['SFH', 'SFH', 'SFH', 'Condo', 'Townhouse'],\r\n",
        "\t'Area': [2940, 1500, 1500, 1500, 1500],\r\n",
        "  'Zip': [60002, 60002, 60076, 60076, 60076],\r\n",
        "\t'Rooms': [9, 7, 7, 7, 7],\r\n",
        "  'FullBaths': [2.5, 2.5, 2.5, 2.5, 2.5],\r\n",
        "  'Beds': [4, 3, 3, 3, 3],\r\n",
        "  'GarageSpaces': [2, 2, 2, 0, 0]  }\r\n",
        "\r\n",
        "houseInfo2 = pd.DataFrame(houseData2)\r\n",
        "ordinalData2 = houseInfo2[ordinalColumns]\r\n",
        "houseInfo2[ordinalColumns] = enc2.transform(ordinalData)\r\n",
        "\r\n",
        "\r\n",
        "houseInfo2 =  pd.DataFrame(featureScaler2.transform(houseInfo2), columns=houseInfo2.columns)\r\n",
        "newPrices2 = priceScaler2.inverse_transform(model_2.predict(houseInfo2))\r\n",
        "print(newPrices)"
      ],
      "execution_count": 39,
      "outputs": [
        {
          "output_type": "stream",
          "text": [
            "[[314568.53]\n",
            " [219923.77]\n",
            " [347135.53]\n",
            " [199014.89]\n",
            " [257478.86]]\n"
          ],
          "name": "stdout"
        }
      ]
    },
    {
      "cell_type": "markdown",
      "metadata": {
        "id": "Fdvzav5_KmZi"
      },
      "source": [
        "# Using your model in different environments\r\n",
        "A good thing about using Tensorflow and Keras is that it is fairly easy to convert your trained model to work in a differen environment.\r\n",
        "Here we will generate a model that can be using in JavaScript."
      ]
    },
    {
      "cell_type": "code",
      "metadata": {
        "id": "a7lx_lOiJKi_",
        "outputId": "4c5c368d-c22f-4f20-9559-d0067f629e85",
        "colab": {
          "base_uri": "https://localhost:8080/"
        }
      },
      "source": [
        "! pip install tensorflowjs\r\n",
        "import tensorflowjs as tfjs\r\n",
        "\r\n",
        "tfjs.converters.save_keras_model(model_1, 'tensorFlowJs')\r\n",
        "\r\n"
      ],
      "execution_count": 32,
      "outputs": [
        {
          "output_type": "stream",
          "text": [
            "Requirement already satisfied: tensorflowjs in /usr/local/lib/python3.6/dist-packages (2.8.3)\n",
            "Requirement already satisfied: tensorflow<3,>=2.1.0 in /usr/local/lib/python3.6/dist-packages (from tensorflowjs) (2.4.0)\n",
            "Requirement already satisfied: tensorflow-hub<0.10,>=0.7.0 in /usr/local/lib/python3.6/dist-packages (from tensorflowjs) (0.9.0)\n",
            "Requirement already satisfied: six<2,>=1.12.0 in /usr/local/lib/python3.6/dist-packages (from tensorflowjs) (1.15.0)\n",
            "Requirement already satisfied: h5py<3,>=2.8.0 in /usr/local/lib/python3.6/dist-packages (from tensorflowjs) (2.10.0)\n",
            "Requirement already satisfied: astunparse~=1.6.3 in /usr/local/lib/python3.6/dist-packages (from tensorflow<3,>=2.1.0->tensorflowjs) (1.6.3)\n",
            "Requirement already satisfied: termcolor~=1.1.0 in /usr/local/lib/python3.6/dist-packages (from tensorflow<3,>=2.1.0->tensorflowjs) (1.1.0)\n",
            "Requirement already satisfied: numpy~=1.19.2 in /usr/local/lib/python3.6/dist-packages (from tensorflow<3,>=2.1.0->tensorflowjs) (1.19.5)\n",
            "Requirement already satisfied: wheel~=0.35 in /usr/local/lib/python3.6/dist-packages (from tensorflow<3,>=2.1.0->tensorflowjs) (0.36.2)\n",
            "Requirement already satisfied: opt-einsum~=3.3.0 in /usr/local/lib/python3.6/dist-packages (from tensorflow<3,>=2.1.0->tensorflowjs) (3.3.0)\n",
            "Requirement already satisfied: tensorboard~=2.4 in /usr/local/lib/python3.6/dist-packages (from tensorflow<3,>=2.1.0->tensorflowjs) (2.4.0)\n",
            "Requirement already satisfied: grpcio~=1.32.0 in /usr/local/lib/python3.6/dist-packages (from tensorflow<3,>=2.1.0->tensorflowjs) (1.32.0)\n",
            "Requirement already satisfied: gast==0.3.3 in /usr/local/lib/python3.6/dist-packages (from tensorflow<3,>=2.1.0->tensorflowjs) (0.3.3)\n",
            "Requirement already satisfied: absl-py~=0.10 in /usr/local/lib/python3.6/dist-packages (from tensorflow<3,>=2.1.0->tensorflowjs) (0.10.0)\n",
            "Requirement already satisfied: google-pasta~=0.2 in /usr/local/lib/python3.6/dist-packages (from tensorflow<3,>=2.1.0->tensorflowjs) (0.2.0)\n",
            "Requirement already satisfied: protobuf>=3.9.2 in /usr/local/lib/python3.6/dist-packages (from tensorflow<3,>=2.1.0->tensorflowjs) (3.12.4)\n",
            "Requirement already satisfied: typing-extensions~=3.7.4 in /usr/local/lib/python3.6/dist-packages (from tensorflow<3,>=2.1.0->tensorflowjs) (3.7.4.3)\n",
            "Requirement already satisfied: tensorflow-estimator<2.5.0,>=2.4.0rc0 in /usr/local/lib/python3.6/dist-packages (from tensorflow<3,>=2.1.0->tensorflowjs) (2.4.0)\n",
            "Requirement already satisfied: keras-preprocessing~=1.1.2 in /usr/local/lib/python3.6/dist-packages (from tensorflow<3,>=2.1.0->tensorflowjs) (1.1.2)\n",
            "Requirement already satisfied: flatbuffers~=1.12.0 in /usr/local/lib/python3.6/dist-packages (from tensorflow<3,>=2.1.0->tensorflowjs) (1.12)\n",
            "Requirement already satisfied: wrapt~=1.12.1 in /usr/local/lib/python3.6/dist-packages (from tensorflow<3,>=2.1.0->tensorflowjs) (1.12.1)\n",
            "Requirement already satisfied: tensorboard-plugin-wit>=1.6.0 in /usr/local/lib/python3.6/dist-packages (from tensorboard~=2.4->tensorflow<3,>=2.1.0->tensorflowjs) (1.7.0)\n",
            "Requirement already satisfied: werkzeug>=0.11.15 in /usr/local/lib/python3.6/dist-packages (from tensorboard~=2.4->tensorflow<3,>=2.1.0->tensorflowjs) (1.0.1)\n",
            "Requirement already satisfied: google-auth<2,>=1.6.3 in /usr/local/lib/python3.6/dist-packages (from tensorboard~=2.4->tensorflow<3,>=2.1.0->tensorflowjs) (1.17.2)\n",
            "Requirement already satisfied: requests<3,>=2.21.0 in /usr/local/lib/python3.6/dist-packages (from tensorboard~=2.4->tensorflow<3,>=2.1.0->tensorflowjs) (2.23.0)\n",
            "Requirement already satisfied: markdown>=2.6.8 in /usr/local/lib/python3.6/dist-packages (from tensorboard~=2.4->tensorflow<3,>=2.1.0->tensorflowjs) (3.3.3)\n",
            "Requirement already satisfied: google-auth-oauthlib<0.5,>=0.4.1 in /usr/local/lib/python3.6/dist-packages (from tensorboard~=2.4->tensorflow<3,>=2.1.0->tensorflowjs) (0.4.2)\n",
            "Requirement already satisfied: setuptools>=41.0.0 in /usr/local/lib/python3.6/dist-packages (from tensorboard~=2.4->tensorflow<3,>=2.1.0->tensorflowjs) (51.1.1)\n",
            "Requirement already satisfied: cachetools<5.0,>=2.0.0 in /usr/local/lib/python3.6/dist-packages (from google-auth<2,>=1.6.3->tensorboard~=2.4->tensorflow<3,>=2.1.0->tensorflowjs) (4.2.0)\n",
            "Requirement already satisfied: pyasn1-modules>=0.2.1 in /usr/local/lib/python3.6/dist-packages (from google-auth<2,>=1.6.3->tensorboard~=2.4->tensorflow<3,>=2.1.0->tensorflowjs) (0.2.8)\n",
            "Requirement already satisfied: rsa<5,>=3.1.4; python_version >= \"3\" in /usr/local/lib/python3.6/dist-packages (from google-auth<2,>=1.6.3->tensorboard~=2.4->tensorflow<3,>=2.1.0->tensorflowjs) (4.6)\n",
            "Requirement already satisfied: chardet<4,>=3.0.2 in /usr/local/lib/python3.6/dist-packages (from requests<3,>=2.21.0->tensorboard~=2.4->tensorflow<3,>=2.1.0->tensorflowjs) (3.0.4)\n",
            "Requirement already satisfied: urllib3!=1.25.0,!=1.25.1,<1.26,>=1.21.1 in /usr/local/lib/python3.6/dist-packages (from requests<3,>=2.21.0->tensorboard~=2.4->tensorflow<3,>=2.1.0->tensorflowjs) (1.24.3)\n",
            "Requirement already satisfied: certifi>=2017.4.17 in /usr/local/lib/python3.6/dist-packages (from requests<3,>=2.21.0->tensorboard~=2.4->tensorflow<3,>=2.1.0->tensorflowjs) (2020.12.5)\n",
            "Requirement already satisfied: idna<3,>=2.5 in /usr/local/lib/python3.6/dist-packages (from requests<3,>=2.21.0->tensorboard~=2.4->tensorflow<3,>=2.1.0->tensorflowjs) (2.10)\n",
            "Requirement already satisfied: importlib-metadata; python_version < \"3.8\" in /usr/local/lib/python3.6/dist-packages (from markdown>=2.6.8->tensorboard~=2.4->tensorflow<3,>=2.1.0->tensorflowjs) (3.3.0)\n",
            "Requirement already satisfied: requests-oauthlib>=0.7.0 in /usr/local/lib/python3.6/dist-packages (from google-auth-oauthlib<0.5,>=0.4.1->tensorboard~=2.4->tensorflow<3,>=2.1.0->tensorflowjs) (1.3.0)\n",
            "Requirement already satisfied: pyasn1<0.5.0,>=0.4.6 in /usr/local/lib/python3.6/dist-packages (from pyasn1-modules>=0.2.1->google-auth<2,>=1.6.3->tensorboard~=2.4->tensorflow<3,>=2.1.0->tensorflowjs) (0.4.8)\n",
            "Requirement already satisfied: zipp>=0.5 in /usr/local/lib/python3.6/dist-packages (from importlib-metadata; python_version < \"3.8\"->markdown>=2.6.8->tensorboard~=2.4->tensorflow<3,>=2.1.0->tensorflowjs) (3.4.0)\n",
            "Requirement already satisfied: oauthlib>=3.0.0 in /usr/local/lib/python3.6/dist-packages (from requests-oauthlib>=0.7.0->google-auth-oauthlib<0.5,>=0.4.1->tensorboard~=2.4->tensorflow<3,>=2.1.0->tensorflowjs) (3.1.0)\n"
          ],
          "name": "stdout"
        },
        {
          "output_type": "stream",
          "text": [
            "/usr/local/lib/python3.6/dist-packages/tensorflowjs/converters/keras_h5_conversion.py:123: H5pyDeprecationWarning: The default file mode will change to 'r' (read-only) in h5py 3.0. To suppress this warning, pass the mode you need to h5py.File(), or set the global default h5.get_config().default_file_mode, or set the environment variable H5PY_DEFAULT_READONLY=1. Available modes are: 'r', 'r+', 'w', 'w-'/'x', 'a'. See the docs for details.\n",
            "  return h5py.File(h5file)\n"
          ],
          "name": "stderr"
        }
      ]
    },
    {
      "cell_type": "markdown",
      "metadata": {
        "id": "IyHKBRo0qVgO"
      },
      "source": [
        "# Optional fun\r\n",
        "\r\n",
        "If we are happy with the model we can now convert and save it - I choose to save the model using Tensorflow lite to be able to run it on a small device.\r\n"
      ]
    },
    {
      "cell_type": "code",
      "metadata": {
        "id": "m-73KwwRqcmh"
      },
      "source": [
        "# Convert the model to the TensorFlow Lite format without quantization\r\n",
        "converter = tf.lite.TFLiteConverter.from_keras_model(model_1)\r\n",
        "model_no_quant_tflite = converter.convert()\r\n",
        "\r\n",
        "# Save the model to disk\r\n",
        "open(\"housePriceModelNoQuantization\", \"wb\").write(model_no_quant_tflite)\r\n"
      ],
      "execution_count": null,
      "outputs": []
    },
    {
      "cell_type": "markdown",
      "metadata": {
        "id": "ARF_86UywZNI"
      },
      "source": [
        "If you want to run the model using C on some smaller device (e.g. a Raspberry Pi) you can dump the model weightd as a C++ file.\r\n"
      ]
    },
    {
      "cell_type": "code",
      "metadata": {
        "id": "CixAdabNuCex"
      },
      "source": [
        "# Install xxd if it is not available\r\n",
        "!apt-get update && apt-get -qq install xxd\r\n",
        "# Convert to a C source file, i.e, a TensorFlow Lite for Microcontrollers model\r\n",
        "!xxd -i housePriceModelNoQuantization > model_1.cc\r\n",
        "!cat model_1.cc\r\n",
        "# Update variable names\r\n",
        "#REPLACE_TEXT = MODEL_TFLITE.replace('/', '_').replace('.', '_')\r\n",
        "#!sed -i 's/'{REPLACE_TEXT}'/g_model/g' {MODEL_TFLITE_MICRO}"
      ],
      "execution_count": null,
      "outputs": []
    }
  ]
}